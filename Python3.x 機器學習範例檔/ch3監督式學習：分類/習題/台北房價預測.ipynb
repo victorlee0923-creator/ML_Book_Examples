{
 "cells": [
  {
   "cell_type": "code",
   "execution_count": 1,
   "metadata": {},
   "outputs": [
    {
     "data": {
      "text/html": [
       "<div>\n",
       "<style scoped>\n",
       "    .dataframe tbody tr th:only-of-type {\n",
       "        vertical-align: middle;\n",
       "    }\n",
       "\n",
       "    .dataframe tbody tr th {\n",
       "        vertical-align: top;\n",
       "    }\n",
       "\n",
       "    .dataframe thead th {\n",
       "        text-align: right;\n",
       "    }\n",
       "</style>\n",
       "<table border=\"1\" class=\"dataframe\">\n",
       "  <thead>\n",
       "    <tr style=\"text-align: right;\">\n",
       "      <th></th>\n",
       "      <th>行政區</th>\n",
       "      <th>土地面積</th>\n",
       "      <th>建物總面積</th>\n",
       "      <th>屋齡</th>\n",
       "      <th>樓層</th>\n",
       "      <th>總樓層</th>\n",
       "      <th>用途</th>\n",
       "      <th>房數</th>\n",
       "      <th>廳數</th>\n",
       "      <th>衛數</th>\n",
       "      <th>電梯</th>\n",
       "      <th>車位類別</th>\n",
       "      <th>交易日期</th>\n",
       "      <th>經度</th>\n",
       "      <th>緯度</th>\n",
       "      <th>總價</th>\n",
       "    </tr>\n",
       "  </thead>\n",
       "  <tbody>\n",
       "    <tr>\n",
       "      <th>0</th>\n",
       "      <td>文山區</td>\n",
       "      <td>33.81</td>\n",
       "      <td>109.42</td>\n",
       "      <td>38.996009</td>\n",
       "      <td>3</td>\n",
       "      <td>5</td>\n",
       "      <td>0</td>\n",
       "      <td>3</td>\n",
       "      <td>2</td>\n",
       "      <td>2</td>\n",
       "      <td>0</td>\n",
       "      <td>無</td>\n",
       "      <td>2019/10/6</td>\n",
       "      <td>121.552517</td>\n",
       "      <td>25.004507</td>\n",
       "      <td>1000</td>\n",
       "    </tr>\n",
       "    <tr>\n",
       "      <th>1</th>\n",
       "      <td>文山區</td>\n",
       "      <td>32.19</td>\n",
       "      <td>163.53</td>\n",
       "      <td>23.781460</td>\n",
       "      <td>3</td>\n",
       "      <td>11</td>\n",
       "      <td>0</td>\n",
       "      <td>3</td>\n",
       "      <td>2</td>\n",
       "      <td>2</td>\n",
       "      <td>1</td>\n",
       "      <td>坡道平面</td>\n",
       "      <td>2019/4/28</td>\n",
       "      <td>121.559133</td>\n",
       "      <td>24.983199</td>\n",
       "      <td>2100</td>\n",
       "    </tr>\n",
       "    <tr>\n",
       "      <th>2</th>\n",
       "      <td>文山區</td>\n",
       "      <td>60.25</td>\n",
       "      <td>204.79</td>\n",
       "      <td>0.744711</td>\n",
       "      <td>1</td>\n",
       "      <td>10</td>\n",
       "      <td>0</td>\n",
       "      <td>3</td>\n",
       "      <td>2</td>\n",
       "      <td>3</td>\n",
       "      <td>1</td>\n",
       "      <td>無</td>\n",
       "      <td>2019/10/23</td>\n",
       "      <td>121.576052</td>\n",
       "      <td>24.988665</td>\n",
       "      <td>6720</td>\n",
       "    </tr>\n",
       "  </tbody>\n",
       "</table>\n",
       "</div>"
      ],
      "text/plain": [
       "   行政區   土地面積   建物總面積         屋齡  樓層  總樓層  用途  房數  廳數  衛數  電梯  車位類別  \\\n",
       "0  文山區  33.81  109.42  38.996009   3    5   0   3   2   2   0     無   \n",
       "1  文山區  32.19  163.53  23.781460   3   11   0   3   2   2   1  坡道平面   \n",
       "2  文山區  60.25  204.79   0.744711   1   10   0   3   2   3   1     無   \n",
       "\n",
       "         交易日期          經度         緯度    總價  \n",
       "0   2019/10/6  121.552517  25.004507  1000  \n",
       "1   2019/4/28  121.559133  24.983199  2100  \n",
       "2  2019/10/23  121.576052  24.988665  6720  "
      ]
     },
     "execution_count": 1,
     "metadata": {},
     "output_type": "execute_result"
    }
   ],
   "source": [
    "import warnings\n",
    "warnings.filterwarnings('ignore')\n",
    "import numpy as np\n",
    "import pandas as pd \n",
    "\n",
    "# 讀取台北市房價資料集\n",
    "df = pd.read_csv('Taipei_house.csv')\n",
    "df.head(3)"
   ]
  },
  {
   "cell_type": "code",
   "execution_count": 6,
   "metadata": {},
   "outputs": [
    {
     "data": {
      "text/plain": [
       "(9943, 10)"
      ]
     },
     "execution_count": 6,
     "metadata": {},
     "output_type": "execute_result"
    }
   ],
   "source": [
    "# 切分訓練集(80%)、測試集(20%)\n",
    "features = df.drop(['總價', '行政區', '用途', '電梯', '車位類別', '交易日期'], axis=1).columns\n",
    "target = '總價'\n",
    "\n",
    "from sklearn.model_selection import train_test_split\n",
    "X_train, X_test, y_train, y_test = train_test_split(df[features],\n",
    "                                                    df[target],\n",
    "                                                    test_size=0.2, \n",
    "                                                    random_state=0)\n",
    "X_train.shape"
   ]
  },
  {
   "cell_type": "code",
   "execution_count": 8,
   "metadata": {},
   "outputs": [],
   "source": [
    "from sklearn.ensemble import RandomForestRegressor\n",
    "\n",
    "reg = RandomForestRegressor(n_jobs=-1).fit(X_train, y_train)"
   ]
  },
  {
   "cell_type": "code",
   "execution_count": 11,
   "metadata": {},
   "outputs": [
    {
     "name": "stdout",
     "output_type": "stream",
     "text": [
      "Adj. R^2: 0.8935489893938299\n",
      "RMSE: 780.3590337120169\n"
     ]
    }
   ],
   "source": [
    "y_pred = reg.predict(X_test)\n",
    "\n",
    "# 計算 Adjusted R-squared\n",
    "from sklearn.metrics import r2_score\n",
    "def adj_r2(r2, n, k):\n",
    "    return r2-(k-1)/(n-k)*(1-r2)\n",
    "\n",
    "r2 = adj_r2(r2_score(y_pred, y_test), X_test.shape[0], X_test.shape[1])\n",
    "print('Adj. R^2:', r2)\n",
    "\n",
    "# 計算 RMSE\n",
    "from sklearn.metrics import mean_squared_error\n",
    "rmse = np.sqrt(mean_squared_error(y_test, y_pred))\n",
    "print('RMSE:', rmse)"
   ]
  }
 ],
 "metadata": {
  "kernelspec": {
   "display_name": "Python 3",
   "language": "python",
   "name": "python3"
  },
  "language_info": {
   "codemirror_mode": {
    "name": "ipython",
    "version": 3
   },
   "file_extension": ".py",
   "mimetype": "text/x-python",
   "name": "python",
   "nbconvert_exporter": "python",
   "pygments_lexer": "ipython3",
   "version": "3.6.5"
  }
 },
 "nbformat": 4,
 "nbformat_minor": 4
}
