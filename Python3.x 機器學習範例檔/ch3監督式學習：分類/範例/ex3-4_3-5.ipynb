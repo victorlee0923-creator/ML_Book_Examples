{
 "cells": [
  {
   "cell_type": "markdown",
   "metadata": {},
   "source": [
    "# Ch 3. 監督式學習：分類\n",
    "## 3-4. 支援向量機\n",
    "[3-4-1. 線性支援向量機](#sec3_4_1)  \n",
    "[3-4-2. 加入核函數處理非線性分類](#sec3_4_2)\n",
    "\n",
    "## 3-5. 樸素貝氏分類器\n",
    "[3-5. 樸素貝氏分類器](#sec3_5)\n",
    "***"
   ]
  },
  {
   "cell_type": "markdown",
   "metadata": {},
   "source": [
    "<a id='sec3_4_1'></a>\n",
    "## 3-4-1. 線性支援向量機"
   ]
  },
  {
   "cell_type": "code",
   "execution_count": 1,
   "metadata": {},
   "outputs": [
    {
     "name": "stdout",
     "output_type": "stream",
     "text": [
      "              precision    recall  f1-score   support\n",
      "\n",
      "           0       0.54      0.55      0.54        95\n",
      "           1       0.66      0.65      0.66       129\n",
      "\n",
      "    accuracy                           0.61       224\n",
      "   macro avg       0.60      0.60      0.60       224\n",
      "weighted avg       0.61      0.61      0.61       224\n",
      "\n"
     ]
    }
   ],
   "source": [
    "import pandas as pd\n",
    "from sklearn.model_selection import train_test_split\n",
    "from sklearn.preprocessing import StandardScaler\n",
    "from sklearn.svm import LinearSVC\n",
    "\n",
    "df = pd.read_csv('Pokemon_894_13.csv')\n",
    "df['hasType2'] = df['Type2'].notnull().astype(int)\n",
    "X, y = df.loc[:, 'HP':'Speed'], df['hasType2']\n",
    "X_train, X_test, y_train, y_test = train_test_split(X, y, random_state=0)\n",
    "\n",
    "scale = StandardScaler().fit(X_train)\n",
    "X_train_std = scale.transform(X_train)\n",
    "X_test_std = scale.transform(X_test)\n",
    "\n",
    "# 建立 SVM 分類器，設定最大回合數以增加收斂機會\n",
    "svm = LinearSVC(max_iter=1500)\n",
    "svm.fit(X_train_std, y_train)\n",
    "\n",
    "from sklearn.metrics import classification_report\n",
    "# 產生分類報告\n",
    "y_pred = svm.predict(X_test_std)\n",
    "print(classification_report(y_test, y_pred))"
   ]
  },
  {
   "cell_type": "markdown",
   "metadata": {},
   "source": [
    "<a id='sec3_4_2'></a>\n",
    "## 3-4-1. 加入核函數處理非線性分類"
   ]
  },
  {
   "cell_type": "code",
   "execution_count": 2,
   "metadata": {},
   "outputs": [
    {
     "name": "stdout",
     "output_type": "stream",
     "text": [
      "              precision    recall  f1-score   support\n",
      "\n",
      "           0       0.55      0.55      0.55        95\n",
      "           1       0.67      0.67      0.67       129\n",
      "\n",
      "    accuracy                           0.62       224\n",
      "   macro avg       0.61      0.61      0.61       224\n",
      "weighted avg       0.62      0.62      0.62       224\n",
      "\n"
     ]
    }
   ],
   "source": [
    "from sklearn.svm import SVC\n",
    "\n",
    "svm = SVC(kernel='rbf', C=5, gamma=.01, probability=True)\n",
    "svm.fit(X_train_std, y_train)\n",
    "y_pred = svm.predict(X_test_std)\n",
    "print(classification_report(y_test, y_pred))"
   ]
  },
  {
   "cell_type": "code",
   "execution_count": 3,
   "metadata": {},
   "outputs": [
    {
     "name": "stdout",
     "output_type": "stream",
     "text": [
      "[1]\n"
     ]
    },
    {
     "data": {
      "text/plain": [
       "array([[0.43968598, 0.56031402]])"
      ]
     },
     "execution_count": 3,
     "metadata": {},
     "output_type": "execute_result"
    }
   ],
   "source": [
    "# 未知寶可夢的屬性\n",
    "new_poke = [[120, 50, 80, 100, 150, 90]]\n",
    "new_poke_std = scale.transform(new_poke)\n",
    "# 預測是否有雙屬性\n",
    "print(svm.predict(new_poke_std))\n",
    "# 檢視預測機率\n",
    "svm.predict_proba(new_poke_std)"
   ]
  },
  {
   "cell_type": "code",
   "execution_count": 4,
   "metadata": {},
   "outputs": [
    {
     "name": "stdout",
     "output_type": "stream",
     "text": [
      "支援向量數目： 592\n",
      "支援向量的索引值： [ 3  4  5  6 10]\n"
     ]
    },
    {
     "data": {
      "text/plain": [
       "array([[-0.37405999, -0.47353542,  0.19932389, -0.2076741 ,  0.31555353,\n",
       "        -0.32148304],\n",
       "       [ 0.60433716, -0.17166222, -0.12505553,  0.03957894,  1.59202932,\n",
       "        -0.01581563]])"
      ]
     },
     "execution_count": 4,
     "metadata": {},
     "output_type": "execute_result"
    }
   ],
   "source": [
    "# 查看支援向量\n",
    "print('支援向量數目：', svm.support_vectors_.shape[0])\n",
    "print('支援向量的索引值：', svm.support_[:5])\n",
    "svm.support_vectors_[:2, :]"
   ]
  },
  {
   "cell_type": "code",
   "execution_count": 5,
   "metadata": {},
   "outputs": [
    {
     "name": "stdout",
     "output_type": "stream",
     "text": [
      "數量比=> 神獸:非神獸 = 79:815\n"
     ]
    }
   ],
   "source": [
    "df['Legendary'] = df['Legendary'].astype(int)\n",
    "n_legend = df['Legendary'].sum()\n",
    "n_not_legend = df.shape[0] - n_legend\n",
    "print('數量比=> 神獸:非神獸 = {}:{}'.format(n_legend,n_not_legend))"
   ]
  },
  {
   "cell_type": "code",
   "execution_count": 6,
   "metadata": {},
   "outputs": [
    {
     "name": "stdout",
     "output_type": "stream",
     "text": [
      "              precision    recall  f1-score   support\n",
      "\n",
      "           0       0.92      0.98      0.95       197\n",
      "           1       0.79      0.41      0.54        27\n",
      "\n",
      "    accuracy                           0.92       224\n",
      "   macro avg       0.85      0.70      0.74       224\n",
      "weighted avg       0.91      0.92      0.90       224\n",
      "\n"
     ]
    }
   ],
   "source": [
    "# 預測是否為神獸\n",
    "X, y = df.loc[:, 'HP':'Speed'], df['Legendary']\n",
    "X_train, X_test, y_train, y_test = train_test_split(X, y, random_state=0)\n",
    "\n",
    "scale = StandardScaler().fit(X_train)\n",
    "X_train_std = scale.transform(X_train)\n",
    "X_test_std = scale.transform(X_test)\n",
    "\n",
    "svm = SVC(kernel='rbf')\n",
    "svm.fit(X_train_std, y_train)\n",
    "y_pred = svm.predict(X_test_std)\n",
    "print(classification_report(y_test, y_pred))"
   ]
  },
  {
   "cell_type": "code",
   "execution_count": 7,
   "metadata": {},
   "outputs": [
    {
     "name": "stdout",
     "output_type": "stream",
     "text": [
      "              precision    recall  f1-score   support\n",
      "\n",
      "           0       0.99      0.92      0.95       197\n",
      "           1       0.61      0.93      0.74        27\n",
      "\n",
      "    accuracy                           0.92       224\n",
      "   macro avg       0.80      0.92      0.84       224\n",
      "weighted avg       0.94      0.92      0.93       224\n",
      "\n"
     ]
    }
   ],
   "source": [
    "# 加上平衡類別的考量\n",
    "svm = SVC(kernel='rbf', class_weight='balanced')\n",
    "svm.fit(X_train_std, y_train)\n",
    "y_pred = svm.predict(X_test_std)\n",
    "print(classification_report(y_test, y_pred))"
   ]
  },
  {
   "cell_type": "markdown",
   "metadata": {},
   "source": [
    "<a id='sec3_5'></a>\n",
    "## 3-5 樸素貝氏分類器"
   ]
  },
  {
   "cell_type": "code",
   "execution_count": 8,
   "metadata": {},
   "outputs": [
    {
     "name": "stdout",
     "output_type": "stream",
     "text": [
      "0.6875\n"
     ]
    }
   ],
   "source": [
    "from sklearn.naive_bayes import GaussianNB\n",
    "from sklearn.metrics import f1_score\n",
    "\n",
    "clf = GaussianNB()\n",
    "clf.fit(X_train, y_train)\n",
    "y_pred = clf.predict(X_test)\n",
    "print(f1_score(y_test, y_pred))"
   ]
  },
  {
   "cell_type": "code",
   "execution_count": 9,
   "metadata": {},
   "outputs": [
    {
     "name": "stdout",
     "output_type": "stream",
     "text": [
      "[0]\n"
     ]
    }
   ],
   "source": [
    "# 未知寶可夢的屬性\n",
    "new_poke = [[120, 50, 80, 100, 150, 90]]\n",
    "print(clf.predict(new_poke_std))"
   ]
  },
  {
   "cell_type": "code",
   "execution_count": 10,
   "metadata": {},
   "outputs": [
    {
     "name": "stdout",
     "output_type": "stream",
     "text": [
      "0.5416666666666667\n"
     ]
    }
   ],
   "source": [
    "# 假設類別的機率分布，預設為原始訓練數據的分布\n",
    "clf = GaussianNB(priors=[0.4, 0.6])\n",
    "clf.fit(X_train, y_train)\n",
    "y_pred = clf.predict(X_test)\n",
    "print(f1_score(y_test, y_pred))"
   ]
  },
  {
   "cell_type": "code",
   "execution_count": 11,
   "metadata": {},
   "outputs": [
    {
     "name": "stdout",
     "output_type": "stream",
     "text": [
      "[2]\n"
     ]
    }
   ],
   "source": [
    "from sklearn.naive_bayes import MultinomialNB\n",
    "\n",
    "X, y = df.loc[:, 'HP':'Speed'], df['Generation']\n",
    "clf = MultinomialNB().fit(X, y)\n",
    "print(clf.predict(new_poke))"
   ]
  },
  {
   "cell_type": "code",
   "execution_count": null,
   "metadata": {},
   "outputs": [],
   "source": []
  }
 ],
 "metadata": {
  "kernelspec": {
   "display_name": "Python 3",
   "language": "python",
   "name": "python3"
  },
  "language_info": {
   "codemirror_mode": {
    "name": "ipython",
    "version": 3
   },
   "file_extension": ".py",
   "mimetype": "text/x-python",
   "name": "python",
   "nbconvert_exporter": "python",
   "pygments_lexer": "ipython3",
   "version": "3.7.6"
  }
 },
 "nbformat": 4,
 "nbformat_minor": 4
}
