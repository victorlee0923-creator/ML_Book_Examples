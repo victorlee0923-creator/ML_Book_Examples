{
 "cells": [
  {
   "cell_type": "markdown",
   "metadata": {},
   "source": [
    "# Ch 3. 監督式學習：分類\n",
    "## 3-3. 評估分類器的效能\n",
    " - [訓練邏輯斯迴歸模型](#sec1)  \n",
    " - [加入正規化](#sec2)\n",
    "***"
   ]
  },
  {
   "cell_type": "code",
   "execution_count": 1,
   "metadata": {},
   "outputs": [
    {
     "data": {
      "image/png": "[encoded data removed]",
      "text/plain": [
       "<Figure size 432x288 with 1 Axes>"
      ]
     },
     "metadata": {},
     "output_type": "display_data"
    }
   ],
   "source": [
    "import numpy as np\n",
    "import matplotlib.pyplot as plt\n",
    "plt.style.use('fivethirtyeight')\n",
    "\n",
    "def sigmoid(z):\n",
    "    return 1./(1.+np.exp(-z))\n",
    "\n",
    "z = np.linspace(-7, 7, 100)\n",
    "plt.plot(z, sigmoid(z))\n",
    "plt.axvline(0., color='black', ls='--', lw=2)\n",
    "plt.xlabel('$z$')\n",
    "plt.ylabel('sigmoid($z$)')\n",
    "plt.ylim(-0.1, 1.1)\n",
    "plt.yticks([0., 0.5, 1.]);"
   ]
  },
  {
   "cell_type": "markdown",
   "metadata": {},
   "source": [
    "<a id='sec1'></a>\n",
    "## 訓練邏輯斯迴歸模型"
   ]
  },
  {
   "cell_type": "code",
   "execution_count": 2,
   "metadata": {},
   "outputs": [
    {
     "name": "stdout",
     "output_type": "stream",
     "text": [
      "雙屬性的數量： 473\n",
      "單屬性的數量： 421\n"
     ]
    },
    {
     "data": {
      "text/html": [
       "<div>\n",
       "<style scoped>\n",
       "    .dataframe tbody tr th:only-of-type {\n",
       "        vertical-align: middle;\n",
       "    }\n",
       "\n",
       "    .dataframe tbody tr th {\n",
       "        vertical-align: top;\n",
       "    }\n",
       "\n",
       "    .dataframe thead th {\n",
       "        text-align: right;\n",
       "    }\n",
       "</style>\n",
       "<table border=\"1\" class=\"dataframe\">\n",
       "  <thead>\n",
       "    <tr style=\"text-align: right;\">\n",
       "      <th></th>\n",
       "      <th>Number</th>\n",
       "      <th>Name</th>\n",
       "      <th>Type1</th>\n",
       "      <th>Type2</th>\n",
       "      <th>HP</th>\n",
       "      <th>Attack</th>\n",
       "      <th>Defense</th>\n",
       "      <th>SpecialAtk</th>\n",
       "      <th>SpecialDef</th>\n",
       "      <th>Speed</th>\n",
       "      <th>Generation</th>\n",
       "      <th>Legendary</th>\n",
       "      <th>hasType2</th>\n",
       "    </tr>\n",
       "  </thead>\n",
       "  <tbody>\n",
       "    <tr>\n",
       "      <th>891</th>\n",
       "      <td>805</td>\n",
       "      <td>壘磊石</td>\n",
       "      <td>Rock</td>\n",
       "      <td>Steel</td>\n",
       "      <td>61</td>\n",
       "      <td>131</td>\n",
       "      <td>211</td>\n",
       "      <td>53</td>\n",
       "      <td>101</td>\n",
       "      <td>13</td>\n",
       "      <td>7</td>\n",
       "      <td>False</td>\n",
       "      <td>1</td>\n",
       "    </tr>\n",
       "    <tr>\n",
       "      <th>892</th>\n",
       "      <td>806</td>\n",
       "      <td>砰頭小丑</td>\n",
       "      <td>Fire</td>\n",
       "      <td>Ghost</td>\n",
       "      <td>53</td>\n",
       "      <td>127</td>\n",
       "      <td>53</td>\n",
       "      <td>151</td>\n",
       "      <td>79</td>\n",
       "      <td>107</td>\n",
       "      <td>7</td>\n",
       "      <td>False</td>\n",
       "      <td>1</td>\n",
       "    </tr>\n",
       "    <tr>\n",
       "      <th>893</th>\n",
       "      <td>807</td>\n",
       "      <td>捷拉奧拉</td>\n",
       "      <td>Electric</td>\n",
       "      <td>NaN</td>\n",
       "      <td>88</td>\n",
       "      <td>112</td>\n",
       "      <td>75</td>\n",
       "      <td>102</td>\n",
       "      <td>80</td>\n",
       "      <td>143</td>\n",
       "      <td>7</td>\n",
       "      <td>False</td>\n",
       "      <td>0</td>\n",
       "    </tr>\n",
       "  </tbody>\n",
       "</table>\n",
       "</div>"
      ],
      "text/plain": [
       "     Number  Name     Type1  Type2  HP  Attack  Defense  SpecialAtk  \\\n",
       "891     805   壘磊石      Rock  Steel  61     131      211          53   \n",
       "892     806  砰頭小丑      Fire  Ghost  53     127       53         151   \n",
       "893     807  捷拉奧拉  Electric    NaN  88     112       75         102   \n",
       "\n",
       "     SpecialDef  Speed  Generation  Legendary  hasType2  \n",
       "891         101     13           7      False         1  \n",
       "892          79    107           7      False         1  \n",
       "893          80    143           7      False         0  "
      ]
     },
     "execution_count": 2,
     "metadata": {},
     "output_type": "execute_result"
    }
   ],
   "source": [
    "import pandas as pd\n",
    "\n",
    "df = pd.read_csv('Pokemon_894_13.csv')\n",
    "df['hasType2'] = df['Type2'].notnull().astype(int)\n",
    "print('雙屬性的數量：', df['hasType2'].sum())\n",
    "print('單屬性的數量：', df.shape[0]-df['hasType2'].sum())\n",
    "df.tail(3)"
   ]
  },
  {
   "cell_type": "code",
   "execution_count": 3,
   "metadata": {},
   "outputs": [
    {
     "name": "stdout",
     "output_type": "stream",
     "text": [
      "|雙屬性|/|訓練集| = 0.5134328358208955\n",
      "|雙屬性|/|測試集| = 0.5758928571428571\n"
     ]
    },
    {
     "data": {
      "text/plain": [
       "0.6026785714285714"
      ]
     },
     "execution_count": 3,
     "metadata": {},
     "output_type": "execute_result"
    }
   ],
   "source": [
    "from sklearn.linear_model import LogisticRegression\n",
    "from sklearn.model_selection import train_test_split\n",
    "\n",
    "X, y = df.loc[:, 'HP':'Speed'], df['hasType2']\n",
    "X_train, X_test, y_train, y_test = train_test_split(X, y, random_state=0)\n",
    "print('|雙屬性|/|訓練集| =', y_train.sum()/y_train.size)\n",
    "print('|雙屬性|/|測試集| =', y_test.sum()/y_test.size)\n",
    "\n",
    "logit = LogisticRegression()\n",
    "logit.fit(X_train, y_train)\n",
    "logit.score(X_test, y_test)"
   ]
  },
  {
   "cell_type": "code",
   "execution_count": 4,
   "metadata": {},
   "outputs": [
    {
     "data": {
      "image/png": "[encoded data removed]",
      "text/plain": [
       "<Figure size 432x288 with 2 Axes>"
      ]
     },
     "metadata": {},
     "output_type": "display_data"
    }
   ],
   "source": [
    "from sklearn.metrics import plot_confusion_matrix\n",
    "\n",
    "# 類別標籤\n",
    "class_names = ['YES ', 'NO']\n",
    "disp = plot_confusion_matrix(logit, X_test, y_test, \n",
    "                             display_labels=class_names, \n",
    "                             cmap=plt.cm.Blues)\n",
    "disp.ax_.set_title('Confuse Matrix without normalization')\n",
    "plt.grid()"
   ]
  },
  {
   "cell_type": "code",
   "execution_count": 5,
   "metadata": {},
   "outputs": [
    {
     "name": "stdout",
     "output_type": "stream",
     "text": [
      "[0.51111111 0.71111111 0.55555556 0.57777778 0.54545455] \n",
      " 0.5802020202020202\n"
     ]
    }
   ],
   "source": [
    "from sklearn.model_selection import cross_val_score\n",
    "\n",
    "# 進行 k 次交叉驗證(default k=5)\n",
    "cvs = cross_val_score(logit, X_test, y_test, scoring='accuracy')\n",
    "print(cvs, '\\n', cvs.mean())"
   ]
  },
  {
   "cell_type": "code",
   "execution_count": 6,
   "metadata": {},
   "outputs": [
    {
     "name": "stdout",
     "output_type": "stream",
     "text": [
      "[0.62068966 0.77966102 0.61538462 0.6779661  0.61538462] \n",
      " 0.6618172009171425\n"
     ]
    }
   ],
   "source": [
    "cvs = cross_val_score(logit, X_test, y_test, scoring='f1')\n",
    "print(cvs, '\\n', cvs.mean())"
   ]
  },
  {
   "cell_type": "markdown",
   "metadata": {},
   "source": [
    "scikit-learn 提供的F1分數有以下幾種：\n",
    "- f1: 二元分類使用\n",
    "- f1_macro: 計算每個分類F1分數的平均，每個類別的權重相等\n",
    "- f1_weighted: 計算每個分類F1分數的平均，類別權重依該類別大小而定\n",
    "- f1_micro: 不區分類別，直接使用整體的精確度與召回率按公式計算"
   ]
  },
  {
   "cell_type": "code",
   "execution_count": 7,
   "metadata": {},
   "outputs": [
    {
     "name": "stdout",
     "output_type": "stream",
     "text": [
      "              precision    recall  f1-score   support\n",
      "\n",
      "           0       0.53      0.54      0.53        95\n",
      "           1       0.66      0.65      0.65       129\n",
      "\n",
      "    accuracy                           0.60       224\n",
      "   macro avg       0.59      0.59      0.59       224\n",
      "weighted avg       0.60      0.60      0.60       224\n",
      "\n"
     ]
    }
   ],
   "source": [
    "from sklearn.metrics import classification_report\n",
    "\n",
    "# 產生分類報告\n",
    "y_pred = logit.predict(X_test)\n",
    "print(classification_report(y_test, y_pred))"
   ]
  },
  {
   "cell_type": "code",
   "execution_count": 8,
   "metadata": {},
   "outputs": [
    {
     "name": "stdout",
     "output_type": "stream",
     "text": [
      "              precision    recall  f1-score   support\n",
      "\n",
      "           0       0.58      0.20      0.30        95\n",
      "           1       0.60      0.89      0.72       129\n",
      "\n",
      "    accuracy                           0.60       224\n",
      "   macro avg       0.59      0.55      0.51       224\n",
      "weighted avg       0.59      0.60      0.54       224\n",
      "\n"
     ]
    }
   ],
   "source": [
    "# 依預測機率調整輸出的類別\n",
    "prob = logit.predict_proba(X_test)\n",
    "\n",
    "# 設定機率門檻值，傾向預測為類別1\n",
    "y_pred2 = [0 if p[0] > 0.6 else 1 for p in prob]\n",
    "print(classification_report(y_test, y_pred2))"
   ]
  },
  {
   "cell_type": "markdown",
   "metadata": {},
   "source": [
    "<a id='sec2'></a>\n",
    "## 訓練邏輯斯迴歸模型"
   ]
  },
  {
   "cell_type": "code",
   "execution_count": 9,
   "metadata": {},
   "outputs": [
    {
     "name": "stdout",
     "output_type": "stream",
     "text": [
      "最佳 C 值： [0.35938137]\n",
      "              precision    recall  f1-score   support\n",
      "\n",
      "           0       0.54      0.56      0.55        95\n",
      "           1       0.67      0.65      0.66       129\n",
      "\n",
      "    accuracy                           0.61       224\n",
      "   macro avg       0.60      0.60      0.60       224\n",
      "weighted avg       0.61      0.61      0.61       224\n",
      "\n"
     ]
    }
   ],
   "source": [
    "from sklearn.linear_model import LogisticRegressionCV\n",
    "from sklearn.preprocessing import StandardScaler\n",
    "\n",
    "# 先做標準化\n",
    "scalar = StandardScaler().fit(X_train)\n",
    "X_train_std = scalar.transform(X_train)\n",
    "X_test_std = scalar.transform(X_test)\n",
    "\n",
    "# 預設從 1e-4 ~ 1e4 間產生 10 個 C 值進行交叉驗證\n",
    "clf = LogisticRegressionCV(Cs=10, cv=5, penalty='l2')\n",
    "clf.fit(X_train_std, y_train)\n",
    "print('最佳 C 值：', clf.C_)\n",
    "y_pred = clf.predict(X_test_std)\n",
    "print(classification_report(y_test, y_pred))"
   ]
  },
  {
   "cell_type": "code",
   "execution_count": null,
   "metadata": {},
   "outputs": [],
   "source": []
  }
 ],
 "metadata": {
  "kernelspec": {
   "display_name": "Python 3",
   "language": "python",
   "name": "python3"
  },
  "language_info": {
   "codemirror_mode": {
    "name": "ipython",
    "version": 3
   },
   "file_extension": ".py",
   "mimetype": "text/x-python",
   "name": "python",
   "nbconvert_exporter": "python",
   "pygments_lexer": "ipython3",
   "version": "3.7.6"
  }
 },
 "nbformat": 4,
 "nbformat_minor": 4
}
