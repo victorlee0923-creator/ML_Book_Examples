{
 "cells": [
  {
   "cell_type": "markdown",
   "metadata": {},
   "source": [
    "# Ch 3. 監督式學習：分類\n",
    "## 3-2. 評估分類器的效能\n",
    " - [OvR vs OvO](#sec1)  \n",
    " - [分類結果的可靠度](#sec2)\n",
    "***"
   ]
  },
  {
   "cell_type": "markdown",
   "metadata": {},
   "source": [
    "<a id='sec1'></a>\n",
    "## OvR vs OvO"
   ]
  },
  {
   "cell_type": "code",
   "execution_count": 1,
   "metadata": {},
   "outputs": [
    {
     "data": {
      "text/plain": [
       "array([[5.9, 3. , 4.2, 1.5],\n",
       "       [5.8, 2.6, 4. , 1.2]])"
      ]
     },
     "execution_count": 1,
     "metadata": {},
     "output_type": "execute_result"
    }
   ],
   "source": [
    "import numpy as np\n",
    "from sklearn import datasets\n",
    "from sklearn.model_selection import train_test_split\n",
    "\n",
    "X, y = datasets.load_iris(return_X_y=True)\n",
    "X_train, X_test, y_train, y_test = train_test_split(X, y, random_state=0)\n",
    "X_train[:2, :]"
   ]
  },
  {
   "cell_type": "code",
   "execution_count": 2,
   "metadata": {},
   "outputs": [
    {
     "data": {
      "text/plain": [
       "0.9473684210526315"
      ]
     },
     "execution_count": 2,
     "metadata": {},
     "output_type": "execute_result"
    }
   ],
   "source": [
    "from sklearn.linear_model import LogisticRegression\n",
    "\n",
    "# 建立邏輯斯迴歸模型(預設為 OvR 策略)\n",
    "logit = LogisticRegression()\n",
    "logit.fit(X_train, y_train)\n",
    "logit.score(X_test, y_test)"
   ]
  },
  {
   "cell_type": "code",
   "execution_count": 3,
   "metadata": {},
   "outputs": [
    {
     "name": "stdout",
     "output_type": "stream",
     "text": [
      "OvR: 0.9473684210526315\n",
      "OvO: 0.9736842105263158\n"
     ]
    }
   ],
   "source": [
    "from sklearn.multiclass import OneVsRestClassifier, OneVsOneClassifier\n",
    "logit = LogisticRegression()\n",
    "\n",
    "# OvR策略應用二元分類器到多元分類，初始化需傳入分類的模型\n",
    "ovr = OneVsRestClassifier(logit)\n",
    "ovr.fit(X_train, y_train)\n",
    "print('OvR:', ovr.score(X_test, y_test))\n",
    "\n",
    "# OvO策略應用二元分類器到多元分類，初始化需傳入分類的模型\n",
    "ovo = OneVsOneClassifier(logit, n_jobs=-1)\n",
    "ovo.fit(X_train, y_train)\n",
    "print('OvO:', ovo.score(X_test, y_test))"
   ]
  },
  {
   "cell_type": "code",
   "execution_count": 4,
   "metadata": {},
   "outputs": [
    {
     "data": {
      "text/plain": [
       "0.9736842105263158"
      ]
     },
     "execution_count": 4,
     "metadata": {},
     "output_type": "execute_result"
    }
   ],
   "source": [
    "# 邏輯斯迴歸，多元分類方式採多項分布(multinomial)\n",
    "lr2 = LogisticRegression(multi_class=\"multinomial\", \n",
    "                         solver=\"newton-cg\")\n",
    "lr2.fit(X_train, y_train)\n",
    "lr2.score(X_test, y_test)"
   ]
  },
  {
   "cell_type": "markdown",
   "metadata": {},
   "source": [
    "<a id='sec2'></a>\n",
    "## 分類結果的可靠度"
   ]
  },
  {
   "cell_type": "code",
   "execution_count": 5,
   "metadata": {},
   "outputs": [
    {
     "name": "stdout",
     "output_type": "stream",
     "text": [
      "Descision function:\n",
      " [[ -7.13694157  -0.92795879   2.38161731]\n",
      " [ -4.0117161    0.92198955  -3.19335692]\n",
      " [  4.2153921   -3.44990648 -12.61342745]\n",
      " [ -9.7981228   -0.16248219   3.92061648]\n",
      " [  3.5833002   -1.7514933  -11.81133027]\n",
      " [ -9.0242711   -1.54802525   4.64420162]]\n"
     ]
    }
   ],
   "source": [
    "lr = LogisticRegression(multi_class='ovr')\n",
    "lr.fit(X_train, y_train)\n",
    "\n",
    "print('Descision function:\\n', \n",
    "      lr.decision_function(X_test)[:6, :])"
   ]
  },
  {
   "cell_type": "code",
   "execution_count": 6,
   "metadata": {},
   "outputs": [
    {
     "name": "stdout",
     "output_type": "stream",
     "text": [
      "Predicted Prob.:\n",
      " [[6.62373131e-04 2.36204755e-01 7.63132872e-01]\n",
      " [2.30124494e-02 9.25972506e-01 5.10150451e-02]\n",
      " [9.69716326e-01 3.02803998e-02 3.27391545e-06]\n",
      " [3.85761023e-05 3.19057501e-01 6.80903922e-01]\n",
      " [8.68074646e-01 1.31918734e-01 6.62003188e-06]\n",
      " [1.03292902e-04 1.50408837e-01 8.49487870e-01]]\n"
     ]
    }
   ],
   "source": [
    "print('Predicted Prob.:\\n', lr.predict_proba(X_test)[:6, :])"
   ]
  },
  {
   "cell_type": "code",
   "execution_count": 7,
   "metadata": {},
   "outputs": [
    {
     "name": "stdout",
     "output_type": "stream",
     "text": [
      "[2 1 0 2 0 2]\n",
      "['virginica' 'versicolor' 'setosa' 'virginica' 'setosa' 'virginica']\n"
     ]
    }
   ],
   "source": [
    "iris = datasets.load_iris()\n",
    "print(lr.predict(X_test)[:6])\n",
    "print(iris.target_names[lr.predict(X_test)][:6])"
   ]
  },
  {
   "cell_type": "code",
   "execution_count": null,
   "metadata": {},
   "outputs": [],
   "source": []
  }
 ],
 "metadata": {
  "kernelspec": {
   "display_name": "Python 3",
   "language": "python",
   "name": "python3"
  },
  "language_info": {
   "codemirror_mode": {
    "name": "ipython",
    "version": 3
   },
   "file_extension": ".py",
   "mimetype": "text/x-python",
   "name": "python",
   "nbconvert_exporter": "python",
   "pygments_lexer": "ipython3",
   "version": "3.7.6"
  }
 },
 "nbformat": 4,
 "nbformat_minor": 4
}
