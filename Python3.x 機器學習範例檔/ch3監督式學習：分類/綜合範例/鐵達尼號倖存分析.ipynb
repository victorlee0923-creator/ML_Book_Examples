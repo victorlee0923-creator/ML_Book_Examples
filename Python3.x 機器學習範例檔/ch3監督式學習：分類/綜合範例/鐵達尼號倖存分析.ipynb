{
 "cells": [
  {
   "cell_type": "code",
   "execution_count": 22,
   "metadata": {},
   "outputs": [
    {
     "name": "stdout",
     "output_type": "stream",
     "text": [
      "raw data\n",
      "<class 'pandas.core.frame.DataFrame'>\n",
      "RangeIndex: 1313 entries, 0 to 1312\n",
      "Data columns (total 7 columns):\n",
      " #   Column       Non-Null Count  Dtype  \n",
      "---  ------       --------------  -----  \n",
      " 0   PassengerId  1313 non-null   int64  \n",
      " 1   Name         1313 non-null   object \n",
      " 2   PClass       1313 non-null   object \n",
      " 3   Age          756 non-null    float64\n",
      " 4   Sex          1313 non-null   object \n",
      " 5   Survived     1313 non-null   int64  \n",
      " 6   SexCode      1313 non-null   int64  \n",
      "dtypes: float64(1), int64(3), object(3)\n",
      "memory usage: 71.9+ KB\n"
     ]
    }
   ],
   "source": [
    "import pandas as pd\n",
    "import numpy as np\n",
    "from sklearn import preprocessing, linear_model\n",
    "\n",
    "# 原始資料\n",
    "titanic = pd.read_csv(\"titanic.csv\")\n",
    "print('raw data')\n",
    "titanic.info()"
   ]
  },
  {
   "cell_type": "code",
   "execution_count": 23,
   "metadata": {},
   "outputs": [
    {
     "name": "stdout",
     "output_type": "stream",
     "text": [
      "年齡中位數= 28.0\n"
     ]
    }
   ],
   "source": [
    "# 將年齡的空值填入年齡的中位數\n",
    "age_median = np.nanmedian(titanic['Age'])\n",
    "print('年齡中位數=', age_median)\n",
    "titanic.loc[titanic.Age.isnull(), 'Age'] = age_median"
   ]
  },
  {
   "cell_type": "code",
   "execution_count": 26,
   "metadata": {},
   "outputs": [
    {
     "name": "stdout",
     "output_type": "stream",
     "text": [
      "<class 'pandas.core.frame.DataFrame'>\n",
      "RangeIndex: 1313 entries, 0 to 1312\n",
      "Data columns (total 8 columns):\n",
      " #   Column       Non-Null Count  Dtype  \n",
      "---  ------       --------------  -----  \n",
      " 0   PassengerId  1313 non-null   int64  \n",
      " 1   Name         1313 non-null   object \n",
      " 2   PClass       1313 non-null   object \n",
      " 3   Age          1313 non-null   float64\n",
      " 4   Sex          1313 non-null   object \n",
      " 5   Survived     1313 non-null   int64  \n",
      " 6   SexCode      1313 non-null   int64  \n",
      " 7   enc_PClass   1313 non-null   int32  \n",
      "dtypes: float64(1), int32(1), int64(3), object(3)\n",
      "memory usage: 77.1+ KB\n"
     ]
    }
   ],
   "source": [
    "# 將 PClass 欄位值內容轉換成為數值\n",
    "enc = preprocessing.LabelEncoder()\n",
    "titanic['enc_PClass'] = enc.fit_transform(titanic['PClass'])\n",
    "titanic.info()"
   ]
  },
  {
   "cell_type": "code",
   "execution_count": 30,
   "metadata": {},
   "outputs": [
    {
     "name": "stdout",
     "output_type": "stream",
     "text": [
      "截距= [1.99663426]\n",
      "迴歸係數= [[-1.1832979  -0.03499218  2.3834008 ]]\n"
     ]
    }
   ],
   "source": [
    "X = titanic[['enc_PClass', 'Age', 'SexCode']]\n",
    "y = titanic['Survived']\n",
    "\n",
    "logit = linear_model.LogisticRegression()\n",
    "logit.fit(X, y)\n",
    "print('截距=', logit.intercept_ )\n",
    "print('迴歸係數=', logit.coef_)"
   ]
  },
  {
   "cell_type": "code",
   "execution_count": 34,
   "metadata": {},
   "outputs": [
    {
     "name": "stdout",
     "output_type": "stream",
     "text": [
      "0.8149\n"
     ]
    }
   ],
   "source": [
    "# 計算準確度\n",
    "print('%.4f' % logit.score(X, y))"
   ]
  }
 ],
 "metadata": {
  "kernelspec": {
   "display_name": "Python 3",
   "language": "python",
   "name": "python3"
  },
  "language_info": {
   "codemirror_mode": {
    "name": "ipython",
    "version": 3
   },
   "file_extension": ".py",
   "mimetype": "text/x-python",
   "name": "python",
   "nbconvert_exporter": "python",
   "pygments_lexer": "ipython3",
   "version": "3.6.5"
  }
 },
 "nbformat": 4,
 "nbformat_minor": 4
}
