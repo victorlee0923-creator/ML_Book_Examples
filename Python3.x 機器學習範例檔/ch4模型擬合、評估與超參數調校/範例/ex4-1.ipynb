{
 "cells": [
  {
   "cell_type": "markdown",
   "metadata": {},
   "source": [
    "# Ch 4. 模型擬合、評估與超參數調校\n",
    "## 4-1. 工作流程管道化\n",
    "[4-1. 工作流程管道化](#sec4_1)  \n",
    "***"
   ]
  },
  {
   "cell_type": "markdown",
   "metadata": {},
   "source": [
    "<a id='sec4_1'></a>\n",
    "## 4-1. 工作流程管道化\n",
    "#### 目標：以寶可夢的數值型特徵預測是否擁有雙屬性\n",
    "#### 新增一個hasType2欄位，標明是否有雙屬性"
   ]
  },
  {
   "cell_type": "code",
   "execution_count": 1,
   "metadata": {},
   "outputs": [
    {
     "name": "stdout",
     "output_type": "stream",
     "text": [
      "雙屬性的數量： 473\n",
      "單屬性的數量： 421\n"
     ]
    },
    {
     "data": {
      "text/html": [
       "<div>\n",
       "<style scoped>\n",
       "    .dataframe tbody tr th:only-of-type {\n",
       "        vertical-align: middle;\n",
       "    }\n",
       "\n",
       "    .dataframe tbody tr th {\n",
       "        vertical-align: top;\n",
       "    }\n",
       "\n",
       "    .dataframe thead th {\n",
       "        text-align: right;\n",
       "    }\n",
       "</style>\n",
       "<table border=\"1\" class=\"dataframe\">\n",
       "  <thead>\n",
       "    <tr style=\"text-align: right;\">\n",
       "      <th></th>\n",
       "      <th>Number</th>\n",
       "      <th>Name</th>\n",
       "      <th>Type1</th>\n",
       "      <th>Type2</th>\n",
       "      <th>HP</th>\n",
       "      <th>Attack</th>\n",
       "      <th>Defense</th>\n",
       "      <th>SpecialAtk</th>\n",
       "      <th>SpecialDef</th>\n",
       "      <th>Speed</th>\n",
       "      <th>Generation</th>\n",
       "      <th>Legendary</th>\n",
       "      <th>hasType2</th>\n",
       "    </tr>\n",
       "  </thead>\n",
       "  <tbody>\n",
       "    <tr>\n",
       "      <th>891</th>\n",
       "      <td>805</td>\n",
       "      <td>壘磊石</td>\n",
       "      <td>Rock</td>\n",
       "      <td>Steel</td>\n",
       "      <td>61</td>\n",
       "      <td>131</td>\n",
       "      <td>211</td>\n",
       "      <td>53</td>\n",
       "      <td>101</td>\n",
       "      <td>13</td>\n",
       "      <td>7</td>\n",
       "      <td>False</td>\n",
       "      <td>1</td>\n",
       "    </tr>\n",
       "    <tr>\n",
       "      <th>892</th>\n",
       "      <td>806</td>\n",
       "      <td>砰頭小丑</td>\n",
       "      <td>Fire</td>\n",
       "      <td>Ghost</td>\n",
       "      <td>53</td>\n",
       "      <td>127</td>\n",
       "      <td>53</td>\n",
       "      <td>151</td>\n",
       "      <td>79</td>\n",
       "      <td>107</td>\n",
       "      <td>7</td>\n",
       "      <td>False</td>\n",
       "      <td>1</td>\n",
       "    </tr>\n",
       "    <tr>\n",
       "      <th>893</th>\n",
       "      <td>807</td>\n",
       "      <td>捷拉奧拉</td>\n",
       "      <td>Electric</td>\n",
       "      <td>NaN</td>\n",
       "      <td>88</td>\n",
       "      <td>112</td>\n",
       "      <td>75</td>\n",
       "      <td>102</td>\n",
       "      <td>80</td>\n",
       "      <td>143</td>\n",
       "      <td>7</td>\n",
       "      <td>False</td>\n",
       "      <td>0</td>\n",
       "    </tr>\n",
       "  </tbody>\n",
       "</table>\n",
       "</div>"
      ],
      "text/plain": [
       "     Number  Name     Type1  Type2  HP  Attack  Defense  SpecialAtk  \\\n",
       "891     805   壘磊石      Rock  Steel  61     131      211          53   \n",
       "892     806  砰頭小丑      Fire  Ghost  53     127       53         151   \n",
       "893     807  捷拉奧拉  Electric    NaN  88     112       75         102   \n",
       "\n",
       "     SpecialDef  Speed  Generation  Legendary  hasType2  \n",
       "891         101     13           7      False         1  \n",
       "892          79    107           7      False         1  \n",
       "893          80    143           7      False         0  "
      ]
     },
     "execution_count": 1,
     "metadata": {},
     "output_type": "execute_result"
    }
   ],
   "source": [
    "import pandas as pd\n",
    "\n",
    "df = pd.read_csv('Pokemon_894_12.csv')\n",
    "df['hasType2'] = df['Type2'].notnull().astype(int)\n",
    "print('雙屬性的數量：', df['hasType2'].sum())\n",
    "print('單屬性的數量：', df.shape[0]-df['hasType2'].sum())\n",
    "df.tail(3)"
   ]
  },
  {
   "cell_type": "markdown",
   "metadata": {},
   "source": [
    "#### 依下列轉換步驟進行，再以邏輯斯迴歸建模預測是否有雙屬性。\n",
    "1. 切割訓練與測試集，其中測試集佔20%。\n",
    "2. 挑選數值特徵與目標項間ANOVA的F值最高前兩名。"
   ]
  },
  {
   "cell_type": "code",
   "execution_count": 2,
   "metadata": {},
   "outputs": [
    {
     "name": "stdout",
     "output_type": "stream",
     "text": [
      "[False False  True  True False False]\n",
      "挑出的特徵： Index(['Defense', 'SpecialAtk'], dtype='object')\n"
     ]
    },
    {
     "data": {
      "text/plain": [
       "(715, 2)"
      ]
     },
     "execution_count": 2,
     "metadata": {},
     "output_type": "execute_result"
    }
   ],
   "source": [
    "from sklearn.model_selection import train_test_split\n",
    "from sklearn.feature_selection import SelectKBest, f_classif\n",
    "\n",
    "X, y = df.loc[:, 'HP':'Speed'], df['hasType2']\n",
    "X_train, X_test, y_train, y_test = train_test_split(X, y, test_size=0.2, random_state=0)\n",
    "\n",
    "# 依 ANOVA F-Value 挑選前兩名的特徵\n",
    "select = SelectKBest(f_classif, k=2).fit(X_train, y_train)\n",
    "print(select.get_support())\n",
    "print('挑出的特徵：', X.columns[select.get_support()])\n",
    "X_train_new = select.transform(X_train)\n",
    "X_train_new.shape"
   ]
  },
  {
   "cell_type": "markdown",
   "metadata": {},
   "source": [
    "3. 對挑選出來的特徵進行標準化"
   ]
  },
  {
   "cell_type": "code",
   "execution_count": 3,
   "metadata": {},
   "outputs": [
    {
     "data": {
      "text/plain": [
       "array([[0.86655534, 1.47194431],\n",
       "       [1.03103292, 2.85717958],\n",
       "       [1.03103292, 0.67158616]])"
      ]
     },
     "execution_count": 3,
     "metadata": {},
     "output_type": "execute_result"
    }
   ],
   "source": [
    "from sklearn.preprocessing import StandardScaler\n",
    "\n",
    "scale = StandardScaler().fit(X_train_new)\n",
    "X_train_std = scale.transform(X_train_new)\n",
    "\n",
    "X_test_new = select.transform(X_test)\n",
    "X_test_std = scale.transform(X_test_new)\n",
    "X_test_std[:3, :]"
   ]
  },
  {
   "cell_type": "markdown",
   "metadata": {},
   "source": [
    "4. 利用邏輯斯迴歸建模，並對測試集進行測試，最後輸出準確率。"
   ]
  },
  {
   "cell_type": "code",
   "execution_count": 4,
   "metadata": {},
   "outputs": [
    {
     "data": {
      "text/plain": [
       "0.6424581005586593"
      ]
     },
     "execution_count": 4,
     "metadata": {},
     "output_type": "execute_result"
    }
   ],
   "source": [
    "from sklearn.linear_model import LogisticRegression\n",
    "\n",
    "logit = LogisticRegression(penalty='l2')\n",
    "logit.fit(X_train_std, y_train)\n",
    "logit.score(X_test_std, y_test)"
   ]
  },
  {
   "cell_type": "markdown",
   "metadata": {},
   "source": [
    "經過上述在前處理階段的特徵挑選、轉換與邏輯斯迴歸建模，最終得到準確率為0.64。  \n",
    "接著，底下利用管道化方式將挑選、轉換與建模整合成一條龍作業。"
   ]
  },
  {
   "cell_type": "markdown",
   "metadata": {},
   "source": [
    "#### 管道化"
   ]
  },
  {
   "cell_type": "code",
   "execution_count": 5,
   "metadata": {},
   "outputs": [
    {
     "data": {
      "text/plain": [
       "0.6424581005586593"
      ]
     },
     "execution_count": 5,
     "metadata": {},
     "output_type": "execute_result"
    }
   ],
   "source": [
    "from sklearn.pipeline import Pipeline\n",
    "\n",
    "select = SelectKBest(f_classif, k=2)\n",
    "\n",
    "pipe_lr = Pipeline([('selK', SelectKBest(f_classif, k=2)),\n",
    "                    ('sc', StandardScaler()),\n",
    "                    ('clf', LogisticRegression(penalty='l2'))\n",
    "                    ])\n",
    "pipe_lr.fit(X_train, y_train)\n",
    "pipe_lr.score(X_test, y_test)"
   ]
  },
  {
   "cell_type": "code",
   "execution_count": 6,
   "metadata": {},
   "outputs": [
    {
     "data": {
      "text/html": [
       "<style>div.sk-top-container {color: black;background-color: white;}div.sk-toggleable {background-color: white;}label.sk-toggleable__label {cursor: pointer;display: block;width: 100%;margin-bottom: 0;padding: 0.2em 0.3em;box-sizing: border-box;text-align: center;}div.sk-toggleable__content {max-height: 0;max-width: 0;overflow: hidden;text-align: left;background-color: #f0f8ff;}div.sk-toggleable__content pre {margin: 0.2em;color: black;border-radius: 0.25em;background-color: #f0f8ff;}input.sk-toggleable__control:checked~div.sk-toggleable__content {max-height: 200px;max-width: 100%;overflow: auto;}div.sk-estimator input.sk-toggleable__control:checked~label.sk-toggleable__label {background-color: #d4ebff;}div.sk-label input.sk-toggleable__control:checked~label.sk-toggleable__label {background-color: #d4ebff;}input.sk-hidden--visually {border: 0;clip: rect(1px 1px 1px 1px);clip: rect(1px, 1px, 1px, 1px);height: 1px;margin: -1px;overflow: hidden;padding: 0;position: absolute;width: 1px;}div.sk-estimator {font-family: monospace;background-color: #f0f8ff;margin: 0.25em 0.25em;border: 1px dotted black;border-radius: 0.25em;box-sizing: border-box;}div.sk-estimator:hover {background-color: #d4ebff;}div.sk-parallel-item::after {content: \"\";width: 100%;border-bottom: 1px solid gray;flex-grow: 1;}div.sk-label:hover label.sk-toggleable__label {background-color: #d4ebff;}div.sk-serial::before {content: \"\";position: absolute;border-left: 1px solid gray;box-sizing: border-box;top: 2em;bottom: 0;left: 50%;}div.sk-serial {display: flex;flex-direction: column;align-items: center;background-color: white;}div.sk-item {z-index: 1;}div.sk-parallel {display: flex;align-items: stretch;justify-content: center;background-color: white;}div.sk-parallel-item {display: flex;flex-direction: column;position: relative;background-color: white;}div.sk-parallel-item:first-child::after {align-self: flex-end;width: 50%;}div.sk-parallel-item:last-child::after {align-self: flex-start;width: 50%;}div.sk-parallel-item:only-child::after {width: 0;}div.sk-dashed-wrapped {border: 1px dashed gray;margin: 0.2em;box-sizing: border-box;padding-bottom: 0.1em;background-color: white;position: relative;}div.sk-label label {font-family: monospace;font-weight: bold;background-color: white;display: inline-block;line-height: 1.2em;}div.sk-label-container {position: relative;z-index: 2;text-align: center;}div.sk-container {display: inline-block;position: relative;}</style><div class=\"sk-top-container\"><div class=\"sk-container\"><div class=\"sk-item sk-dashed-wrapped\"><div class=\"sk-label-container\"><div class=\"sk-label sk-toggleable\"><input class=\"sk-toggleable__control sk-hidden--visually\" id=\"c613fa0a-7335-40b7-aaf1-f9657e2bad33\" type=\"checkbox\" ><label class=\"sk-toggleable__label\" for=\"c613fa0a-7335-40b7-aaf1-f9657e2bad33\">Pipeline</label><div class=\"sk-toggleable__content\"><pre>Pipeline(steps=[('selK', SelectKBest(k=2)), ('sc', StandardScaler()),\n",
       "                ('clf', LogisticRegression())])</pre></div></div></div><div class=\"sk-serial\"><div class=\"sk-item\"><div class=\"sk-estimator sk-toggleable\"><input class=\"sk-toggleable__control sk-hidden--visually\" id=\"a4fd153f-e083-4778-8df2-6346bfd55d26\" type=\"checkbox\" ><label class=\"sk-toggleable__label\" for=\"a4fd153f-e083-4778-8df2-6346bfd55d26\">SelectKBest</label><div class=\"sk-toggleable__content\"><pre>SelectKBest(k=2)</pre></div></div></div><div class=\"sk-item\"><div class=\"sk-estimator sk-toggleable\"><input class=\"sk-toggleable__control sk-hidden--visually\" id=\"91651a88-de8c-41d3-a7f4-586087c5e00c\" type=\"checkbox\" ><label class=\"sk-toggleable__label\" for=\"91651a88-de8c-41d3-a7f4-586087c5e00c\">StandardScaler</label><div class=\"sk-toggleable__content\"><pre>StandardScaler()</pre></div></div></div><div class=\"sk-item\"><div class=\"sk-estimator sk-toggleable\"><input class=\"sk-toggleable__control sk-hidden--visually\" id=\"b7d15912-7092-4ae8-b6f8-f4f91b314e92\" type=\"checkbox\" ><label class=\"sk-toggleable__label\" for=\"b7d15912-7092-4ae8-b6f8-f4f91b314e92\">LogisticRegression</label><div class=\"sk-toggleable__content\"><pre>LogisticRegression()</pre></div></div></div></div></div></div></div>"
      ],
      "text/plain": [
       "Pipeline(steps=[('selK', SelectKBest(k=2)), ('sc', StandardScaler()),\n",
       "                ('clf', LogisticRegression())])"
      ]
     },
     "execution_count": 6,
     "metadata": {},
     "output_type": "execute_result"
    }
   ],
   "source": [
    "from sklearn import set_config\n",
    "set_config(display='diagram')\n",
    "pipe_lr"
   ]
  },
  {
   "cell_type": "markdown",
   "metadata": {},
   "source": [
    "#### 管道化：採用不同處理方式或是整合多種類型特徵的轉換步驟\n",
    "1. 加入類別型特徵 Generation 的獨熱編碼\n",
    "2. 從中挑選與目標項卡方值最高的前三名做為特徵\n",
    "3. 與前面挑選出來的數值型特徵一併透過邏輯斯迴歸來建模"
   ]
  },
  {
   "cell_type": "code",
   "execution_count": 7,
   "metadata": {},
   "outputs": [
    {
     "data": {
      "text/plain": [
       "0.6256983240223464"
      ]
     },
     "execution_count": 7,
     "metadata": {},
     "output_type": "execute_result"
    }
   ],
   "source": [
    "from sklearn.preprocessing import OneHotEncoder\n",
    "from sklearn.feature_selection import chi2\n",
    "from sklearn.compose import ColumnTransformer\n",
    "\n",
    "# 處理數值型特徵\n",
    "num_features = X.columns\n",
    "num_transform = Pipeline([('selK', SelectKBest(f_classif, k=2)), \n",
    "                          ('sc', StandardScaler())\n",
    "                         ])\n",
    "# 處理類別型特徵\n",
    "cat_features = ['Generation']\n",
    "cat_transform = Pipeline([('onehot', OneHotEncoder()), \n",
    "                          ('selK', SelectKBest(chi2, k=3))\n",
    "                         ])\n",
    "# 整合兩個處理步驟\n",
    "pre = ColumnTransformer( \n",
    "    transformers=[('num', num_transform, num_features), \n",
    "                  ('cat', cat_transform, cat_features)\n",
    "                 ])\n",
    "# 管道化\n",
    "clf = Pipeline(steps=[('preprocessor', pre),\n",
    "                      ('clf', LogisticRegression(penalty='l2'))])\n",
    "\n",
    "X, y = df.loc[:, 'HP':'Generation'], df['hasType2']\n",
    "X_train, X_test, y_train, y_test = train_test_split(X, y, test_size=0.2, random_state=0)\n",
    "\n",
    "clf.fit(X_train, y_train)\n",
    "clf.score(X_test, y_test)"
   ]
  },
  {
   "cell_type": "code",
   "execution_count": 8,
   "metadata": {},
   "outputs": [
    {
     "data": {
      "text/html": [
       "<style>div.sk-top-container {color: black;background-color: white;}div.sk-toggleable {background-color: white;}label.sk-toggleable__label {cursor: pointer;display: block;width: 100%;margin-bottom: 0;padding: 0.2em 0.3em;box-sizing: border-box;text-align: center;}div.sk-toggleable__content {max-height: 0;max-width: 0;overflow: hidden;text-align: left;background-color: #f0f8ff;}div.sk-toggleable__content pre {margin: 0.2em;color: black;border-radius: 0.25em;background-color: #f0f8ff;}input.sk-toggleable__control:checked~div.sk-toggleable__content {max-height: 200px;max-width: 100%;overflow: auto;}div.sk-estimator input.sk-toggleable__control:checked~label.sk-toggleable__label {background-color: #d4ebff;}div.sk-label input.sk-toggleable__control:checked~label.sk-toggleable__label {background-color: #d4ebff;}input.sk-hidden--visually {border: 0;clip: rect(1px 1px 1px 1px);clip: rect(1px, 1px, 1px, 1px);height: 1px;margin: -1px;overflow: hidden;padding: 0;position: absolute;width: 1px;}div.sk-estimator {font-family: monospace;background-color: #f0f8ff;margin: 0.25em 0.25em;border: 1px dotted black;border-radius: 0.25em;box-sizing: border-box;}div.sk-estimator:hover {background-color: #d4ebff;}div.sk-parallel-item::after {content: \"\";width: 100%;border-bottom: 1px solid gray;flex-grow: 1;}div.sk-label:hover label.sk-toggleable__label {background-color: #d4ebff;}div.sk-serial::before {content: \"\";position: absolute;border-left: 1px solid gray;box-sizing: border-box;top: 2em;bottom: 0;left: 50%;}div.sk-serial {display: flex;flex-direction: column;align-items: center;background-color: white;}div.sk-item {z-index: 1;}div.sk-parallel {display: flex;align-items: stretch;justify-content: center;background-color: white;}div.sk-parallel-item {display: flex;flex-direction: column;position: relative;background-color: white;}div.sk-parallel-item:first-child::after {align-self: flex-end;width: 50%;}div.sk-parallel-item:last-child::after {align-self: flex-start;width: 50%;}div.sk-parallel-item:only-child::after {width: 0;}div.sk-dashed-wrapped {border: 1px dashed gray;margin: 0.2em;box-sizing: border-box;padding-bottom: 0.1em;background-color: white;position: relative;}div.sk-label label {font-family: monospace;font-weight: bold;background-color: white;display: inline-block;line-height: 1.2em;}div.sk-label-container {position: relative;z-index: 2;text-align: center;}div.sk-container {display: inline-block;position: relative;}</style><div class=\"sk-top-container\"><div class=\"sk-container\"><div class=\"sk-item sk-dashed-wrapped\"><div class=\"sk-label-container\"><div class=\"sk-label sk-toggleable\"><input class=\"sk-toggleable__control sk-hidden--visually\" id=\"e65e2736-60a4-4ba2-8336-3f95be808aec\" type=\"checkbox\" ><label class=\"sk-toggleable__label\" for=\"e65e2736-60a4-4ba2-8336-3f95be808aec\">Pipeline</label><div class=\"sk-toggleable__content\"><pre>Pipeline(steps=[('preprocessor',\n",
       "                 ColumnTransformer(transformers=[('num',\n",
       "                                                  Pipeline(steps=[('selK',\n",
       "                                                                   SelectKBest(k=2)),\n",
       "                                                                  ('sc',\n",
       "                                                                   StandardScaler())]),\n",
       "                                                  Index(['HP', 'Attack', 'Defense', 'SpecialAtk', 'SpecialDef', 'Speed'], dtype='object')),\n",
       "                                                 ('cat',\n",
       "                                                  Pipeline(steps=[('onehot',\n",
       "                                                                   OneHotEncoder()),\n",
       "                                                                  ('selK',\n",
       "                                                                   SelectKBest(k=3,\n",
       "                                                                               score_func=<function chi2 at 0x00000201BE42F4C8>))]),\n",
       "                                                  ['Generation'])])),\n",
       "                ('clf', LogisticRegression())])</pre></div></div></div><div class=\"sk-serial\"><div class=\"sk-item sk-dashed-wrapped\"><div class=\"sk-label-container\"><div class=\"sk-label sk-toggleable\"><input class=\"sk-toggleable__control sk-hidden--visually\" id=\"ae9aeb42-04ab-475f-8470-09ad20f3bf1f\" type=\"checkbox\" ><label class=\"sk-toggleable__label\" for=\"ae9aeb42-04ab-475f-8470-09ad20f3bf1f\">preprocessor: ColumnTransformer</label><div class=\"sk-toggleable__content\"><pre>ColumnTransformer(transformers=[('num',\n",
       "                                 Pipeline(steps=[('selK', SelectKBest(k=2)),\n",
       "                                                 ('sc', StandardScaler())]),\n",
       "                                 Index(['HP', 'Attack', 'Defense', 'SpecialAtk', 'SpecialDef', 'Speed'], dtype='object')),\n",
       "                                ('cat',\n",
       "                                 Pipeline(steps=[('onehot', OneHotEncoder()),\n",
       "                                                 ('selK',\n",
       "                                                  SelectKBest(k=3,\n",
       "                                                              score_func=<function chi2 at 0x00000201BE42F4C8>))]),\n",
       "                                 ['Generation'])])</pre></div></div></div><div class=\"sk-parallel\"><div class=\"sk-parallel-item\"><div class=\"sk-item\"><div class=\"sk-label-container\"><div class=\"sk-label sk-toggleable\"><input class=\"sk-toggleable__control sk-hidden--visually\" id=\"3b8499e9-53ca-4db9-bad9-2e1166680186\" type=\"checkbox\" ><label class=\"sk-toggleable__label\" for=\"3b8499e9-53ca-4db9-bad9-2e1166680186\">num</label><div class=\"sk-toggleable__content\"><pre>Index(['HP', 'Attack', 'Defense', 'SpecialAtk', 'SpecialDef', 'Speed'], dtype='object')</pre></div></div></div><div class=\"sk-serial\"><div class=\"sk-item\"><div class=\"sk-serial\"><div class=\"sk-item\"><div class=\"sk-estimator sk-toggleable\"><input class=\"sk-toggleable__control sk-hidden--visually\" id=\"6ba253e9-3c63-4645-82ef-45940016f9d7\" type=\"checkbox\" ><label class=\"sk-toggleable__label\" for=\"6ba253e9-3c63-4645-82ef-45940016f9d7\">SelectKBest</label><div class=\"sk-toggleable__content\"><pre>SelectKBest(k=2)</pre></div></div></div><div class=\"sk-item\"><div class=\"sk-estimator sk-toggleable\"><input class=\"sk-toggleable__control sk-hidden--visually\" id=\"6e566bcc-ce84-457e-bd3b-aeab2b90ab47\" type=\"checkbox\" ><label class=\"sk-toggleable__label\" for=\"6e566bcc-ce84-457e-bd3b-aeab2b90ab47\">StandardScaler</label><div class=\"sk-toggleable__content\"><pre>StandardScaler()</pre></div></div></div></div></div></div></div></div><div class=\"sk-parallel-item\"><div class=\"sk-item\"><div class=\"sk-label-container\"><div class=\"sk-label sk-toggleable\"><input class=\"sk-toggleable__control sk-hidden--visually\" id=\"7cb629f2-6223-4023-bbf2-c747fd0b2429\" type=\"checkbox\" ><label class=\"sk-toggleable__label\" for=\"7cb629f2-6223-4023-bbf2-c747fd0b2429\">cat</label><div class=\"sk-toggleable__content\"><pre>['Generation']</pre></div></div></div><div class=\"sk-serial\"><div class=\"sk-item\"><div class=\"sk-serial\"><div class=\"sk-item\"><div class=\"sk-estimator sk-toggleable\"><input class=\"sk-toggleable__control sk-hidden--visually\" id=\"663cfcaa-fdbf-4c0d-b9f9-85454f9e2e5b\" type=\"checkbox\" ><label class=\"sk-toggleable__label\" for=\"663cfcaa-fdbf-4c0d-b9f9-85454f9e2e5b\">OneHotEncoder</label><div class=\"sk-toggleable__content\"><pre>OneHotEncoder()</pre></div></div></div><div class=\"sk-item\"><div class=\"sk-estimator sk-toggleable\"><input class=\"sk-toggleable__control sk-hidden--visually\" id=\"fe2b7ec2-95b3-4cb9-999e-0b7302b778af\" type=\"checkbox\" ><label class=\"sk-toggleable__label\" for=\"fe2b7ec2-95b3-4cb9-999e-0b7302b778af\">SelectKBest</label><div class=\"sk-toggleable__content\"><pre>SelectKBest(k=3, score_func=<function chi2 at 0x00000201BE42F4C8>)</pre></div></div></div></div></div></div></div></div></div></div><div class=\"sk-item\"><div class=\"sk-estimator sk-toggleable\"><input class=\"sk-toggleable__control sk-hidden--visually\" id=\"f5dffefa-a723-4acc-b5d9-f68f019f0687\" type=\"checkbox\" ><label class=\"sk-toggleable__label\" for=\"f5dffefa-a723-4acc-b5d9-f68f019f0687\">LogisticRegression</label><div class=\"sk-toggleable__content\"><pre>LogisticRegression()</pre></div></div></div></div></div></div></div>"
      ],
      "text/plain": [
       "Pipeline(steps=[('preprocessor',\n",
       "                 ColumnTransformer(transformers=[('num',\n",
       "                                                  Pipeline(steps=[('selK',\n",
       "                                                                   SelectKBest(k=2)),\n",
       "                                                                  ('sc',\n",
       "                                                                   StandardScaler())]),\n",
       "                                                  Index(['HP', 'Attack', 'Defense', 'SpecialAtk', 'SpecialDef', 'Speed'], dtype='object')),\n",
       "                                                 ('cat',\n",
       "                                                  Pipeline(steps=[('onehot',\n",
       "                                                                   OneHotEncoder()),\n",
       "                                                                  ('selK',\n",
       "                                                                   SelectKBest(k=3,\n",
       "                                                                               score_func=<function chi2 at 0x00000201BE42F4C8>))]),\n",
       "                                                  ['Generation'])])),\n",
       "                ('clf', LogisticRegression())])"
      ]
     },
     "execution_count": 8,
     "metadata": {},
     "output_type": "execute_result"
    }
   ],
   "source": [
    "clf"
   ]
  },
  {
   "cell_type": "code",
   "execution_count": null,
   "metadata": {},
   "outputs": [],
   "source": []
  }
 ],
 "metadata": {
  "kernelspec": {
   "display_name": "Python 3",
   "language": "python",
   "name": "python3"
  },
  "language_info": {
   "codemirror_mode": {
    "name": "ipython",
    "version": 3
   },
   "file_extension": ".py",
   "mimetype": "text/x-python",
   "name": "python",
   "nbconvert_exporter": "python",
   "pygments_lexer": "ipython3",
   "version": "3.7.6"
  }
 },
 "nbformat": 4,
 "nbformat_minor": 4
}
