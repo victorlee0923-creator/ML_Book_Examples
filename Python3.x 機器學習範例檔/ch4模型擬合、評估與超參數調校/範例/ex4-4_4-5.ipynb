{
 "cells": [
  {
   "cell_type": "markdown",
   "metadata": {},
   "source": [
    "# Ch 4. 模型擬合、評估與超參數調校\n",
    "## 4-4. 調校超參數\n",
    "[4-4-1. 網格搜尋](#sec4_4_1)  \n",
    "[4-4-2. 參數搜尋小技巧](#sec4_4_2)\n",
    "\n",
    "## 4-5. 處理類別不平衡\n",
    "[4-5. 處理類別不平衡](#sec4_5) \n",
    "***"
   ]
  },
  {
   "cell_type": "markdown",
   "metadata": {},
   "source": [
    "<a id='sec4_4_1'></a>\n",
    "## 4-4-1. 網格搜尋"
   ]
  },
  {
   "cell_type": "code",
   "execution_count": 1,
   "metadata": {},
   "outputs": [
    {
     "name": "stdout",
     "output_type": "stream",
     "text": [
      "0    754\n",
      "1    140\n",
      "Name: Water, dtype: int64\n"
     ]
    },
    {
     "data": {
      "text/html": [
       "<div>\n",
       "<style scoped>\n",
       "    .dataframe tbody tr th:only-of-type {\n",
       "        vertical-align: middle;\n",
       "    }\n",
       "\n",
       "    .dataframe tbody tr th {\n",
       "        vertical-align: top;\n",
       "    }\n",
       "\n",
       "    .dataframe thead th {\n",
       "        text-align: right;\n",
       "    }\n",
       "</style>\n",
       "<table border=\"1\" class=\"dataframe\">\n",
       "  <thead>\n",
       "    <tr style=\"text-align: right;\">\n",
       "      <th></th>\n",
       "      <th>Number</th>\n",
       "      <th>Name</th>\n",
       "      <th>Type1</th>\n",
       "      <th>Type2</th>\n",
       "      <th>HP</th>\n",
       "      <th>Attack</th>\n",
       "      <th>Defense</th>\n",
       "      <th>SpecialAtk</th>\n",
       "      <th>SpecialDef</th>\n",
       "      <th>Speed</th>\n",
       "      <th>Generation</th>\n",
       "      <th>Legendary</th>\n",
       "      <th>Water</th>\n",
       "    </tr>\n",
       "  </thead>\n",
       "  <tbody>\n",
       "    <tr>\n",
       "      <th>200</th>\n",
       "      <td>185</td>\n",
       "      <td>樹才怪</td>\n",
       "      <td>Rock</td>\n",
       "      <td>NaN</td>\n",
       "      <td>70</td>\n",
       "      <td>100</td>\n",
       "      <td>115</td>\n",
       "      <td>30</td>\n",
       "      <td>65</td>\n",
       "      <td>30</td>\n",
       "      <td>2</td>\n",
       "      <td>False</td>\n",
       "      <td>0</td>\n",
       "    </tr>\n",
       "    <tr>\n",
       "      <th>300</th>\n",
       "      <td>277</td>\n",
       "      <td>大王燕</td>\n",
       "      <td>Normal</td>\n",
       "      <td>Flying</td>\n",
       "      <td>60</td>\n",
       "      <td>85</td>\n",
       "      <td>60</td>\n",
       "      <td>50</td>\n",
       "      <td>50</td>\n",
       "      <td>125</td>\n",
       "      <td>3</td>\n",
       "      <td>False</td>\n",
       "      <td>0</td>\n",
       "    </tr>\n",
       "    <tr>\n",
       "      <th>400</th>\n",
       "      <td>365</td>\n",
       "      <td>帝牙海獅</td>\n",
       "      <td>Ice</td>\n",
       "      <td>Water</td>\n",
       "      <td>110</td>\n",
       "      <td>80</td>\n",
       "      <td>90</td>\n",
       "      <td>95</td>\n",
       "      <td>90</td>\n",
       "      <td>65</td>\n",
       "      <td>3</td>\n",
       "      <td>False</td>\n",
       "      <td>1</td>\n",
       "    </tr>\n",
       "  </tbody>\n",
       "</table>\n",
       "</div>"
      ],
      "text/plain": [
       "     Number  Name   Type1   Type2   HP  Attack  Defense  SpecialAtk  \\\n",
       "200     185   樹才怪    Rock     NaN   70     100      115          30   \n",
       "300     277   大王燕  Normal  Flying   60      85       60          50   \n",
       "400     365  帝牙海獅     Ice   Water  110      80       90          95   \n",
       "\n",
       "     SpecialDef  Speed  Generation  Legendary  Water  \n",
       "200          65     30           2      False      0  \n",
       "300          50    125           3      False      0  \n",
       "400          90     65           3      False      1  "
      ]
     },
     "execution_count": 1,
     "metadata": {},
     "output_type": "execute_result"
    }
   ],
   "source": [
    "import warnings\n",
    "# 忽略警告訊息\n",
    "warnings.filterwarnings(\"ignore\")\n",
    "import pandas as pd\n",
    "\n",
    "df = pd.read_csv('Pokemon_894_13.csv')\n",
    "# 增加一個欄位，標示在 Type1、Type2 中是否有 Water 屬性\n",
    "type_ = 'Water'\n",
    "lst1 = [1 if x == type_ else 0 for x in df.Type1]\n",
    "lst2 = [1 if x == type_ else 0 for x in df.Type2]\n",
    "df[type_] = [1 if lst1[i] or lst2[i] else 0 \\\n",
    "             for i in range(len(lst1))]\n",
    "# 列出有無 Water 屬性的數量\n",
    "print(df[type_].value_counts())\n",
    "df.take([200,300,400])"
   ]
  },
  {
   "cell_type": "code",
   "execution_count": 2,
   "metadata": {},
   "outputs": [
    {
     "name": "stdout",
     "output_type": "stream",
     "text": [
      "(715, 6)\n",
      "(179, 6)\n"
     ]
    }
   ],
   "source": [
    "from sklearn.model_selection import train_test_split\n",
    "\n",
    "X, y = df.loc[:, 'HP':'Speed'], df[type_]\n",
    "X_train, X_test, y_train, y_test = \\\n",
    "    train_test_split(X, y, test_size=0.2, \n",
    "                     random_state=0)\n",
    "print(X_train.shape)\n",
    "print(X_test.shape)"
   ]
  },
  {
   "cell_type": "code",
   "execution_count": 3,
   "metadata": {},
   "outputs": [
    {
     "name": "stdout",
     "output_type": "stream",
     "text": [
      "Best score: 0.866\n",
      "Best parameters: {'penalty': 'l1', 'C': 0.001}\n"
     ]
    }
   ],
   "source": [
    "from sklearn.linear_model import LogisticRegression\n",
    "\n",
    "best_score = 0\n",
    "# 以巢狀迴圈測試超參數組合\n",
    "for p in ['l1', 'l2']:\n",
    "    for c in [.001, .01, .1, 1, 10, 100]:\n",
    "        # solver 改為 saga，同時應用到 L1, L2\n",
    "        # max_iter 改為 1000，期待能盡量得到收斂結果\n",
    "        logit = LogisticRegression(penalty=p, C=c, \n",
    "                                   solver='saga', max_iter=1000)\n",
    "        logit.fit(X_train, y_train)\n",
    "        score = logit.score(X_test, y_test)\n",
    "        \n",
    "        if score > best_score:\n",
    "            best_score = score\n",
    "            best_param = {'penalty':p, 'C':c}\n",
    "\n",
    "print('Best score: %.3f' % best_score)\n",
    "print('Best parameters:', best_param)"
   ]
  },
  {
   "cell_type": "code",
   "execution_count": 4,
   "metadata": {},
   "outputs": [
    {
     "name": "stdout",
     "output_type": "stream",
     "text": [
      "[1.00000000e-04 4.64158883e-04 2.15443469e-03 1.00000000e-02\n",
      " 4.64158883e-02 2.15443469e-01 1.00000000e+00 4.64158883e+00\n",
      " 2.15443469e+01 1.00000000e+02]\n",
      "Fitting 5 folds for each of 20 candidates, totalling 100 fits\n"
     ]
    },
    {
     "name": "stderr",
     "output_type": "stream",
     "text": [
      "[Parallel(n_jobs=1)]: Using backend SequentialBackend with 1 concurrent workers.\n"
     ]
    },
    {
     "name": "stdout",
     "output_type": "stream",
     "text": [
      "Best score (training): 0.8377622377622378\n",
      "Best parameters (training): {'C': 0.0001, 'penalty': 'l1'}\n"
     ]
    },
    {
     "name": "stderr",
     "output_type": "stream",
     "text": [
      "[Parallel(n_jobs=1)]: Done 100 out of 100 | elapsed:    1.1s finished\n"
     ]
    },
    {
     "data": {
      "text/plain": [
       "0.8659217877094972"
      ]
     },
     "execution_count": 4,
     "metadata": {},
     "output_type": "execute_result"
    }
   ],
   "source": [
    "import numpy as np\n",
    "from sklearn.model_selection import GridSearchCV\n",
    "\n",
    "logit = LogisticRegression(solver='saga', max_iter=1000)\n",
    "penalty = ['l1', 'l2']\n",
    "# 產生 10 個 C 值\n",
    "C = np.logspace(-4, 2, 10)\n",
    "print(C)\n",
    "hyper_param = dict(C=C, penalty=penalty)\n",
    "\n",
    "grid_s = GridSearchCV(logit, hyper_param, cv=5, verbose=1)\n",
    "grid_s.fit(X_train, y_train)\n",
    "print('Best score (training):', grid_s.best_score_)\n",
    "print('Best parameters (training):', grid_s.best_params_)\n",
    "grid_s.score(X_test, y_test)"
   ]
  },
  {
   "cell_type": "code",
   "execution_count": 5,
   "metadata": {},
   "outputs": [
    {
     "name": "stderr",
     "output_type": "stream",
     "text": [
      "[Parallel(n_jobs=1)]: Using backend SequentialBackend with 1 concurrent workers.\n"
     ]
    },
    {
     "name": "stdout",
     "output_type": "stream",
     "text": [
      "Fitting 5 folds for each of 166 candidates, totalling 830 fits\n",
      "Best score (training): 0.8391608391608392\n",
      "Best parameters (training): {'clf': RandomForestClassifier(max_depth=4, max_features=3), 'clf__max_depth': 4, 'clf__max_features': 3, 'clf__n_estimators': 100}\n"
     ]
    },
    {
     "name": "stderr",
     "output_type": "stream",
     "text": [
      "[Parallel(n_jobs=1)]: Done 830 out of 830 | elapsed:  1.2min finished\n"
     ]
    },
    {
     "data": {
      "text/plain": [
       "0.8659217877094972"
      ]
     },
     "execution_count": 5,
     "metadata": {},
     "output_type": "execute_result"
    }
   ],
   "source": [
    "from sklearn.preprocessing import StandardScaler\n",
    "from sklearn.svm import SVC\n",
    "from sklearn.ensemble import RandomForestClassifier\n",
    "from sklearn.pipeline import Pipeline, make_pipeline\n",
    "\n",
    "# 設定隨機種子(目的是得到相同的執行結果以做驗證)\n",
    "np.random.seed(0)\n",
    "# 建立管線，先標準化再建立 SVC\n",
    "pipe_svc = Pipeline([('std', StandardScaler()), \n",
    "                     ('svc', SVC())])\n",
    "# 建立管線\n",
    "pipe = Pipeline([('clf', RandomForestClassifier())])\n",
    "# 產生候選模型與對應的超參數\n",
    "param_range = np.logspace(-4, 2, 10)\n",
    "param_grid = [{'clf': [LogisticRegression()], \n",
    "               'clf__penalty': ['l1', 'l2'], \n",
    "               'clf__C': param_range}, \n",
    "              {'clf': [RandomForestClassifier()], \n",
    "               'clf__n_estimators': [10, 100, 300, 500],\n",
    "               'clf__max_depth': [3, 4, 5],\n",
    "               'clf__max_features': [2, 3, 4]}, \n",
    "              {'clf': [pipe_svc], \n",
    "               'clf__svc__C': param_range, \n",
    "               'clf__svc__kernel': ['linear']},\n",
    "              {'clf': [pipe_svc], \n",
    "               'clf__svc__C': param_range, \n",
    "               'clf__svc__gamma': param_range, \n",
    "               'clf__svc__kernel': ['rbf']}]\n",
    "\n",
    "grid_s = GridSearchCV(estimator=pipe, \n",
    "                      param_grid=param_grid, scoring='accuracy', \n",
    "                      cv=5, verbose=1)\n",
    "grid_s.fit(X_train, y_train)\n",
    "print('Best score (training):', grid_s.best_score_)\n",
    "print('Best parameters (training):', grid_s.best_params_)\n",
    "grid_s.score(X_test, y_test)"
   ]
  },
  {
   "cell_type": "markdown",
   "metadata": {},
   "source": [
    "<a id='sec4_4_2'></a>\n",
    "## 4-4-2. 參數搜尋小技巧"
   ]
  },
  {
   "cell_type": "code",
   "execution_count": 6,
   "metadata": {},
   "outputs": [
    {
     "name": "stdout",
     "output_type": "stream",
     "text": [
      "Fitting 5 folds for each of 10 candidates, totalling 50 fits\n"
     ]
    },
    {
     "name": "stderr",
     "output_type": "stream",
     "text": [
      "[Parallel(n_jobs=1)]: Using backend SequentialBackend with 1 concurrent workers.\n"
     ]
    },
    {
     "name": "stdout",
     "output_type": "stream",
     "text": [
      "{'penalty': 'l2', 'C': 0.002832609637559108}\n"
     ]
    },
    {
     "name": "stderr",
     "output_type": "stream",
     "text": [
      "[Parallel(n_jobs=1)]: Done  50 out of  50 | elapsed:    0.6s finished\n"
     ]
    },
    {
     "data": {
      "text/plain": [
       "0.8659217877094972"
      ]
     },
     "execution_count": 6,
     "metadata": {},
     "output_type": "execute_result"
    }
   ],
   "source": [
    "from sklearn.model_selection import RandomizedSearchCV\n",
    "from scipy.stats import uniform, norm\n",
    "\n",
    "logit = LogisticRegression(solver='saga', max_iter=1000, \n",
    "                           random_state=0)\n",
    "# 產生均勻分布的樣本點\n",
    "dist = dict(C=uniform(loc=0, scale=.01).rvs(100), \n",
    "            penalty=['l2', 'l1'])\n",
    "# 隨機搜尋\n",
    "clf = RandomizedSearchCV(logit, dist, random_state=0, \n",
    "                         verbose=1)\n",
    "rand_s = clf.fit(X_train, y_train)\n",
    "print(rand_s.best_params_)\n",
    "rand_s.score(X_test, y_test)"
   ]
  },
  {
   "cell_type": "code",
   "execution_count": 7,
   "metadata": {},
   "outputs": [
    {
     "name": "stdout",
     "output_type": "stream",
     "text": [
      "Best C: [0.0001]\n"
     ]
    },
    {
     "data": {
      "text/plain": [
       "0.8659217877094972"
      ]
     },
     "execution_count": 7,
     "metadata": {},
     "output_type": "execute_result"
    }
   ],
   "source": [
    "from sklearn.linear_model import LogisticRegressionCV\n",
    "\n",
    "logit = LogisticRegressionCV(Cs=100, cv=10, random_state=0)\n",
    "logit.fit(X_train, y_train)\n",
    "print('Best C:', logit.C_)\n",
    "logit.score(X_test, y_test)"
   ]
  },
  {
   "cell_type": "code",
   "execution_count": 8,
   "metadata": {},
   "outputs": [
    {
     "name": "stdout",
     "output_type": "stream",
     "text": [
      "Fitting 2 folds for each of 166 candidates, totalling 332 fits\n"
     ]
    },
    {
     "name": "stderr",
     "output_type": "stream",
     "text": [
      "[Parallel(n_jobs=-1)]: Using backend LokyBackend with 8 concurrent workers.\n",
      "[Parallel(n_jobs=-1)]: Done  34 tasks      | elapsed:    1.9s\n",
      "[Parallel(n_jobs=-1)]: Done 332 out of 332 | elapsed:    8.2s finished\n",
      "[Parallel(n_jobs=-1)]: Using backend LokyBackend with 8 concurrent workers.\n"
     ]
    },
    {
     "name": "stdout",
     "output_type": "stream",
     "text": [
      "Fitting 2 folds for each of 166 candidates, totalling 332 fits\n"
     ]
    },
    {
     "name": "stderr",
     "output_type": "stream",
     "text": [
      "[Parallel(n_jobs=-1)]: Done  60 tasks      | elapsed:    1.2s\n",
      "[Parallel(n_jobs=-1)]: Done 332 out of 332 | elapsed:    6.5s finished\n",
      "[Parallel(n_jobs=-1)]: Using backend LokyBackend with 8 concurrent workers.\n"
     ]
    },
    {
     "name": "stdout",
     "output_type": "stream",
     "text": [
      "Fitting 2 folds for each of 166 candidates, totalling 332 fits\n"
     ]
    },
    {
     "name": "stderr",
     "output_type": "stream",
     "text": [
      "[Parallel(n_jobs=-1)]: Done  60 tasks      | elapsed:    1.2s\n",
      "[Parallel(n_jobs=-1)]: Done 317 out of 332 | elapsed:    5.3s remaining:    0.2s\n",
      "[Parallel(n_jobs=-1)]: Done 332 out of 332 | elapsed:    6.4s finished\n",
      "[Parallel(n_jobs=-1)]: Using backend LokyBackend with 8 concurrent workers.\n"
     ]
    },
    {
     "name": "stdout",
     "output_type": "stream",
     "text": [
      "CV accuracy (training): 0.838 +/- 0.002\n",
      "Fitting 2 folds for each of 166 candidates, totalling 332 fits\n"
     ]
    },
    {
     "name": "stderr",
     "output_type": "stream",
     "text": [
      "[Parallel(n_jobs=-1)]: Done  60 tasks      | elapsed:    1.2s\n",
      "[Parallel(n_jobs=-1)]: Done 317 out of 332 | elapsed:    5.6s remaining:    0.2s\n"
     ]
    },
    {
     "name": "stdout",
     "output_type": "stream",
     "text": [
      "Best parameters (training): {'clf': RandomForestClassifier(max_depth=4, max_features=2, n_estimators=10), 'clf__max_depth': 4, 'clf__max_features': 2, 'clf__n_estimators': 10}\n"
     ]
    },
    {
     "name": "stderr",
     "output_type": "stream",
     "text": [
      "[Parallel(n_jobs=-1)]: Done 332 out of 332 | elapsed:    6.7s finished\n"
     ]
    },
    {
     "data": {
      "text/plain": [
       "0.8659217877094972"
      ]
     },
     "execution_count": 8,
     "metadata": {},
     "output_type": "execute_result"
    }
   ],
   "source": [
    "from sklearn.model_selection import cross_val_score\n",
    "\n",
    "# 建立網格搜尋\n",
    "grid_s = GridSearchCV(estimator=pipe, \n",
    "                      param_grid=param_grid, cv=2, \n",
    "                      scoring='accuracy', n_jobs=-1, \n",
    "                      verbose=1)\n",
    "# 進行巢狀交叉驗證\n",
    "scores = cross_val_score(grid_s, X_train, y_train, \n",
    "                         scoring='accuracy', cv=3)\n",
    "print('CV accuracy (training): %.3f +/- %.3f' \n",
    "      %(np.mean(scores), np.std(scores)))\n",
    "grid_s.fit(X_train, y_train)\n",
    "print('Best parameters (training):', grid_s.best_params_)\n",
    "grid_s.score(X_test, y_test)"
   ]
  },
  {
   "cell_type": "code",
   "execution_count": 9,
   "metadata": {},
   "outputs": [
    {
     "data": {
      "text/plain": [
       "<matplotlib.legend.Legend at 0x1bb12c72ba8>"
      ]
     },
     "execution_count": 9,
     "metadata": {},
     "output_type": "execute_result"
    },
    {
     "data": {
      "image/png": "[encoded data removed]",
      "text/plain": [
       "<Figure size 432x288 with 1 Axes>"
      ]
     },
     "metadata": {},
     "output_type": "display_data"
    }
   ],
   "source": [
    "from matplotlib import pyplot as plt\n",
    "plt.style.use('fivethirtyeight')\n",
    "from sklearn.metrics import make_scorer, accuracy_score\n",
    "\n",
    "# 套用兩個評分指標到網格搜尋\n",
    "scoring = {'AUC': 'roc_auc', \n",
    "           'Accuracy': make_scorer(accuracy_score)}\n",
    "gs = GridSearchCV(RandomForestClassifier(random_state=0),\n",
    "                  param_grid={'n_estimators': range(1, 21), \n",
    "                              'max_depth': [4], \n",
    "                              'max_features': [4]},\n",
    "                  scoring=scoring, refit='AUC', \n",
    "                  return_train_score=True, n_jobs=-1)\n",
    "gs.fit(X_train, y_train)\n",
    "results = gs.cv_results_\n",
    "# 取出決策樹數量作為 x 軸\n",
    "X_axis = np.array(results['param_n_estimators'].data, dtype=float)\n",
    "# 設定 x, y 軸刻度範圍\n",
    "ax = plt.gca()\n",
    "ax.set_xlim(1, 20)\n",
    "ax.set_ylim(0.5, 0.9)\n",
    "\n",
    "for scorer, color in zip(sorted(scoring), ['g', 'b']):\n",
    "    for sample, style in (('train', '--'), ('test', '-')):\n",
    "        # 取出不同評分指標的平均值與標準差\n",
    "        sample_score_mean = results['mean_%s_%s' % (sample, scorer)]\n",
    "        sample_score_std = results['std_%s_%s' % (sample, scorer)]\n",
    "        ax.fill_between(X_axis, \n",
    "                        sample_score_mean - sample_score_std,\n",
    "                        sample_score_mean + sample_score_std,\n",
    "                        alpha=0.1 if sample == 'test' else 0, color=color)\n",
    "        ax.plot(X_axis, sample_score_mean, style, color=color,\n",
    "                alpha=1 if sample == 'test' else 0.7,\n",
    "                label=\"%s (%s)\" % (scorer, sample))\n",
    "    # 取出 test 的最佳索引值與分數\n",
    "    best_index = np.nonzero(results['rank_test_%s' % scorer] == 1)[0][0]\n",
    "    best_score = results['mean_test_%s' % scorer][best_index]\n",
    "    # 標示最大值\n",
    "    ax.plot([X_axis[best_index], ] * 2, [0, best_score], lw=2,\n",
    "            linestyle='-.', color=color, marker='x', markeredgewidth=3, ms=8)\n",
    "    ax.annotate(\"%0.2f\" % best_score,\n",
    "                (X_axis[best_index], best_score + 0.005))\n",
    "\n",
    "plt.xlabel('n_estimators')\n",
    "plt.ylabel('Score')\n",
    "plt.legend()"
   ]
  },
  {
   "cell_type": "code",
   "execution_count": 10,
   "metadata": {},
   "outputs": [
    {
     "name": "stdout",
     "output_type": "stream",
     "text": [
      "0    822\n",
      "1     72\n",
      "Name: Fire, dtype: int64\n"
     ]
    },
    {
     "data": {
      "text/html": [
       "<div>\n",
       "<style scoped>\n",
       "    .dataframe tbody tr th:only-of-type {\n",
       "        vertical-align: middle;\n",
       "    }\n",
       "\n",
       "    .dataframe tbody tr th {\n",
       "        vertical-align: top;\n",
       "    }\n",
       "\n",
       "    .dataframe thead th {\n",
       "        text-align: right;\n",
       "    }\n",
       "</style>\n",
       "<table border=\"1\" class=\"dataframe\">\n",
       "  <thead>\n",
       "    <tr style=\"text-align: right;\">\n",
       "      <th></th>\n",
       "      <th>Number</th>\n",
       "      <th>Name</th>\n",
       "      <th>Type1</th>\n",
       "      <th>Type2</th>\n",
       "      <th>HP</th>\n",
       "      <th>Attack</th>\n",
       "      <th>Defense</th>\n",
       "      <th>SpecialAtk</th>\n",
       "      <th>SpecialDef</th>\n",
       "      <th>Speed</th>\n",
       "      <th>Generation</th>\n",
       "      <th>Legendary</th>\n",
       "      <th>Water</th>\n",
       "      <th>Fire</th>\n",
       "    </tr>\n",
       "  </thead>\n",
       "  <tbody>\n",
       "    <tr>\n",
       "      <th>170</th>\n",
       "      <td>156</td>\n",
       "      <td>火岩鼠</td>\n",
       "      <td>Fire</td>\n",
       "      <td>NaN</td>\n",
       "      <td>58</td>\n",
       "      <td>64</td>\n",
       "      <td>58</td>\n",
       "      <td>80</td>\n",
       "      <td>65</td>\n",
       "      <td>80</td>\n",
       "      <td>2</td>\n",
       "      <td>False</td>\n",
       "      <td>0</td>\n",
       "      <td>1</td>\n",
       "    </tr>\n",
       "    <tr>\n",
       "      <th>270</th>\n",
       "      <td>250</td>\n",
       "      <td>鳳王</td>\n",
       "      <td>Fire</td>\n",
       "      <td>Flying</td>\n",
       "      <td>106</td>\n",
       "      <td>130</td>\n",
       "      <td>90</td>\n",
       "      <td>110</td>\n",
       "      <td>154</td>\n",
       "      <td>90</td>\n",
       "      <td>2</td>\n",
       "      <td>True</td>\n",
       "      <td>0</td>\n",
       "      <td>1</td>\n",
       "    </tr>\n",
       "    <tr>\n",
       "      <th>370</th>\n",
       "      <td>338</td>\n",
       "      <td>太陽岩</td>\n",
       "      <td>Rock</td>\n",
       "      <td>Psychic</td>\n",
       "      <td>70</td>\n",
       "      <td>95</td>\n",
       "      <td>85</td>\n",
       "      <td>55</td>\n",
       "      <td>65</td>\n",
       "      <td>70</td>\n",
       "      <td>3</td>\n",
       "      <td>False</td>\n",
       "      <td>0</td>\n",
       "      <td>0</td>\n",
       "    </tr>\n",
       "  </tbody>\n",
       "</table>\n",
       "</div>"
      ],
      "text/plain": [
       "     Number Name Type1    Type2   HP  Attack  Defense  SpecialAtk  SpecialDef  \\\n",
       "170     156  火岩鼠  Fire      NaN   58      64       58          80          65   \n",
       "270     250   鳳王  Fire   Flying  106     130       90         110         154   \n",
       "370     338  太陽岩  Rock  Psychic   70      95       85          55          65   \n",
       "\n",
       "     Speed  Generation  Legendary  Water  Fire  \n",
       "170     80           2      False      0     1  \n",
       "270     90           2       True      0     1  \n",
       "370     70           3      False      0     0  "
      ]
     },
     "execution_count": 10,
     "metadata": {},
     "output_type": "execute_result"
    }
   ],
   "source": [
    "type_ = 'Fire'\n",
    "lst1 = [1 if x == type_ else 0 for x in df.Type1]\n",
    "lst2 = [1 if x == type_ else 0 for x in df.Type2]\n",
    "df[type_] = [1 if lst1[i] or lst2[i] else 0 \\\n",
    "             for i in range(len(lst1))]\n",
    "# 列出有無 Fire 屬性的數量\n",
    "print(df[type_].value_counts())\n",
    "df.take([170,270,370])"
   ]
  },
  {
   "cell_type": "code",
   "execution_count": 11,
   "metadata": {},
   "outputs": [
    {
     "name": "stdout",
     "output_type": "stream",
     "text": [
      "0    663\n",
      "1     52\n",
      "Name: Fire, dtype: int64\n",
      "0    159\n",
      "1     20\n",
      "Name: Fire, dtype: int64\n"
     ]
    }
   ],
   "source": [
    "X, y = df.loc[:, 'HP':'Speed'], df[type_]\n",
    "X_train, X_test, y_train, y_test = \\\n",
    "    train_test_split(X, y, test_size=0.2, \n",
    "                     random_state=0)\n",
    "print(y_train.value_counts())\n",
    "print(y_test.value_counts())"
   ]
  },
  {
   "cell_type": "code",
   "execution_count": 12,
   "metadata": {},
   "outputs": [
    {
     "name": "stdout",
     "output_type": "stream",
     "text": [
      "CV score (training): 0.926 +/- 0.002\n",
      "Best parameters (training): {'clf': RandomForestClassifier(max_depth=5, max_features=2, n_estimators=10), 'clf__max_depth': 5, 'clf__max_features': 2, 'clf__n_estimators': 10}\n",
      "              precision    recall  f1-score   support\n",
      "\n",
      "           0       1.00      0.89      0.94       179\n",
      "           1       0.00      0.00      0.00         0\n",
      "\n",
      "    accuracy                           0.89       179\n",
      "   macro avg       0.50      0.44      0.47       179\n",
      "weighted avg       1.00      0.89      0.94       179\n",
      "\n"
     ]
    }
   ],
   "source": [
    "from sklearn.metrics import classification_report\n",
    "\n",
    "pipe = Pipeline([('clf', RandomForestClassifier())])\n",
    "param_range = np.logspace(-4, 2, 10)\n",
    "param_grid = [{'clf': [LogisticRegression()], \n",
    "               'clf__penalty': ['l1', 'l2'], \n",
    "               'clf__C': param_range}, \n",
    "              {'clf': [RandomForestClassifier()], \n",
    "               'clf__n_estimators': [10, 20, 30, 50],\n",
    "               'clf__max_depth': [3, 4, 5],\n",
    "               'clf__max_features': [2, 3, 4]}]\n",
    "# 評估指標為 accuracy\n",
    "grid_s = GridSearchCV(estimator=pipe, cv=2, n_jobs=-1,\n",
    "                      param_grid=param_grid, \n",
    "                      scoring='accuracy')\n",
    "scores = cross_val_score(grid_s, X_train, y_train, \n",
    "                         scoring='accuracy', cv=3)\n",
    "print('CV score (training): %.3f +/- %.3f' \n",
    "      %(np.mean(scores), np.std(scores)))\n",
    "grid_s.fit(X_train, y_train)\n",
    "print('Best parameters (training):', grid_s.best_params_)\n",
    "y_pred = grid_s.predict(X_test)\n",
    "print(classification_report(y_pred, y_test))"
   ]
  },
  {
   "cell_type": "code",
   "execution_count": 13,
   "metadata": {},
   "outputs": [
    {
     "name": "stdout",
     "output_type": "stream",
     "text": [
      "CV score (training): 0.709 +/- 0.088\n",
      "Best parameters (training): {'clf': LogisticRegression(C=0.0001, class_weight='balanced'), 'clf__C': 0.0001, 'clf__class_weight': 'balanced', 'clf__penalty': 'l2'}\n",
      "              precision    recall  f1-score   support\n",
      "\n",
      "           0       0.62      0.93      0.75       106\n",
      "           1       0.65      0.18      0.28        73\n",
      "\n",
      "    accuracy                           0.63       179\n",
      "   macro avg       0.64      0.56      0.51       179\n",
      "weighted avg       0.63      0.63      0.56       179\n",
      "\n"
     ]
    }
   ],
   "source": [
    "from sklearn.metrics import classification_report\n",
    "\n",
    "pipe = Pipeline([('clf', RandomForestClassifier())])\n",
    "param_range = np.logspace(-4, 2, 10)\n",
    "# 加入 class_weight 參數\n",
    "param_grid = [{'clf': [LogisticRegression()], \n",
    "               'clf__penalty': ['l1', 'l2'], \n",
    "               'clf__C': param_range, \n",
    "               'clf__class_weight': ['balanced']}, \n",
    "              {'clf': [RandomForestClassifier()], \n",
    "               'clf__n_estimators': [10, 20, 30, 50],\n",
    "               'clf__max_depth': [3, 4, 5],\n",
    "               'clf__max_features': [2, 3, 4], \n",
    "               'clf__class_weight': ['balanced']}]\n",
    "\n",
    "grid_s = GridSearchCV(estimator=pipe, cv=2, n_jobs=-1,\n",
    "                      param_grid=param_grid, \n",
    "                      scoring='recall')\n",
    "scores = cross_val_score(grid_s, X_train, y_train, \n",
    "                         scoring='recall', cv=3)\n",
    "print('CV score (training): %.3f +/- %.3f' \n",
    "      %(np.mean(scores), np.std(scores)))\n",
    "grid_s.fit(X_train, y_train)\n",
    "print('Best parameters (training):', grid_s.best_params_)\n",
    "y_pred = grid_s.predict(X_test)\n",
    "print(classification_report(y_pred, y_test))"
   ]
  },
  {
   "cell_type": "code",
   "execution_count": 14,
   "metadata": {},
   "outputs": [
    {
     "name": "stdout",
     "output_type": "stream",
     "text": [
      "0    663\n",
      "1     52\n",
      "Name: Fire, dtype: int64\n",
      "Class 0: 663\n",
      "Class 1: 663\n"
     ]
    }
   ],
   "source": [
    "from sklearn.utils import resample\n",
    "\n",
    "print(y_train.value_counts())\n",
    "# 對類別 1 進行放回式取樣\n",
    "size = y_train[y_train == 0].shape[0]\n",
    "X_up, y_up = resample(X_train[y_train == 1], \n",
    "                      y_train[y_train == 1], \n",
    "                      replace=True, \n",
    "                      n_samples=size, \n",
    "                      random_state=0)\n",
    "X_train_up = np.vstack((X_train[y_train==0], X_up))\n",
    "y_train_up = np.hstack((y_train[y_train==0], y_up))\n",
    "print('Class 0:', len(y_train_up) - y_train_up.sum())\n",
    "print('Class 1:', y_train_up.sum())"
   ]
  },
  {
   "cell_type": "code",
   "execution_count": 15,
   "metadata": {},
   "outputs": [
    {
     "name": "stdout",
     "output_type": "stream",
     "text": [
      "              precision    recall  f1-score   support\n",
      "\n",
      "           0       1.00      0.89      0.94       179\n",
      "           1       0.00      0.00      0.00         0\n",
      "\n",
      "    accuracy                           0.89       179\n",
      "   macro avg       0.50      0.44      0.47       179\n",
      "weighted avg       1.00      0.89      0.94       179\n",
      "\n"
     ]
    }
   ],
   "source": [
    "# 邏輯斯迴歸擬合類別不平衡數據\n",
    "logit = LogisticRegression().fit(X_train, y_train)\n",
    "y_pred = logit.predict(X_test)\n",
    "print(classification_report(y_pred, y_test))"
   ]
  },
  {
   "cell_type": "code",
   "execution_count": 16,
   "metadata": {},
   "outputs": [
    {
     "name": "stdout",
     "output_type": "stream",
     "text": [
      "              precision    recall  f1-score   support\n",
      "\n",
      "           0       0.64      0.94      0.76       109\n",
      "           1       0.65      0.19      0.29        70\n",
      "\n",
      "    accuracy                           0.64       179\n",
      "   macro avg       0.65      0.56      0.53       179\n",
      "weighted avg       0.64      0.64      0.58       179\n",
      "\n"
     ]
    }
   ],
   "source": [
    "# 邏輯斯迴歸加上 class_weight='balanced'\n",
    "logit = LogisticRegression(class_weight='balanced')\n",
    "logit.fit(X_train, y_train)\n",
    "y_pred = logit.predict(X_test)\n",
    "print(classification_report(y_pred, y_test))"
   ]
  },
  {
   "cell_type": "code",
   "execution_count": 17,
   "metadata": {},
   "outputs": [
    {
     "name": "stdout",
     "output_type": "stream",
     "text": [
      "              precision    recall  f1-score   support\n",
      "\n",
      "           0       0.66      0.94      0.77       112\n",
      "           1       0.65      0.19      0.30        67\n",
      "\n",
      "    accuracy                           0.66       179\n",
      "   macro avg       0.66      0.57      0.54       179\n",
      "weighted avg       0.66      0.66      0.60       179\n",
      "\n"
     ]
    }
   ],
   "source": [
    "# 邏輯斯迴歸擬合經過上取樣的數據\n",
    "logit = LogisticRegression()\n",
    "logit.fit(X_train_up, y_train_up)\n",
    "y_pred = logit.predict(X_test)\n",
    "print(classification_report(y_pred, y_test))"
   ]
  }
 ],
 "metadata": {
  "kernelspec": {
   "display_name": "Python 3",
   "language": "python",
   "name": "python3"
  },
  "language_info": {
   "codemirror_mode": {
    "name": "ipython",
    "version": 3
   },
   "file_extension": ".py",
   "mimetype": "text/x-python",
   "name": "python",
   "nbconvert_exporter": "python",
   "pygments_lexer": "ipython3",
   "version": "3.7.6"
  }
 },
 "nbformat": 4,
 "nbformat_minor": 4
}
