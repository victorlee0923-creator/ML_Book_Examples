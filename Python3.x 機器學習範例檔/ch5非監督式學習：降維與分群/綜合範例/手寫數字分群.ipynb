{
 "cells": [
  {
   "cell_type": "code",
   "execution_count": 1,
   "metadata": {},
   "outputs": [
    {
     "data": {
      "text/plain": [
       "(1797, 64)"
      ]
     },
     "execution_count": 1,
     "metadata": {},
     "output_type": "execute_result"
    }
   ],
   "source": [
    "import warnings\n",
    "warnings.filterwarnings('ignore')\n",
    "import numpy as np\n",
    "from sklearn.datasets import load_digits\n",
    "\n",
    "seed = 0 \n",
    "\n",
    "# 載入手寫數字資料集\n",
    "X_digits, y_digits = load_digits(return_X_y=True)  # 數值特徵：數字類別\n",
    "X_digits.shape"
   ]
  },
  {
   "cell_type": "code",
   "execution_count": 2,
   "metadata": {},
   "outputs": [
    {
     "data": {
      "text/plain": [
       "<matplotlib.image.AxesImage at 0x1c2dc5c9a48>"
      ]
     },
     "execution_count": 2,
     "metadata": {},
     "output_type": "execute_result"
    },
    {
     "data": {
      "image/png": "[encoded data removed]",
      "text/plain": [
       "<Figure size 432x288 with 1 Axes>"
      ]
     },
     "metadata": {
      "needs_background": "light"
     },
     "output_type": "display_data"
    }
   ],
   "source": [
    "# 顯示數字\n",
    "from matplotlib.pyplot import imshow\n",
    "from PIL import Image\n",
    "\n",
    "imshow(X_digits[0, :].reshape(8,8))"
   ]
  },
  {
   "cell_type": "code",
   "execution_count": 3,
   "metadata": {},
   "outputs": [],
   "source": [
    "# 特徵標準化\n",
    "from sklearn.preprocessing import scale\n",
    "from sklearn.preprocessing import StandardScaler\n",
    "\n",
    "data = scale(X_digits)"
   ]
  },
  {
   "cell_type": "code",
   "execution_count": 4,
   "metadata": {},
   "outputs": [
    {
     "name": "stdout",
     "output_type": "stream",
     "text": [
      "n_digits: 10, n_samples: 1797, n_features: 64\n"
     ]
    }
   ],
   "source": [
    "# 取出資料集的數字類別數\n",
    "n_digits = len(np.unique(y_digits))\n",
    "n_samples, n_features = data.shape\n",
    "\n",
    "print(\"n_digits: %d, n_samples: %d, n_features: %d\"\n",
    "      % (n_digits, n_samples, n_features))"
   ]
  },
  {
   "cell_type": "code",
   "execution_count": 5,
   "metadata": {},
   "outputs": [],
   "source": [
    "# 建立兩個 K-Means 模型，除以下參數設定外，其餘為預設值\n",
    "# #############################################################################\n",
    "# kmean1: init='k-means++', n_clusters=n_digits, n_init=10, random_state=seed\n",
    "# kmean2: init='random', n_clusters=n_digits, n_init=10, random_state=seed\n",
    "# #############################################################################\n",
    "from sklearn.cluster import KMeans\n",
    "\n",
    "kmean1 = KMeans(init='k-means++', n_clusters=n_digits, n_init=10, \n",
    "                random_state=seed)\n",
    "kmean2 = KMeans(init='random', n_clusters=n_digits, n_init=10, \n",
    "                random_state=seed)"
   ]
  },
  {
   "cell_type": "code",
   "execution_count": 6,
   "metadata": {},
   "outputs": [],
   "source": [
    "# 利用 PCA 結果建立 K-Means 模型，除以下參數設定外，其餘為預設值\n",
    "# #############################################################################\n",
    "# pca: n_components=n_digits, random_state=seed\n",
    "# kmean3: init=pca.components_, n_clusters=n_digits, n_init=1, random_state=seed\n",
    "# #############################################################################\n",
    "from sklearn.decomposition import PCA\n",
    "\n",
    "pca = PCA(n_components=n_digits, random_state=seed).fit(data)\n",
    "kmean3 = KMeans(init=pca.components_, n_clusters=n_digits, n_init=1, \n",
    "                random_state=seed)"
   ]
  },
  {
   "cell_type": "code",
   "execution_count": 7,
   "metadata": {},
   "outputs": [
    {
     "name": "stdout",
     "output_type": "stream",
     "text": [
      "K-Mean (k-means++): Silhouette=0.1455 Accuracy=0.1953\n",
      "K-Means (random): Silhouette=0.1448 Accuracy=0.2816\n",
      "K-Means (PCA-based): Silhouette=0.1388 Accuracy=0.1085\n"
     ]
    }
   ],
   "source": [
    "# 分別計算上述三個 K-Means 模型的輪廓係數(Silhouette coefficient)與\n",
    "# 分類準確率(accuracy)，除以下參數設定外，其餘為預設值\n",
    "# #############################################################################\n",
    "# silhouette_score: metric='euclidean'\n",
    "# #############################################################################\n",
    "from sklearn.metrics import silhouette_score\n",
    "from sklearn.metrics import accuracy_score\n",
    "\n",
    "lst_name = ['K-Mean (k-means++)', 'K-Means (random)', 'K-Means (PCA-based)']\n",
    "lst_model = [kmean1, kmean2, kmean3]\n",
    "\n",
    "for name, model in zip(lst_name, lst_model):\n",
    "    model.fit(data)\n",
    "    silhouette = silhouette_score(data, model.labels_, metric='euclidean')\n",
    "    print('%s: Silhouette=%.4f' % (name, silhouette), end='')\n",
    "    print(' Accuracy=%.4f' % accuracy_score(y_digits, model.labels_))"
   ]
  },
  {
   "cell_type": "code",
   "execution_count": 8,
   "metadata": {},
   "outputs": [
    {
     "name": "stdout",
     "output_type": "stream",
     "text": [
      "PCA+KMeans Silhouette=0.0600 Accuracy=0.1441\n"
     ]
    }
   ],
   "source": [
    "# 進行 PCA 降維後再做 K-Means，除以下參數設定外，其餘為預設值\n",
    "# #############################################################################\n",
    "# kmeans: init='k-means++', n_clusters=n_digits, n_init=10, random_state=seed\n",
    "# PCA: n_components=2, random_state=seed\n",
    "# #############################################################################\n",
    "kmeans = KMeans(init='k-means++', n_clusters=n_digits, n_init=10, \n",
    "                random_state=seed)\n",
    "reduced_data = PCA(n_components=2, random_state=seed).fit_transform(data)\n",
    "kmeans.fit(reduced_data)\n",
    "print('PCA+KMeans Silhouette=%.4f' % silhouette_score(data, kmeans.labels_, \n",
    "                                                        metric='euclidean'), \n",
    "                                                        end='')\n",
    "print(' Accuracy=%.4f' % accuracy_score(y_digits, kmeans.labels_))"
   ]
  },
  {
   "cell_type": "code",
   "execution_count": null,
   "metadata": {},
   "outputs": [],
   "source": []
  }
 ],
 "metadata": {
  "kernelspec": {
   "display_name": "Python 3",
   "language": "python",
   "name": "python3"
  },
  "language_info": {
   "codemirror_mode": {
    "name": "ipython",
    "version": 3
   },
   "file_extension": ".py",
   "mimetype": "text/x-python",
   "name": "python",
   "nbconvert_exporter": "python",
   "pygments_lexer": "ipython3",
   "version": "3.7.6"
  }
 },
 "nbformat": 4,
 "nbformat_minor": 4
}
