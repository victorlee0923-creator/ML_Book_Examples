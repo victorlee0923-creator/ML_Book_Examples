{
 "cells": [
  {
   "cell_type": "markdown",
   "metadata": {},
   "source": [
    "# Ch 7. 機器學習應用\n",
    "## 7-1. 自然語言處理\n",
    "\n",
    "[7-1-3. 情感分析](#sec3)\n",
    " - [IMDB 影評數據](#sec3_1)\n",
    " - [短文情感分析](#sec3_2)\n",
    " - [簡易情感分析](#sec3_3)\n",
    "***"
   ]
  },
  {
   "cell_type": "markdown",
   "metadata": {},
   "source": [
    "<a id='sec3'></a>\n",
    "## 7-1-3. 情感分析\n",
    "<a id='sec3_1'></a>\n",
    "### IMDB 影評數據"
   ]
  },
  {
   "cell_type": "code",
   "execution_count": 1,
   "metadata": {},
   "outputs": [
    {
     "name": "stdout",
     "output_type": "stream",
     "text": [
      "negative    2553\n",
      "positive    2447\n",
      "Name: sentiment, dtype: int64\n"
     ]
    },
    {
     "data": {
      "text/html": [
       "<div>\n",
       "<style scoped>\n",
       "    .dataframe tbody tr th:only-of-type {\n",
       "        vertical-align: middle;\n",
       "    }\n",
       "\n",
       "    .dataframe tbody tr th {\n",
       "        vertical-align: top;\n",
       "    }\n",
       "\n",
       "    .dataframe thead th {\n",
       "        text-align: right;\n",
       "    }\n",
       "</style>\n",
       "<table border=\"1\" class=\"dataframe\">\n",
       "  <thead>\n",
       "    <tr style=\"text-align: right;\">\n",
       "      <th></th>\n",
       "      <th>review</th>\n",
       "      <th>sentiment</th>\n",
       "    </tr>\n",
       "  </thead>\n",
       "  <tbody>\n",
       "    <tr>\n",
       "      <th>0</th>\n",
       "      <td>John Cassavetes is on the run from the law. He...</td>\n",
       "      <td>positive</td>\n",
       "    </tr>\n",
       "    <tr>\n",
       "      <th>1</th>\n",
       "      <td>It's not just that the movie is lame. It's mor...</td>\n",
       "      <td>negative</td>\n",
       "    </tr>\n",
       "    <tr>\n",
       "      <th>2</th>\n",
       "      <td>Well, if it weren't for Ethel Waters and a 7-y...</td>\n",
       "      <td>negative</td>\n",
       "    </tr>\n",
       "  </tbody>\n",
       "</table>\n",
       "</div>"
      ],
      "text/plain": [
       "                                              review sentiment\n",
       "0  John Cassavetes is on the run from the law. He...  positive\n",
       "1  It's not just that the movie is lame. It's mor...  negative\n",
       "2  Well, if it weren't for Ethel Waters and a 7-y...  negative"
      ]
     },
     "execution_count": 1,
     "metadata": {},
     "output_type": "execute_result"
    }
   ],
   "source": [
    "import numpy as np\n",
    "import pandas as pd\n",
    "\n",
    "size = 5000 # 只取部分樣本，節省運算時間\n",
    "\n",
    "df = pd.read_csv('IMDb_dataset.csv')\n",
    "df = df.sample(n=size, random_state=0)\n",
    "df.reset_index(inplace=True, drop=True)\n",
    "print(df['sentiment'].value_counts())\n",
    "df.head(3)"
   ]
  },
  {
   "cell_type": "code",
   "execution_count": 2,
   "metadata": {},
   "outputs": [
    {
     "data": {
      "text/html": [
       "<div>\n",
       "<style scoped>\n",
       "    .dataframe tbody tr th:only-of-type {\n",
       "        vertical-align: middle;\n",
       "    }\n",
       "\n",
       "    .dataframe tbody tr th {\n",
       "        vertical-align: top;\n",
       "    }\n",
       "\n",
       "    .dataframe thead th {\n",
       "        text-align: right;\n",
       "    }\n",
       "</style>\n",
       "<table border=\"1\" class=\"dataframe\">\n",
       "  <thead>\n",
       "    <tr style=\"text-align: right;\">\n",
       "      <th></th>\n",
       "      <th>review</th>\n",
       "      <th>sentiment</th>\n",
       "    </tr>\n",
       "  </thead>\n",
       "  <tbody>\n",
       "    <tr>\n",
       "      <th>0</th>\n",
       "      <td>John Cassavetes is on the run from the law. He...</td>\n",
       "      <td>1</td>\n",
       "    </tr>\n",
       "    <tr>\n",
       "      <th>1</th>\n",
       "      <td>It's not just that the movie is lame. It's mor...</td>\n",
       "      <td>0</td>\n",
       "    </tr>\n",
       "    <tr>\n",
       "      <th>2</th>\n",
       "      <td>Well, if it weren't for Ethel Waters and a 7-y...</td>\n",
       "      <td>0</td>\n",
       "    </tr>\n",
       "  </tbody>\n",
       "</table>\n",
       "</div>"
      ],
      "text/plain": [
       "                                              review  sentiment\n",
       "0  John Cassavetes is on the run from the law. He...          1\n",
       "1  It's not just that the movie is lame. It's mor...          0\n",
       "2  Well, if it weren't for Ethel Waters and a 7-y...          0"
      ]
     },
     "execution_count": 2,
     "metadata": {},
     "output_type": "execute_result"
    }
   ],
   "source": [
    "from sklearn.preprocessing import LabelEncoder\n",
    "\n",
    "le = LabelEncoder().fit(df['sentiment'])\n",
    "df['sentiment'] = le.transform(df['sentiment'])\n",
    "df.head(3)"
   ]
  },
  {
   "cell_type": "code",
   "execution_count": 3,
   "metadata": {},
   "outputs": [
    {
     "data": {
      "text/plain": [
       "'ch needed.<br /><br />All the three principle char'"
      ]
     },
     "execution_count": 3,
     "metadata": {},
     "output_type": "execute_result"
    }
   ],
   "source": [
    "# 評論包含有 HTML 標籤、標點符號以及其他非字母字元(e.g., (, [)\n",
    "df.loc[0, 'review'][-150:-100]"
   ]
  },
  {
   "cell_type": "markdown",
   "metadata": {},
   "source": [
    "#### 移除或取代某些字元"
   ]
  },
  {
   "cell_type": "code",
   "execution_count": 4,
   "metadata": {},
   "outputs": [
    {
     "data": {
      "text/plain": [
       "' the time was much needed All the three principle '"
      ]
     },
     "execution_count": 4,
     "metadata": {},
     "output_type": "execute_result"
    }
   ],
   "source": [
    "from bs4 import BeautifulSoup\n",
    "import re\n",
    "\n",
    "def remove_noise(text):\n",
    "    # 移除 HTML 標籤\n",
    "    soup = BeautifulSoup(text, \"html.parser\")\n",
    "    text = soup.get_text()\n",
    "    \n",
    "    # 移除中括號內的文字\n",
    "    text = re.sub('\\[[^]]*\\]', '', text)\n",
    "    \n",
    "    # 將句點取代為空格\n",
    "    text = text.replace('.', ' ')\n",
    "    \n",
    "    # 移除特殊字元、標點符號\n",
    "    pattern = r'[^a-zA-Z0-9\\s]'\n",
    "    text = re.sub(pattern,'',text)\n",
    "    \n",
    "    return text\n",
    "\n",
    "df['review'] = df['review'].apply(remove_noise)\n",
    "df.loc[0, 'review'][-150:-100]"
   ]
  },
  {
   "cell_type": "markdown",
   "metadata": {},
   "source": [
    "#### 提取詞幹"
   ]
  },
  {
   "cell_type": "code",
   "execution_count": 5,
   "metadata": {},
   "outputs": [
    {
     "data": {
      "text/plain": [
       "'john cassavet is on the run from the law He is at '"
      ]
     },
     "execution_count": 5,
     "metadata": {},
     "output_type": "execute_result"
    }
   ],
   "source": [
    "from nltk.stem.porter import PorterStemmer\n",
    "\n",
    "porter = PorterStemmer()\n",
    "\n",
    "# 提取詞幹\n",
    "def get_stemming(text):\n",
    "    text= ' '.join([porter.stem(w) for w in text.split()])   \n",
    "    return text\n",
    "\n",
    "df['review'] = df['review'].apply(get_stemming)\n",
    "df.loc[0, 'review'][:50]"
   ]
  },
  {
   "cell_type": "markdown",
   "metadata": {},
   "source": [
    "#### 移除停止詞"
   ]
  },
  {
   "cell_type": "code",
   "execution_count": 6,
   "metadata": {},
   "outputs": [
    {
     "data": {
      "text/plain": [
       "'john cassavet run law bottom heap see negro sidney'"
      ]
     },
     "execution_count": 6,
     "metadata": {},
     "output_type": "execute_result"
    }
   ],
   "source": [
    "from nltk.corpus import stopwords\n",
    "from nltk.tokenize import word_tokenize\n",
    "\n",
    "stopword_lst = stopwords.words('english')\n",
    "\n",
    "# 移除停止詞\n",
    "def remove_stopwords(text):\n",
    "    tokens = word_tokenize(text)\n",
    "    tokens = [token.strip() for token in tokens]\n",
    "    filtered_tokens = [token for token in tokens if token.lower() not in stopword_lst]\n",
    "    filtered_text = ' '.join(filtered_tokens)  \n",
    "    \n",
    "    return filtered_text\n",
    "\n",
    "df['review'] = df['review'].apply(remove_stopwords)\n",
    "df.loc[0, 'review'][:50]"
   ]
  },
  {
   "cell_type": "code",
   "execution_count": 7,
   "metadata": {},
   "outputs": [
    {
     "data": {
      "text/html": [
       "<div>\n",
       "<style scoped>\n",
       "    .dataframe tbody tr th:only-of-type {\n",
       "        vertical-align: middle;\n",
       "    }\n",
       "\n",
       "    .dataframe tbody tr th {\n",
       "        vertical-align: top;\n",
       "    }\n",
       "\n",
       "    .dataframe thead th {\n",
       "        text-align: right;\n",
       "    }\n",
       "</style>\n",
       "<table border=\"1\" class=\"dataframe\">\n",
       "  <thead>\n",
       "    <tr style=\"text-align: right;\">\n",
       "      <th></th>\n",
       "      <th>總筆數</th>\n",
       "      <th>正評論筆數</th>\n",
       "      <th>負評論筆數</th>\n",
       "    </tr>\n",
       "  </thead>\n",
       "  <tbody>\n",
       "    <tr>\n",
       "      <th>訓練集</th>\n",
       "      <td>4000</td>\n",
       "      <td>1954</td>\n",
       "      <td>2046</td>\n",
       "    </tr>\n",
       "    <tr>\n",
       "      <th>測試集</th>\n",
       "      <td>1000</td>\n",
       "      <td>493</td>\n",
       "      <td>507</td>\n",
       "    </tr>\n",
       "  </tbody>\n",
       "</table>\n",
       "</div>"
      ],
      "text/plain": [
       "      總筆數  正評論筆數  負評論筆數\n",
       "訓練集  4000   1954   2046\n",
       "測試集  1000    493    507"
      ]
     },
     "execution_count": 7,
     "metadata": {},
     "output_type": "execute_result"
    }
   ],
   "source": [
    "# 切割訓練集、測試集\n",
    "train_size = 0.8\n",
    "\n",
    "X_train = df.loc[:size*train_size-1, 'review'].values\n",
    "y_train = df.loc[:size*train_size-1, 'sentiment'].values\n",
    "X_test = df.loc[size*train_size:, 'review'].values\n",
    "y_test = df.loc[size*train_size:, 'sentiment'].values\n",
    "\n",
    "dct = {'總筆數': [X_train.shape[0], X_test.shape[0]], \n",
    "       '正評論筆數': [y_train.sum(), y_test.sum()], \n",
    "       '負評論筆數': [(y_train==0).sum(), (y_test==0).sum()]}\n",
    "pd.DataFrame(dct, index=['訓練集', '測試集'])"
   ]
  },
  {
   "cell_type": "markdown",
   "metadata": {},
   "source": [
    "#### TF-IDF + 邏輯斯迴歸 + 網格搜尋"
   ]
  },
  {
   "cell_type": "code",
   "execution_count": 8,
   "metadata": {},
   "outputs": [
    {
     "name": "stdout",
     "output_type": "stream",
     "text": [
      "Fitting 5 folds for each of 160 candidates, totalling 800 fits\n"
     ]
    },
    {
     "name": "stderr",
     "output_type": "stream",
     "text": [
      "[Parallel(n_jobs=-1)]: Using backend LokyBackend with 8 concurrent workers.\n",
      "[Parallel(n_jobs=-1)]: Done  34 tasks      | elapsed:    4.8s\n",
      "[Parallel(n_jobs=-1)]: Done 184 tasks      | elapsed:   20.3s\n",
      "[Parallel(n_jobs=-1)]: Done 434 tasks      | elapsed:   49.4s\n",
      "[Parallel(n_jobs=-1)]: Done 784 tasks      | elapsed:  1.5min\n",
      "[Parallel(n_jobs=-1)]: Done 800 out of 800 | elapsed:  1.5min finished\n"
     ]
    },
    {
     "data": {
      "text/plain": [
       "GridSearchCV(cv=5, error_score=nan,\n",
       "             estimator=Pipeline(memory=None,\n",
       "                                steps=[('tfidf',\n",
       "                                        TfidfVectorizer(analyzer='word',\n",
       "                                                        binary=False,\n",
       "                                                        decode_error='strict',\n",
       "                                                        dtype=<class 'numpy.float64'>,\n",
       "                                                        encoding='utf-8',\n",
       "                                                        input='content',\n",
       "                                                        lowercase=True,\n",
       "                                                        max_df=1.0,\n",
       "                                                        max_features=None,\n",
       "                                                        min_df=1,\n",
       "                                                        ngram_range=(1, 1),\n",
       "                                                        norm='l2',\n",
       "                                                        preprocessor=None,\n",
       "                                                        smooth_idf=True,\n",
       "                                                        stop_words=None,\n",
       "                                                        strip_acc...\n",
       "                         {'clf__C': array([1.00000000e-02, 2.78255940e-02, 7.74263683e-02, 2.15443469e-01,\n",
       "       5.99484250e-01, 1.66810054e+00, 4.64158883e+00, 1.29154967e+01,\n",
       "       3.59381366e+01, 1.00000000e+02]),\n",
       "                          'clf__penalty': ['l1', 'l2'],\n",
       "                          'tfidf__ngram_range': [(1, 1)],\n",
       "                          'tfidf__norm': ['l1', 'l2'],\n",
       "                          'tfidf__stop_words': ['english', None],\n",
       "                          'tfidf__use_idf': [False]}],\n",
       "             pre_dispatch='2*n_jobs', refit=True, return_train_score=False,\n",
       "             scoring='accuracy', verbose=1)"
      ]
     },
     "execution_count": 8,
     "metadata": {},
     "output_type": "execute_result"
    }
   ],
   "source": [
    "from sklearn.feature_extraction.text import TfidfVectorizer\n",
    "from sklearn.pipeline import Pipeline\n",
    "from sklearn.linear_model import LogisticRegression\n",
    "from sklearn.model_selection import GridSearchCV\n",
    "\n",
    "tf_idf = TfidfVectorizer()\n",
    "\n",
    "pipe = Pipeline([('tfidf', tf_idf),\n",
    "                 ('clf', LogisticRegression())])\n",
    "\n",
    "param_grid = [{'tfidf__ngram_range': [(1, 1)],\n",
    "               'tfidf__stop_words': ['english', None],\n",
    "               'tfidf__use_idf':[True],\n",
    "               'tfidf__norm':['l1', 'l2'],\n",
    "               'clf__penalty': ['l1', 'l2'],\n",
    "               'clf__C': np.logspace(-2, 2, 10)},\n",
    "              {'tfidf__ngram_range': [(1, 1)],\n",
    "               'tfidf__stop_words': ['english', None],\n",
    "               'tfidf__use_idf':[False],\n",
    "               'tfidf__norm':['l1', 'l2'],\n",
    "               'clf__penalty': ['l1', 'l2'],\n",
    "               'clf__C': np.logspace(-2, 2, 10)},\n",
    "              ]\n",
    "\n",
    "gs = GridSearchCV(pipe, param_grid, scoring='accuracy', \n",
    "                  cv=5, verbose=1, n_jobs=-1)\n",
    "gs.fit(X_train, y_train)"
   ]
  },
  {
   "cell_type": "markdown",
   "metadata": {},
   "source": [
    "#### 搜尋到的最佳參數組合"
   ]
  },
  {
   "cell_type": "code",
   "execution_count": 9,
   "metadata": {},
   "outputs": [
    {
     "name": "stdout",
     "output_type": "stream",
     "text": [
      "Best parameters: {'clf__C': 4.6415888336127775, 'clf__penalty': 'l2', 'tfidf__ngram_range': (1, 1), 'tfidf__norm': 'l2', 'tfidf__stop_words': None, 'tfidf__use_idf': True}\n"
     ]
    }
   ],
   "source": [
    "print('Best parameters:', gs.best_params_)"
   ]
  },
  {
   "cell_type": "markdown",
   "metadata": {},
   "source": [
    "#### 分類準確率"
   ]
  },
  {
   "cell_type": "code",
   "execution_count": 10,
   "metadata": {},
   "outputs": [
    {
     "name": "stdout",
     "output_type": "stream",
     "text": [
      "Train accuracy: 0.8512500000000001\n",
      "Test accuracy: 0.866\n"
     ]
    }
   ],
   "source": [
    "print('Train accuracy:', gs.best_score_)\n",
    "clf = gs.best_estimator_\n",
    "print('Test accuracy:', clf.score(X_test, y_test))"
   ]
  },
  {
   "cell_type": "markdown",
   "metadata": {},
   "source": [
    "<a id='sec3_2'></a>\n",
    "### 短文情感分析\n",
    "數據取得網址 https://github.com/UDICatNCHU/UdicOpenData"
   ]
  },
  {
   "cell_type": "code",
   "execution_count": 11,
   "metadata": {},
   "outputs": [
    {
     "name": "stdout",
     "output_type": "stream",
     "text": [
      "短文數量 = 34880\n",
      "0    2687\n",
      "1    2313\n",
      "Name: sentiment, dtype: int64\n"
     ]
    },
    {
     "data": {
      "text/html": [
       "<div>\n",
       "<style scoped>\n",
       "    .dataframe tbody tr th:only-of-type {\n",
       "        vertical-align: middle;\n",
       "    }\n",
       "\n",
       "    .dataframe tbody tr th {\n",
       "        vertical-align: top;\n",
       "    }\n",
       "\n",
       "    .dataframe thead th {\n",
       "        text-align: right;\n",
       "    }\n",
       "</style>\n",
       "<table border=\"1\" class=\"dataframe\">\n",
       "  <thead>\n",
       "    <tr style=\"text-align: right;\">\n",
       "      <th></th>\n",
       "      <th>review</th>\n",
       "      <th>sentiment</th>\n",
       "    </tr>\n",
       "  </thead>\n",
       "  <tbody>\n",
       "    <tr>\n",
       "      <th>0</th>\n",
       "      <td>1.預裝的LINUX會影響安裝XP或VISTA</td>\n",
       "      <td>0</td>\n",
       "    </tr>\n",
       "    <tr>\n",
       "      <th>1</th>\n",
       "      <td>預裝linux,重新安裝XP裝驅動比較麻煩</td>\n",
       "      <td>0</td>\n",
       "    </tr>\n",
       "    <tr>\n",
       "      <th>2</th>\n",
       "      <td>內容空乏無物，語言譁衆取寵，全書不成系統，就象個蹩腳大夫行醫。這是我從噹噹網購的900多元錢...</td>\n",
       "      <td>0</td>\n",
       "    </tr>\n",
       "    <tr>\n",
       "      <th>3</th>\n",
       "      <td>鍵盤舒服。</td>\n",
       "      <td>1</td>\n",
       "    </tr>\n",
       "    <tr>\n",
       "      <th>4</th>\n",
       "      <td>房間很大，還有海景陽臺，走出酒店就是沙灘，非常不錯。唯一遺憾的就是不能刷銀聯卡，不方便。</td>\n",
       "      <td>1</td>\n",
       "    </tr>\n",
       "  </tbody>\n",
       "</table>\n",
       "</div>"
      ],
      "text/plain": [
       "                                              review  sentiment\n",
       "0                            1.預裝的LINUX會影響安裝XP或VISTA          0\n",
       "1                              預裝linux,重新安裝XP裝驅動比較麻煩          0\n",
       "2  內容空乏無物，語言譁衆取寵，全書不成系統，就象個蹩腳大夫行醫。這是我從噹噹網購的900多元錢...          0\n",
       "3                                              鍵盤舒服。          1\n",
       "4       房間很大，還有海景陽臺，走出酒店就是沙灘，非常不錯。唯一遺憾的就是不能刷銀聯卡，不方便。          1"
      ]
     },
     "execution_count": 11,
     "metadata": {},
     "output_type": "execute_result"
    }
   ],
   "source": [
    "size = 5000 # 只取部分樣本，節省運算時間\n",
    "\n",
    "df = pd.read_csv('pos_neg.csv')\n",
    "print('短文數量 =', df.shape[0])\n",
    "df = df.sample(n=size, random_state=0)\n",
    "df.reset_index(inplace=True, drop=True)\n",
    "print(df['sentiment'].value_counts())\n",
    "df.head(5)"
   ]
  },
  {
   "cell_type": "markdown",
   "metadata": {},
   "source": [
    "#### 需先安裝 jieba 套件"
   ]
  },
  {
   "cell_type": "code",
   "execution_count": 12,
   "metadata": {},
   "outputs": [
    {
     "name": "stderr",
     "output_type": "stream",
     "text": [
      "Building prefix dict from the default dictionary ...\n",
      "Loading model from cache C:\\Users\\yclin\\AppData\\Local\\Temp\\jieba.cache\n",
      "Loading model cost 0.683 seconds.\n",
      "Prefix dict has been built successfully.\n"
     ]
    },
    {
     "data": {
      "text/html": [
       "<div>\n",
       "<style scoped>\n",
       "    .dataframe tbody tr th:only-of-type {\n",
       "        vertical-align: middle;\n",
       "    }\n",
       "\n",
       "    .dataframe tbody tr th {\n",
       "        vertical-align: top;\n",
       "    }\n",
       "\n",
       "    .dataframe thead th {\n",
       "        text-align: right;\n",
       "    }\n",
       "</style>\n",
       "<table border=\"1\" class=\"dataframe\">\n",
       "  <thead>\n",
       "    <tr style=\"text-align: right;\">\n",
       "      <th></th>\n",
       "      <th>review</th>\n",
       "      <th>sentiment</th>\n",
       "    </tr>\n",
       "  </thead>\n",
       "  <tbody>\n",
       "    <tr>\n",
       "      <th>0</th>\n",
       "      <td>1 . 預裝 的 LINUX 會 影響 安裝 XP 或 VISTA</td>\n",
       "      <td>0</td>\n",
       "    </tr>\n",
       "    <tr>\n",
       "      <th>1</th>\n",
       "      <td>預裝 linux , 重新 安裝 XP 裝驅動 比較 麻煩</td>\n",
       "      <td>0</td>\n",
       "    </tr>\n",
       "    <tr>\n",
       "      <th>2</th>\n",
       "      <td>內容 空乏 無物 ， 語 言 譁 衆 取 寵 ， 全書 不成 系統 ， 就 象個 蹩腳 大夫...</td>\n",
       "      <td>0</td>\n",
       "    </tr>\n",
       "    <tr>\n",
       "      <th>3</th>\n",
       "      <td>鍵盤 舒服 。</td>\n",
       "      <td>1</td>\n",
       "    </tr>\n",
       "    <tr>\n",
       "      <th>4</th>\n",
       "      <td>房間 很大 ， 還有 海景 陽 臺 ， 走出 酒店 就是 沙灘 ， 非常 不錯 。 唯一 遺...</td>\n",
       "      <td>1</td>\n",
       "    </tr>\n",
       "  </tbody>\n",
       "</table>\n",
       "</div>"
      ],
      "text/plain": [
       "                                              review  sentiment\n",
       "0                  1 . 預裝 的 LINUX 會 影響 安裝 XP 或 VISTA          0\n",
       "1                      預裝 linux , 重新 安裝 XP 裝驅動 比較 麻煩          0\n",
       "2  內容 空乏 無物 ， 語 言 譁 衆 取 寵 ， 全書 不成 系統 ， 就 象個 蹩腳 大夫...          0\n",
       "3                                            鍵盤 舒服 。          1\n",
       "4  房間 很大 ， 還有 海景 陽 臺 ， 走出 酒店 就是 沙灘 ， 非常 不錯 。 唯一 遺...          1"
      ]
     },
     "execution_count": 12,
     "metadata": {},
     "output_type": "execute_result"
    }
   ],
   "source": [
    "import jieba\n",
    "\n",
    "for idx in df.index:\n",
    "    segment = jieba.cut(df.loc[idx, 'review'])\n",
    "    df.loc[idx, 'review'] = ' '.join(segment)\n",
    "    \n",
    "df.head()"
   ]
  },
  {
   "cell_type": "markdown",
   "metadata": {},
   "source": [
    "#### 移除停止詞"
   ]
  },
  {
   "cell_type": "code",
   "execution_count": 13,
   "metadata": {},
   "outputs": [
    {
     "data": {
      "text/plain": [
       "1241"
      ]
     },
     "execution_count": 13,
     "metadata": {},
     "output_type": "execute_result"
    }
   ],
   "source": [
    "stopword_lst = []\n",
    "\n",
    "for line in open('stopwords.txt', encoding='utf8'):\n",
    "    w = line.strip()\n",
    "    stopword_lst.append(w)\n",
    "\n",
    "len(stopword_lst)"
   ]
  },
  {
   "cell_type": "code",
   "execution_count": 14,
   "metadata": {},
   "outputs": [
    {
     "data": {
      "text/html": [
       "<div>\n",
       "<style scoped>\n",
       "    .dataframe tbody tr th:only-of-type {\n",
       "        vertical-align: middle;\n",
       "    }\n",
       "\n",
       "    .dataframe tbody tr th {\n",
       "        vertical-align: top;\n",
       "    }\n",
       "\n",
       "    .dataframe thead th {\n",
       "        text-align: right;\n",
       "    }\n",
       "</style>\n",
       "<table border=\"1\" class=\"dataframe\">\n",
       "  <thead>\n",
       "    <tr style=\"text-align: right;\">\n",
       "      <th></th>\n",
       "      <th>review</th>\n",
       "      <th>sentiment</th>\n",
       "    </tr>\n",
       "  </thead>\n",
       "  <tbody>\n",
       "    <tr>\n",
       "      <th>0</th>\n",
       "      <td>預裝 LINUX 影響 安裝 XP VISTA</td>\n",
       "      <td>0</td>\n",
       "    </tr>\n",
       "    <tr>\n",
       "      <th>1</th>\n",
       "      <td>預裝 linux 重新 安裝 XP 裝驅動 比較 麻煩</td>\n",
       "      <td>0</td>\n",
       "    </tr>\n",
       "    <tr>\n",
       "      <th>2</th>\n",
       "      <td>內容 空乏 無物 語 言 衆 取 寵 全書 系統 象個 蹩腳 大夫 行醫 這是 噹噹 網購 ...</td>\n",
       "      <td>0</td>\n",
       "    </tr>\n",
       "    <tr>\n",
       "      <th>3</th>\n",
       "      <td>鍵盤 舒服</td>\n",
       "      <td>1</td>\n",
       "    </tr>\n",
       "    <tr>\n",
       "      <th>4</th>\n",
       "      <td>房間 很大 海景 陽 臺 走出 酒店 沙灘 不錯 唯一 遺憾 刷 銀聯卡 方便</td>\n",
       "      <td>1</td>\n",
       "    </tr>\n",
       "  </tbody>\n",
       "</table>\n",
       "</div>"
      ],
      "text/plain": [
       "                                              review  sentiment\n",
       "0                            預裝 LINUX 影響 安裝 XP VISTA          0\n",
       "1                        預裝 linux 重新 安裝 XP 裝驅動 比較 麻煩          0\n",
       "2  內容 空乏 無物 語 言 衆 取 寵 全書 系統 象個 蹩腳 大夫 行醫 這是 噹噹 網購 ...          0\n",
       "3                                              鍵盤 舒服          1\n",
       "4            房間 很大 海景 陽 臺 走出 酒店 沙灘 不錯 唯一 遺憾 刷 銀聯卡 方便          1"
      ]
     },
     "execution_count": 14,
     "metadata": {},
     "output_type": "execute_result"
    }
   ],
   "source": [
    "for idx in df.index:\n",
    "    text = df.loc[idx, 'review']\n",
    "    segment = [w for w in text.split(' ') if w not in stopword_lst]\n",
    "    df.loc[idx, 'review'] = ' '.join(segment)\n",
    "\n",
    "df.head()"
   ]
  },
  {
   "cell_type": "code",
   "execution_count": 15,
   "metadata": {},
   "outputs": [
    {
     "data": {
      "text/html": [
       "<div>\n",
       "<style scoped>\n",
       "    .dataframe tbody tr th:only-of-type {\n",
       "        vertical-align: middle;\n",
       "    }\n",
       "\n",
       "    .dataframe tbody tr th {\n",
       "        vertical-align: top;\n",
       "    }\n",
       "\n",
       "    .dataframe thead th {\n",
       "        text-align: right;\n",
       "    }\n",
       "</style>\n",
       "<table border=\"1\" class=\"dataframe\">\n",
       "  <thead>\n",
       "    <tr style=\"text-align: right;\">\n",
       "      <th></th>\n",
       "      <th>總筆數</th>\n",
       "      <th>正評論筆數</th>\n",
       "      <th>負評論筆數</th>\n",
       "    </tr>\n",
       "  </thead>\n",
       "  <tbody>\n",
       "    <tr>\n",
       "      <th>訓練集</th>\n",
       "      <td>4000</td>\n",
       "      <td>1825</td>\n",
       "      <td>2175</td>\n",
       "    </tr>\n",
       "    <tr>\n",
       "      <th>測試集</th>\n",
       "      <td>1000</td>\n",
       "      <td>488</td>\n",
       "      <td>512</td>\n",
       "    </tr>\n",
       "  </tbody>\n",
       "</table>\n",
       "</div>"
      ],
      "text/plain": [
       "      總筆數  正評論筆數  負評論筆數\n",
       "訓練集  4000   1825   2175\n",
       "測試集  1000    488    512"
      ]
     },
     "execution_count": 15,
     "metadata": {},
     "output_type": "execute_result"
    }
   ],
   "source": [
    "# 切割訓練集、測試集\n",
    "train_size = 0.8\n",
    "\n",
    "X_train = df.loc[:size*train_size-1, 'review'].values\n",
    "y_train = df.loc[:size*train_size-1, 'sentiment'].values\n",
    "X_test = df.loc[size*train_size:, 'review'].values\n",
    "y_test = df.loc[size*train_size:, 'sentiment'].values\n",
    "\n",
    "dct = {'總筆數': [X_train.shape[0], X_test.shape[0]], \n",
    "       '正評論筆數': [y_train.sum(), y_test.sum()], \n",
    "       '負評論筆數': [(y_train==0).sum(), (y_test==0).sum()]}\n",
    "pd.DataFrame(dct, index=['訓練集', '測試集'])"
   ]
  },
  {
   "cell_type": "code",
   "execution_count": 16,
   "metadata": {},
   "outputs": [
    {
     "name": "stdout",
     "output_type": "stream",
     "text": [
      "Fitting 5 folds for each of 80 candidates, totalling 400 fits\n"
     ]
    },
    {
     "name": "stderr",
     "output_type": "stream",
     "text": [
      "[Parallel(n_jobs=-1)]: Using backend LokyBackend with 8 concurrent workers.\n",
      "[Parallel(n_jobs=-1)]: Done  52 tasks      | elapsed:    1.4s\n",
      "[Parallel(n_jobs=-1)]: Done 352 tasks      | elapsed:   10.7s\n",
      "[Parallel(n_jobs=-1)]: Done 400 out of 400 | elapsed:   13.0s finished\n"
     ]
    },
    {
     "data": {
      "text/plain": [
       "GridSearchCV(cv=5, error_score=nan,\n",
       "             estimator=Pipeline(memory=None,\n",
       "                                steps=[('tfidf',\n",
       "                                        TfidfVectorizer(analyzer='word',\n",
       "                                                        binary=False,\n",
       "                                                        decode_error='strict',\n",
       "                                                        dtype=<class 'numpy.float64'>,\n",
       "                                                        encoding='utf-8',\n",
       "                                                        input='content',\n",
       "                                                        lowercase=True,\n",
       "                                                        max_df=1.0,\n",
       "                                                        max_features=None,\n",
       "                                                        min_df=1,\n",
       "                                                        ngram_range=(1, 1),\n",
       "                                                        norm='l2',\n",
       "                                                        preprocessor=None,\n",
       "                                                        smooth_idf=True,\n",
       "                                                        stop_words=None,\n",
       "                                                        strip_acc...\n",
       "                         {'clf__C': array([1.00000000e-02, 2.78255940e-02, 7.74263683e-02, 2.15443469e-01,\n",
       "       5.99484250e-01, 1.66810054e+00, 4.64158883e+00, 1.29154967e+01,\n",
       "       3.59381366e+01, 1.00000000e+02]),\n",
       "                          'clf__penalty': ['l1', 'l2'],\n",
       "                          'tfidf__norm': ['l1', 'l2'],\n",
       "                          'tfidf__stop_words': [None],\n",
       "                          'tfidf__use_idf': [False]}],\n",
       "             pre_dispatch='2*n_jobs', refit=True, return_train_score=False,\n",
       "             scoring='accuracy', verbose=1)"
      ]
     },
     "execution_count": 16,
     "metadata": {},
     "output_type": "execute_result"
    }
   ],
   "source": [
    "param_grid = [{'tfidf__stop_words': [None],\n",
    "               'tfidf__use_idf':[True],\n",
    "               'tfidf__norm':['l1', 'l2'],\n",
    "               'clf__penalty': ['l1', 'l2'],\n",
    "               'clf__C': np.logspace(-2, 2, 10)},\n",
    "              {'tfidf__stop_words': [None],\n",
    "               'tfidf__use_idf':[False],\n",
    "               'tfidf__norm':['l1', 'l2'],\n",
    "               'clf__penalty': ['l1', 'l2'],\n",
    "               'clf__C': np.logspace(-2, 2, 10)},\n",
    "              ]\n",
    "\n",
    "gs = GridSearchCV(pipe, param_grid, scoring='accuracy', \n",
    "                  cv=5, verbose=1, n_jobs=-1)\n",
    "gs.fit(X_train, y_train)"
   ]
  },
  {
   "cell_type": "code",
   "execution_count": 17,
   "metadata": {},
   "outputs": [
    {
     "name": "stdout",
     "output_type": "stream",
     "text": [
      "Best parameters: {'clf__C': 4.6415888336127775, 'clf__penalty': 'l2', 'tfidf__norm': 'l2', 'tfidf__stop_words': None, 'tfidf__use_idf': True}\n",
      "Train accuracy: 0.7945\n",
      "Test accuracy: 0.811\n"
     ]
    }
   ],
   "source": [
    "print('Best parameters:', gs.best_params_)\n",
    "print('Train accuracy:', gs.best_score_)\n",
    "clf = gs.best_estimator_\n",
    "print('Test accuracy:', clf.score(X_test, y_test))"
   ]
  },
  {
   "cell_type": "markdown",
   "metadata": {},
   "source": [
    "<a id='sec3_3'></a>\n",
    "### 簡易情感分析\n",
    "- TextBlob (需先安裝 pip install -U textblob)"
   ]
  },
  {
   "cell_type": "code",
   "execution_count": 18,
   "metadata": {},
   "outputs": [
    {
     "name": "stdout",
     "output_type": "stream",
     "text": [
      "Sentiment(polarity=0.2, subjectivity=0.575)\n",
      "Sentiment(polarity=-1.0, subjectivity=1.0)\n"
     ]
    }
   ],
   "source": [
    "from textblob import TextBlob\n",
    "\n",
    "text = 'Pokémon is a great game. Gigantamax Pikachu is terrible.'\n",
    "\n",
    "blob = TextBlob(text)\n",
    "print(blob.sentences[0].sentiment)\n",
    "print(blob.sentences[1].sentiment)"
   ]
  },
  {
   "cell_type": "code",
   "execution_count": 19,
   "metadata": {},
   "outputs": [
    {
     "data": {
      "text/plain": [
       "Sentiment(polarity=-0.19999999999999998, subjectivity=0.7166666666666667)"
      ]
     },
     "execution_count": 19,
     "metadata": {},
     "output_type": "execute_result"
    }
   ],
   "source": [
    "blob.sentiment"
   ]
  },
  {
   "cell_type": "markdown",
   "metadata": {},
   "source": [
    " - SnowNLP (需先安裝 pip install snownlp)"
   ]
  },
  {
   "cell_type": "code",
   "execution_count": 20,
   "metadata": {},
   "outputs": [
    {
     "name": "stdout",
     "output_type": "stream",
     "text": [
      "訓練家小智屢敗屢戰 -> 表達正面情感的機率： 0.010584349812285954\n",
      "總算獲得聯盟冠軍 -> 表達正面情感的機率： 0.2698977405428781\n"
     ]
    }
   ],
   "source": [
    "from snownlp import SnowNLP\n",
    "\n",
    "text = u\"訓練家小智屢敗屢戰，總算獲得聯盟冠軍。\"\n",
    "s = SnowNLP(text)\n",
    "for sen in s.sentences:\n",
    "    print(sen, '-> 表達正面情感的機率：', SnowNLP(sen).sentiments)"
   ]
  },
  {
   "cell_type": "code",
   "execution_count": null,
   "metadata": {},
   "outputs": [],
   "source": []
  }
 ],
 "metadata": {
  "kernelspec": {
   "display_name": "Python 3",
   "language": "python",
   "name": "python3"
  },
  "language_info": {
   "codemirror_mode": {
    "name": "ipython",
    "version": 3
   },
   "file_extension": ".py",
   "mimetype": "text/x-python",
   "name": "python",
   "nbconvert_exporter": "python",
   "pygments_lexer": "ipython3",
   "version": "3.7.6"
  }
 },
 "nbformat": 4,
 "nbformat_minor": 4
}
