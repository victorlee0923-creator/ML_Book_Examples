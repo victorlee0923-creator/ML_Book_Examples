{
 "cells": [
  {
   "cell_type": "markdown",
   "metadata": {},
   "source": [
    "# Ch 7. 機器學習應用\n",
    "## 7-1. 自然語言處理\n",
    "[7-1-1. 基本操作](#sec1)  \n",
    "[7-1-2. 詞袋模型](#sec2)\n",
    "***"
   ]
  },
  {
   "cell_type": "markdown",
   "metadata": {},
   "source": [
    "<a id='sec1'></a>\n",
    "## 7-1-1. 基本操作"
   ]
  },
  {
   "cell_type": "code",
   "execution_count": 1,
   "metadata": {},
   "outputs": [
    {
     "data": {
      "text/plain": [
       "3"
      ]
     },
     "execution_count": 1,
     "metadata": {},
     "output_type": "execute_result"
    }
   ],
   "source": [
    "texts = ['Pikachu is a short, Electric-type Pokémon introduced in Generation I!!!', \n",
    "         'It is covered in yellow fur with two horizontal brown stripes on its back. It has a small mouth, long, pointed ears with black tips, and brown eyes.',\n",
    "         'It evolves from Pichu when leveled up with high friendship and evolves into Raichu.']\n",
    "len(texts)"
   ]
  },
  {
   "cell_type": "markdown",
   "metadata": {},
   "source": [
    "### 去除標點符號"
   ]
  },
  {
   "cell_type": "code",
   "execution_count": 2,
   "metadata": {},
   "outputs": [
    {
     "data": {
      "text/plain": [
       "['Pikachu is a short Electrictype Pokémon introduced in Generation I',\n",
       " 'It is covered in yellow fur with two horizontal brown stripes on its back It has a small mouth long pointed ears with black tips and brown eyes',\n",
       " 'It evolves from Pichu when leveled up with high friendship and evolves into Raichu']"
      ]
     },
     "execution_count": 2,
     "metadata": {},
     "output_type": "execute_result"
    }
   ],
   "source": [
    "import unicodedata\n",
    "import sys\n",
    "\n",
    "punctuation = dict.fromkeys(i for i in range(sys.maxunicode) \n",
    "                            if unicodedata.category(chr(i)).startswith('P'))\n",
    "texts_no_punct = [s.translate(punctuation) for s in texts]\n",
    "texts_no_punct"
   ]
  },
  {
   "cell_type": "markdown",
   "metadata": {},
   "source": [
    "### 取出每個詞或句子"
   ]
  },
  {
   "cell_type": "code",
   "execution_count": 3,
   "metadata": {},
   "outputs": [
    {
     "name": "stderr",
     "output_type": "stream",
     "text": [
      "[nltk_data] Downloading package punkt to\n",
      "[nltk_data]     C:\\Users\\yclin\\AppData\\Roaming\\nltk_data...\n",
      "[nltk_data]   Package punkt is already up-to-date!\n",
      "[nltk_data] Downloading package averaged_perceptron_tagger to\n",
      "[nltk_data]     C:\\Users\\yclin\\AppData\\Roaming\\nltk_data...\n",
      "[nltk_data]   Package averaged_perceptron_tagger is already up-to-\n",
      "[nltk_data]       date!\n",
      "[nltk_data] Downloading package stopwords to\n",
      "[nltk_data]     C:\\Users\\yclin\\AppData\\Roaming\\nltk_data...\n",
      "[nltk_data]   Package stopwords is already up-to-date!\n"
     ]
    },
    {
     "data": {
      "text/plain": [
       "True"
      ]
     },
     "execution_count": 3,
     "metadata": {},
     "output_type": "execute_result"
    }
   ],
   "source": [
    "import nltk\n",
    "\n",
    "# 第一次載入 nltk時，要先下載一些文件(需要等一會)\n",
    "nltk.download('punkt')\n",
    "nltk.download('averaged_perceptron_tagger')\n",
    "\n",
    "# 下載一組停止詞\n",
    "nltk.download('stopwords')"
   ]
  },
  {
   "cell_type": "code",
   "execution_count": 4,
   "metadata": {},
   "outputs": [
    {
     "name": "stdout",
     "output_type": "stream",
     "text": [
      "['Pikachu', 'is', 'a', 'short', 'Electrictype', 'Pokémon', 'introduced', 'in', 'Generation', 'I']\n"
     ]
    }
   ],
   "source": [
    "from nltk.tokenize import word_tokenize\n",
    "\n",
    "words_lst = [word_tokenize(t) for t in texts_no_punct]\n",
    "print(words_lst[0])"
   ]
  },
  {
   "cell_type": "code",
   "execution_count": 5,
   "metadata": {},
   "outputs": [
    {
     "data": {
      "text/plain": [
       "['It is covered in yellow fur with two horizontal brown stripes on its back.',\n",
       " 'It has a small mouth, long, pointed ears with black tips, and brown eyes.']"
      ]
     },
     "execution_count": 5,
     "metadata": {},
     "output_type": "execute_result"
    }
   ],
   "source": [
    "from nltk.tokenize import sent_tokenize\n",
    "\n",
    "sent_tokenize(texts[1])"
   ]
  },
  {
   "cell_type": "markdown",
   "metadata": {},
   "source": [
    "### 移除停止詞"
   ]
  },
  {
   "cell_type": "code",
   "execution_count": 6,
   "metadata": {},
   "outputs": [
    {
     "name": "stdout",
     "output_type": "stream",
     "text": [
      "停止詞： ['i', 'me', 'my', 'myself', 'we']\n",
      "停止詞數量 = 179\n",
      "Pikachu is a short Electrictype Pokémon introduced in Generation I\n",
      "['Pikachu', 'short', 'Electrictype', 'Pokémon', 'introduced', 'Generation', 'I']\n"
     ]
    }
   ],
   "source": [
    "from nltk.corpus import stopwords\n",
    "\n",
    "stop_words = stopwords.words('english')\n",
    "print('停止詞：', stop_words[:5])\n",
    "print('停止詞數量 =', len(stop_words))\n",
    "\n",
    "for i in range(len(words_lst)):\n",
    "    words_lst[i] = [w for w in words_lst[i] if w not in stop_words]\n",
    "\n",
    "print(texts_no_punct[0])\n",
    "print(words_lst[0])"
   ]
  },
  {
   "cell_type": "markdown",
   "metadata": {},
   "source": [
    "### 取出詞幹(stem)"
   ]
  },
  {
   "cell_type": "code",
   "execution_count": 7,
   "metadata": {},
   "outputs": [
    {
     "name": "stdout",
     "output_type": "stream",
     "text": [
      "['Pikachu', 'short', 'Electrictype', 'Pokémon', 'introduced', 'Generation', 'I']\n",
      "['pikachu', 'short', 'electrictyp', 'pokémon', 'introduc', 'gener', 'I']\n"
     ]
    }
   ],
   "source": [
    "from nltk.stem.porter import PorterStemmer\n",
    "\n",
    "porter = PorterStemmer()\n",
    "stem_lst = []\n",
    "\n",
    "for words in words_lst:\n",
    "   stem_lst.append([porter.stem(w) for w in words])\n",
    "\n",
    "print(words_lst[0])\n",
    "print(stem_lst[0])"
   ]
  },
  {
   "cell_type": "markdown",
   "metadata": {},
   "source": [
    "### 標記詞性(Part-of-Speech, POS)\n",
    "詞類標籤可參考 https://www.itread01.com/content/1547007495.html"
   ]
  },
  {
   "cell_type": "code",
   "execution_count": 8,
   "metadata": {},
   "outputs": [
    {
     "name": "stdout",
     "output_type": "stream",
     "text": [
      "[('Pikachu', 'NNP'), ('short', 'JJ'), ('Electrictype', 'NNP'), ('Pokémon', 'NNP'), ('introduced', 'VBD'), ('Generation', 'NNP'), ('I', 'PRP')]\n"
     ]
    }
   ],
   "source": [
    "from nltk import pos_tag\n",
    "\n",
    "words_tag_lst = [pos_tag(w) for w in words_lst]\n",
    "print(words_tag_lst[0])"
   ]
  },
  {
   "cell_type": "code",
   "execution_count": 9,
   "metadata": {},
   "outputs": [
    {
     "data": {
      "text/plain": [
       "['Pikachu', 'Electrictype', 'Pokémon', 'Generation']"
      ]
     },
     "execution_count": 9,
     "metadata": {},
     "output_type": "execute_result"
    }
   ],
   "source": [
    "# 搜尋特定詞類\n",
    "[w for w, tag in words_tag_lst[0] if tag in ['NNP']]"
   ]
  },
  {
   "cell_type": "markdown",
   "metadata": {},
   "source": [
    "### 轉換為詞類特徵向量"
   ]
  },
  {
   "cell_type": "code",
   "execution_count": 10,
   "metadata": {},
   "outputs": [
    {
     "data": {
      "text/plain": [
       "array([[0, 0, 1, 0, 1, 0, 1, 0, 1, 0, 0],\n",
       "       [1, 1, 1, 1, 0, 1, 1, 1, 1, 1, 0],\n",
       "       [0, 0, 1, 1, 1, 1, 1, 0, 1, 0, 1]])"
      ]
     },
     "execution_count": 10,
     "metadata": {},
     "output_type": "execute_result"
    }
   ],
   "source": [
    "from sklearn.preprocessing import MultiLabelBinarizer\n",
    "\n",
    "tag_lst= []\n",
    "for words_tag in words_tag_lst:\n",
    "    tag_lst.append([tag for word, tag in words_tag])\n",
    "\n",
    "mlb = MultiLabelBinarizer()\n",
    "mlb.fit_transform(tag_lst)"
   ]
  },
  {
   "cell_type": "code",
   "execution_count": 11,
   "metadata": {},
   "outputs": [
    {
     "data": {
      "text/plain": [
       "array(['CD', 'IN', 'JJ', 'NN', 'NNP', 'NNS', 'PRP', 'RB', 'VBD', 'VBP',\n",
       "       'VBZ'], dtype=object)"
      ]
     },
     "execution_count": 11,
     "metadata": {},
     "output_type": "execute_result"
    }
   ],
   "source": [
    "# 顯示特徵名稱\n",
    "mlb.classes_"
   ]
  },
  {
   "cell_type": "code",
   "execution_count": 12,
   "metadata": {},
   "outputs": [
    {
     "name": "stdout",
     "output_type": "stream",
     "text": [
      "[[0 0 0 1 1]\n",
      " [0 1 1 0 0]\n",
      " [1 0 0 0 0]]\n"
     ]
    },
    {
     "data": {
      "text/plain": [
       "['傑尼龜', '噴火龍', '小火龍', '皮卡丘', '雷丘']"
      ]
     },
     "execution_count": 12,
     "metadata": {},
     "output_type": "execute_result"
    }
   ],
   "source": [
    "data = mlb.fit_transform([{'皮卡丘', '雷丘'}, {'小火龍', '噴火龍'}, {'傑尼龜'}])\n",
    "print(data)\n",
    "list(mlb.classes_)"
   ]
  },
  {
   "cell_type": "markdown",
   "metadata": {},
   "source": [
    "<a id='sec2'></a>\n",
    "## 7-1-2. 詞袋模型"
   ]
  },
  {
   "cell_type": "code",
   "execution_count": 13,
   "metadata": {},
   "outputs": [
    {
     "name": "stdout",
     "output_type": "stream",
     "text": [
      "['document', 'electric', 'pikachu', 'pokémon', 'second', 'small', 'type']\n"
     ]
    }
   ],
   "source": [
    "from sklearn.feature_extraction.text import CountVectorizer\n",
    "\n",
    "corpus = ['This is a small document.', \n",
    "          'Pokémon document is the second document.',\n",
    "          'Pikachu is a small and Electric-type Pokémon.',\n",
    "          'Is this the first document?']\n",
    "\n",
    "vectorizer = CountVectorizer(stop_words='english')\n",
    "X = vectorizer.fit_transform(corpus)\n",
    "print(vectorizer.get_feature_names())"
   ]
  },
  {
   "cell_type": "code",
   "execution_count": 14,
   "metadata": {},
   "outputs": [
    {
     "data": {
      "text/html": [
       "<div>\n",
       "<style scoped>\n",
       "    .dataframe tbody tr th:only-of-type {\n",
       "        vertical-align: middle;\n",
       "    }\n",
       "\n",
       "    .dataframe tbody tr th {\n",
       "        vertical-align: top;\n",
       "    }\n",
       "\n",
       "    .dataframe thead th {\n",
       "        text-align: right;\n",
       "    }\n",
       "</style>\n",
       "<table border=\"1\" class=\"dataframe\">\n",
       "  <thead>\n",
       "    <tr style=\"text-align: right;\">\n",
       "      <th></th>\n",
       "      <th>document</th>\n",
       "      <th>electric</th>\n",
       "      <th>pikachu</th>\n",
       "      <th>pokémon</th>\n",
       "      <th>second</th>\n",
       "      <th>small</th>\n",
       "      <th>type</th>\n",
       "    </tr>\n",
       "  </thead>\n",
       "  <tbody>\n",
       "    <tr>\n",
       "      <th>0</th>\n",
       "      <td>1</td>\n",
       "      <td>0</td>\n",
       "      <td>0</td>\n",
       "      <td>0</td>\n",
       "      <td>0</td>\n",
       "      <td>1</td>\n",
       "      <td>0</td>\n",
       "    </tr>\n",
       "    <tr>\n",
       "      <th>1</th>\n",
       "      <td>2</td>\n",
       "      <td>0</td>\n",
       "      <td>0</td>\n",
       "      <td>1</td>\n",
       "      <td>1</td>\n",
       "      <td>0</td>\n",
       "      <td>0</td>\n",
       "    </tr>\n",
       "    <tr>\n",
       "      <th>2</th>\n",
       "      <td>0</td>\n",
       "      <td>1</td>\n",
       "      <td>1</td>\n",
       "      <td>1</td>\n",
       "      <td>0</td>\n",
       "      <td>1</td>\n",
       "      <td>1</td>\n",
       "    </tr>\n",
       "    <tr>\n",
       "      <th>3</th>\n",
       "      <td>1</td>\n",
       "      <td>0</td>\n",
       "      <td>0</td>\n",
       "      <td>0</td>\n",
       "      <td>0</td>\n",
       "      <td>0</td>\n",
       "      <td>0</td>\n",
       "    </tr>\n",
       "  </tbody>\n",
       "</table>\n",
       "</div>"
      ],
      "text/plain": [
       "   document  electric  pikachu  pokémon  second  small  type\n",
       "0         1         0        0        0       0      1     0\n",
       "1         2         0        0        1       1      0     0\n",
       "2         0         1        1        1       0      1     1\n",
       "3         1         0        0        0       0      0     0"
      ]
     },
     "execution_count": 14,
     "metadata": {},
     "output_type": "execute_result"
    }
   ],
   "source": [
    "import pandas as pd\n",
    "\n",
    "df_vec = pd.DataFrame(X.toarray(), columns=vectorizer.get_feature_names())\n",
    "df_vec"
   ]
  },
  {
   "cell_type": "code",
   "execution_count": 15,
   "metadata": {},
   "outputs": [
    {
     "name": "stdout",
     "output_type": "stream",
     "text": [
      "['document second', 'document second document', 'electric type', 'electric type pokémon', 'pikachu small', 'pikachu small electric', 'pokémon document', 'pokémon document second', 'second document', 'small document', 'small electric', 'small electric type', 'type pokémon']\n"
     ]
    }
   ],
   "source": [
    "vectorizer2 = CountVectorizer(stop_words='english', ngram_range=(2, 3))\n",
    "X2 = vectorizer2.fit_transform(corpus)\n",
    "print(vectorizer2.get_feature_names())"
   ]
  },
  {
   "cell_type": "code",
   "execution_count": 16,
   "metadata": {},
   "outputs": [
    {
     "name": "stdout",
     "output_type": "stream",
     "text": [
      "['document', 'electric', 'pikachu', 'pokémon', 'second', 'small', 'type']\n"
     ]
    },
    {
     "data": {
      "text/plain": [
       "array([1.22314355, 1.91629073, 1.91629073, 1.51082562, 1.91629073,\n",
       "       1.51082562, 1.91629073])"
      ]
     },
     "execution_count": 16,
     "metadata": {},
     "output_type": "execute_result"
    }
   ],
   "source": [
    "from sklearn.feature_extraction.text import TfidfVectorizer\n",
    "\n",
    "tf_idf = TfidfVectorizer(stop_words='english')\n",
    "X = tf_idf.fit_transform(corpus)\n",
    "print(tf_idf.get_feature_names())\n",
    "tf_idf.idf_"
   ]
  },
  {
   "cell_type": "code",
   "execution_count": 17,
   "metadata": {},
   "outputs": [
    {
     "data": {
      "text/html": [
       "<div>\n",
       "<style scoped>\n",
       "    .dataframe tbody tr th:only-of-type {\n",
       "        vertical-align: middle;\n",
       "    }\n",
       "\n",
       "    .dataframe tbody tr th {\n",
       "        vertical-align: top;\n",
       "    }\n",
       "\n",
       "    .dataframe thead th {\n",
       "        text-align: right;\n",
       "    }\n",
       "</style>\n",
       "<table border=\"1\" class=\"dataframe\">\n",
       "  <thead>\n",
       "    <tr style=\"text-align: right;\">\n",
       "      <th></th>\n",
       "      <th>document</th>\n",
       "      <th>electric</th>\n",
       "      <th>pikachu</th>\n",
       "      <th>pokémon</th>\n",
       "      <th>second</th>\n",
       "      <th>small</th>\n",
       "      <th>type</th>\n",
       "    </tr>\n",
       "  </thead>\n",
       "  <tbody>\n",
       "    <tr>\n",
       "      <th>0</th>\n",
       "      <td>0.629228</td>\n",
       "      <td>0.000000</td>\n",
       "      <td>0.000000</td>\n",
       "      <td>0.000000</td>\n",
       "      <td>0.000000</td>\n",
       "      <td>0.777221</td>\n",
       "      <td>0.000000</td>\n",
       "    </tr>\n",
       "    <tr>\n",
       "      <th>1</th>\n",
       "      <td>0.707981</td>\n",
       "      <td>0.000000</td>\n",
       "      <td>0.000000</td>\n",
       "      <td>0.437249</td>\n",
       "      <td>0.554595</td>\n",
       "      <td>0.000000</td>\n",
       "      <td>0.000000</td>\n",
       "    </tr>\n",
       "    <tr>\n",
       "      <th>2</th>\n",
       "      <td>0.000000</td>\n",
       "      <td>0.485461</td>\n",
       "      <td>0.485461</td>\n",
       "      <td>0.382743</td>\n",
       "      <td>0.000000</td>\n",
       "      <td>0.382743</td>\n",
       "      <td>0.485461</td>\n",
       "    </tr>\n",
       "    <tr>\n",
       "      <th>3</th>\n",
       "      <td>1.000000</td>\n",
       "      <td>0.000000</td>\n",
       "      <td>0.000000</td>\n",
       "      <td>0.000000</td>\n",
       "      <td>0.000000</td>\n",
       "      <td>0.000000</td>\n",
       "      <td>0.000000</td>\n",
       "    </tr>\n",
       "  </tbody>\n",
       "</table>\n",
       "</div>"
      ],
      "text/plain": [
       "   document  electric   pikachu   pokémon    second     small      type\n",
       "0  0.629228  0.000000  0.000000  0.000000  0.000000  0.777221  0.000000\n",
       "1  0.707981  0.000000  0.000000  0.437249  0.554595  0.000000  0.000000\n",
       "2  0.000000  0.485461  0.485461  0.382743  0.000000  0.382743  0.485461\n",
       "3  1.000000  0.000000  0.000000  0.000000  0.000000  0.000000  0.000000"
      ]
     },
     "execution_count": 17,
     "metadata": {},
     "output_type": "execute_result"
    }
   ],
   "source": [
    "df_tf_idf = pd.DataFrame(X.toarray(), columns=tf_idf.get_feature_names())\n",
    "df_tf_idf"
   ]
  },
  {
   "cell_type": "code",
   "execution_count": 18,
   "metadata": {},
   "outputs": [
    {
     "data": {
      "text/html": [
       "<div>\n",
       "<style scoped>\n",
       "    .dataframe tbody tr th:only-of-type {\n",
       "        vertical-align: middle;\n",
       "    }\n",
       "\n",
       "    .dataframe tbody tr th {\n",
       "        vertical-align: top;\n",
       "    }\n",
       "\n",
       "    .dataframe thead th {\n",
       "        text-align: right;\n",
       "    }\n",
       "</style>\n",
       "<table border=\"1\" class=\"dataframe\">\n",
       "  <thead>\n",
       "    <tr style=\"text-align: right;\">\n",
       "      <th></th>\n",
       "      <th>TF</th>\n",
       "      <th>IDF</th>\n",
       "      <th>TF-IDF</th>\n",
       "      <th>正規化</th>\n",
       "    </tr>\n",
       "  </thead>\n",
       "  <tbody>\n",
       "    <tr>\n",
       "      <th>document</th>\n",
       "      <td>0.50</td>\n",
       "      <td>1.223144</td>\n",
       "      <td>0.611572</td>\n",
       "      <td>0.707981</td>\n",
       "    </tr>\n",
       "    <tr>\n",
       "      <th>pokémon</th>\n",
       "      <td>0.25</td>\n",
       "      <td>1.510826</td>\n",
       "      <td>0.377706</td>\n",
       "      <td>0.437249</td>\n",
       "    </tr>\n",
       "    <tr>\n",
       "      <th>second</th>\n",
       "      <td>0.25</td>\n",
       "      <td>1.916291</td>\n",
       "      <td>0.479073</td>\n",
       "      <td>0.554595</td>\n",
       "    </tr>\n",
       "  </tbody>\n",
       "</table>\n",
       "</div>"
      ],
      "text/plain": [
       "            TF       IDF    TF-IDF       正規化\n",
       "document  0.50  1.223144  0.611572  0.707981\n",
       "pokémon   0.25  1.510826  0.377706  0.437249\n",
       "second    0.25  1.916291  0.479073  0.554595"
      ]
     },
     "execution_count": 18,
     "metadata": {},
     "output_type": "execute_result"
    }
   ],
   "source": [
    "import numpy as np\n",
    "from sklearn.preprocessing import normalize\n",
    "\n",
    "index = ['document', 'pokémon', 'second']\n",
    "tf = np.array(df_vec.loc[1, index])/df_vec.loc[1, :].sum()\n",
    "idf = np.array([tf_idf.idf_[tf_idf.vocabulary_[w]]for w in index])\n",
    "tf_idf_doc1 = tf*idf\n",
    "normalized = normalize(tf_idf_doc1.reshape(1,-1), norm='l2').ravel()\n",
    "\n",
    "dct = {'TF': tf,\n",
    "       'IDF': idf, \n",
    "       'TF-IDF': tf_idf_doc1, \n",
    "       '正規化': normalized}\n",
    "df_doc1 = pd.DataFrame(dct, index=index)\n",
    "df_doc1"
   ]
  },
  {
   "cell_type": "code",
   "execution_count": null,
   "metadata": {},
   "outputs": [],
   "source": []
  }
 ],
 "metadata": {
  "kernelspec": {
   "display_name": "Python 3",
   "language": "python",
   "name": "python3"
  },
  "language_info": {
   "codemirror_mode": {
    "name": "ipython",
    "version": 3
   },
   "file_extension": ".py",
   "mimetype": "text/x-python",
   "name": "python",
   "nbconvert_exporter": "python",
   "pygments_lexer": "ipython3",
   "version": "3.7.6"
  }
 },
 "nbformat": 4,
 "nbformat_minor": 4
}
