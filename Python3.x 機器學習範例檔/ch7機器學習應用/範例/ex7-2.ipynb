{
 "cells": [
  {
   "cell_type": "markdown",
   "metadata": {},
   "source": [
    "# Ch 7. 機器學習應用\n",
    "## 7-2. 序列資料處理\n",
    "\n",
    "[7-2-1. 隱藏馬可夫模型](#sec7_2_1)  \n",
    "[7-2-2. 條件隨機場](#sec7_2_2)\n",
    "***"
   ]
  },
  {
   "cell_type": "markdown",
   "metadata": {},
   "source": [
    "<a id='sec7_2_1'></a>\n",
    "## 7-2-1. 隱藏馬可夫模型"
   ]
  },
  {
   "cell_type": "code",
   "execution_count": 1,
   "metadata": {},
   "outputs": [
    {
     "data": {
      "text/plain": [
       "MultinomialHMM(algorithm='viterbi', init_params='ste', n_components=2,\n",
       "               n_iter=10, params='ste', random_state=None, startprob_prior=1.0,\n",
       "               tol=0.01, transmat_prior=1.0, verbose=False)"
      ]
     },
     "execution_count": 1,
     "metadata": {},
     "output_type": "execute_result"
    }
   ],
   "source": [
    "states = ('下雨', '晴天')\n",
    "observations = ('運動', '購物', '追劇')\n",
    "start_prob = {'下雨': 0.6, '晴天': 0.4}\n",
    "transition_prob = {\n",
    "   '下雨' : {'下雨': 0.7, '晴天': 0.3},\n",
    "   '晴天' : {'下雨': 0.4, '晴天': 0.6},\n",
    "   }\n",
    "emission_prob = {\n",
    "   '下雨' : {'運動': 0.1, '購物': 0.4, '追劇': 0.5},\n",
    "   '晴天' : {'運動': 0.6, '購物': 0.3, '追劇': 0.1},\n",
    "   }\n",
    "\n",
    "from hmmlearn import hmm\n",
    "import numpy as np\n",
    "\n",
    "model = hmm.MultinomialHMM(n_components=2)\n",
    "model.startprob_ = np.array([0.6, 0.4])\n",
    "model.transmat_ = np.array([[0.7, 0.3],\n",
    "                            [0.4, 0.6]])\n",
    "model.emissionprob_ = np.array([[0.1, 0.4, 0.5],\n",
    "                                [0.6, 0.3, 0.1]])\n",
    "model"
   ]
  },
  {
   "cell_type": "markdown",
   "metadata": {},
   "source": [
    "Q1: 根據上述的馬可夫模型，一個觀察序列發生的可能性為何？"
   ]
  },
  {
   "cell_type": "code",
   "execution_count": 2,
   "metadata": {},
   "outputs": [
    {
     "name": "stdout",
     "output_type": "stream",
     "text": [
      "觀察序列 = (運動), 可能性 = 0.300\n",
      "觀察序列 = (追劇,運動), 可能性 = 0.091\n",
      "觀察序列 = (追劇,追劇,追劇), 可能性 = 0.046\n"
     ]
    }
   ],
   "source": [
    "import math\n",
    "\n",
    "def obs_seq_likelyhood(seq):\n",
    "    print('觀察序列 = (' + ','.join(seq) + '), ', end='')\n",
    "    idx = [observations.index(x) for x in seq]\n",
    "    prob = math.exp(model.score(np.array([idx])))\n",
    "    print('可能性 = %.3f' % prob)\n",
    "\n",
    "obs_seq_likelyhood(['運動'])\n",
    "obs_seq_likelyhood(['追劇', '運動']) \n",
    "obs_seq_likelyhood(['追劇', '追劇', '追劇'])"
   ]
  },
  {
   "cell_type": "markdown",
   "metadata": {},
   "source": [
    "Q2: 給定一個馬可夫模型與一個觀察序列，最佳的隱藏狀態序列為何？"
   ]
  },
  {
   "cell_type": "code",
   "execution_count": 3,
   "metadata": {},
   "outputs": [
    {
     "name": "stdout",
     "output_type": "stream",
     "text": [
      "可能性 = 0.054\n",
      "狀態 = ['下雨', '晴天']\n",
      "可能性 = 0.013\n",
      "狀態 = ['晴天', '下雨', '下雨']\n"
     ]
    }
   ],
   "source": [
    "def opt_hidden_states(seq):\n",
    "    idx = [observations.index(x) for x in seq]\n",
    "    log_prob, seq = model.decode(np.array([idx]).transpose())\n",
    "    print('可能性 = %.3f' % math.exp(log_prob))\n",
    "    print('狀態 =', [states[i] for i in seq])\n",
    "\n",
    "seq = ['追劇', '運動']\n",
    "opt_hidden_states(seq)\n",
    "seq = ['運動', '追劇', '購物']\n",
    "opt_hidden_states(seq)"
   ]
  },
  {
   "cell_type": "markdown",
   "metadata": {},
   "source": [
    "<a id='sec7_2_2'></a>\n",
    "## 7-2-2. 條件隨機場"
   ]
  },
  {
   "cell_type": "markdown",
   "metadata": {},
   "source": [
    "### 參考資源：\n",
    "- crfpp: https://github.com/taku910/crfpp\n",
    " - CRF++ 的多種語言實作，下載 example/chunging/train.data, test.data 作為本範例的訓練與測試資料\n",
    " - 執行完 nltk.download('conll2002') 後會顯示儲存路徑，將 train.data, test.data 放到該路徑內\n",
    "- sklearn-crfsuite 官網：https://sklearn-crfsuite.readthedocs.io/en/latest/tutorial.html#let-s-use-conll-2002-data-to-build-a-ner-system"
   ]
  },
  {
   "cell_type": "markdown",
   "metadata": {},
   "source": [
    "### 語料格式說明(train.data, test.data)：  \n",
    "每一列有三行，分別為詞彙、詞性、實體類型(Named Entity Recognition, NER)，使用 Bakeoff-3 評測中採用 BIO 標註模式，即\n",
    "- B, I, O 分別代表首字、中間字、標點符號\n",
    "- NP, PP, VP ... 皆為詞性"
   ]
  },
  {
   "cell_type": "markdown",
   "metadata": {},
   "source": [
    "#### 1. 讀取訓練集與測試集"
   ]
  },
  {
   "cell_type": "code",
   "execution_count": 4,
   "metadata": {},
   "outputs": [
    {
     "name": "stderr",
     "output_type": "stream",
     "text": [
      "[nltk_data] Downloading package conll2002 to\n",
      "[nltk_data]     C:\\Users\\yclin\\AppData\\Roaming\\nltk_data...\n",
      "[nltk_data]   Unzipping corpora\\conll2002.zip.\n"
     ]
    },
    {
     "data": {
      "text/plain": [
       "True"
      ]
     },
     "execution_count": 4,
     "metadata": {},
     "output_type": "execute_result"
    }
   ],
   "source": [
    "import nltk\n",
    "nltk.download('conll2002') # 下載通用語料 conll2002"
   ]
  },
  {
   "cell_type": "code",
   "execution_count": 5,
   "metadata": {},
   "outputs": [
    {
     "name": "stdout",
     "output_type": "stream",
     "text": [
      "77\n",
      "823\n"
     ]
    }
   ],
   "source": [
    "train_sents = list(nltk.corpus.conll2002.iob_sents('train.data'))\n",
    "test_sents = list(nltk.corpus.conll2002.iob_sents('test.data'))\n",
    "print(len(train_sents))\n",
    "print(len(test_sents))"
   ]
  },
  {
   "cell_type": "code",
   "execution_count": 6,
   "metadata": {},
   "outputs": [
    {
     "data": {
      "text/plain": [
       "[('Confidence', 'NN', 'B-NP'),\n",
       " ('in', 'IN', 'B-PP'),\n",
       " ('the', 'DT', 'B-NP'),\n",
       " ('pound', 'NN', 'I-NP'),\n",
       " ('is', 'VBZ', 'B-VP'),\n",
       " ('widely', 'RB', 'I-VP'),\n",
       " ('expected', 'VBN', 'I-VP'),\n",
       " ('to', 'TO', 'I-VP'),\n",
       " ('take', 'VB', 'I-VP'),\n",
       " ('another', 'DT', 'B-NP'),\n",
       " ('sharp', 'JJ', 'I-NP'),\n",
       " ('dive', 'NN', 'I-NP'),\n",
       " ('if', 'IN', 'B-SBAR'),\n",
       " ('trade', 'NN', 'B-NP'),\n",
       " ('figures', 'NNS', 'I-NP'),\n",
       " ('for', 'IN', 'B-PP'),\n",
       " ('September', 'NNP', 'B-NP'),\n",
       " (',', ',', 'O'),\n",
       " ('due', 'JJ', 'B-ADJP'),\n",
       " ('for', 'IN', 'B-PP'),\n",
       " ('release', 'NN', 'B-NP'),\n",
       " ('tomorrow', 'NN', 'B-NP'),\n",
       " (',', ',', 'O'),\n",
       " ('fail', 'VB', 'B-VP'),\n",
       " ('to', 'TO', 'I-VP'),\n",
       " ('show', 'VB', 'I-VP'),\n",
       " ('a', 'DT', 'B-NP'),\n",
       " ('substantial', 'JJ', 'I-NP'),\n",
       " ('improvement', 'NN', 'I-NP'),\n",
       " ('from', 'IN', 'B-PP'),\n",
       " ('July', 'NNP', 'B-NP'),\n",
       " ('and', 'CC', 'I-NP'),\n",
       " ('August', 'NNP', 'I-NP'),\n",
       " (\"'s\", 'POS', 'B-NP'),\n",
       " ('near-record', 'JJ', 'I-NP'),\n",
       " ('deficits', 'NNS', 'I-NP'),\n",
       " ('.', '.', 'O')]"
      ]
     },
     "execution_count": 6,
     "metadata": {},
     "output_type": "execute_result"
    }
   ],
   "source": [
    "train_sents[0]"
   ]
  },
  {
   "cell_type": "markdown",
   "metadata": {},
   "source": [
    "#### 2. 擷取特徵函數"
   ]
  },
  {
   "cell_type": "code",
   "execution_count": 7,
   "metadata": {},
   "outputs": [],
   "source": [
    "def word2features(sent, i):\n",
    "    word = sent[i][0]\n",
    "    postag = sent[i][1]\n",
    "    \n",
    "    features = {\n",
    "        'bias': 1.0,\n",
    "        'word.lower()': word.lower(),\n",
    "        'word[-3:]': word[-3:],\n",
    "        'word[-2:]': word[-2:],\n",
    "        'word.isupper()': word.isupper(),\n",
    "        'word.istitle()': word.istitle(),\n",
    "        'word.isdigit()': word.isdigit(),\n",
    "        'postag': postag,\n",
    "        'postag[:2]': postag[:2],        \n",
    "    }\n",
    "    if i > 0:\n",
    "        word1 = sent[i-1][0]\n",
    "        postag1 = sent[i-1][1]\n",
    "        features.update({\n",
    "            '-1:word.lower()': word1.lower(),\n",
    "            '-1:word.istitle()': word1.istitle(),\n",
    "            '-1:word.isupper()': word1.isupper(),\n",
    "            '-1:postag': postag1,\n",
    "            '-1:postag[:2]': postag1[:2],\n",
    "        })\n",
    "    else:\n",
    "        features['BOS'] = True\n",
    "        \n",
    "    if i < len(sent)-1:\n",
    "        word1 = sent[i+1][0]\n",
    "        postag1 = sent[i+1][1]\n",
    "        features.update({\n",
    "            '+1:word.lower()': word1.lower(),\n",
    "            '+1:word.istitle()': word1.istitle(),\n",
    "            '+1:word.isupper()': word1.isupper(),\n",
    "            '+1:postag': postag1,\n",
    "            '+1:postag[:2]': postag1[:2],\n",
    "        })\n",
    "    else:\n",
    "        features['EOS'] = True\n",
    "                \n",
    "    return features\n",
    "\n",
    "\n",
    "def sent2features(sent):\n",
    "    return [word2features(sent, i) for i in range(len(sent))]\n",
    "\n",
    "def sent2labels(sent):\n",
    "    return [label for token, postag, label in sent]\n",
    "\n",
    "def sent2tokens(sent):\n",
    "    return [token for token, postag, label in sent]"
   ]
  },
  {
   "cell_type": "code",
   "execution_count": 8,
   "metadata": {},
   "outputs": [
    {
     "data": {
      "text/plain": [
       "{'bias': 1.0,\n",
       " 'word.lower()': 'confidence',\n",
       " 'word[-3:]': 'nce',\n",
       " 'word[-2:]': 'ce',\n",
       " 'word.isupper()': False,\n",
       " 'word.istitle()': True,\n",
       " 'word.isdigit()': False,\n",
       " 'postag': 'NN',\n",
       " 'postag[:2]': 'NN',\n",
       " 'BOS': True,\n",
       " '+1:word.lower()': 'in',\n",
       " '+1:word.istitle()': False,\n",
       " '+1:word.isupper()': False,\n",
       " '+1:postag': 'IN',\n",
       " '+1:postag[:2]': 'IN'}"
      ]
     },
     "execution_count": 8,
     "metadata": {},
     "output_type": "execute_result"
    }
   ],
   "source": [
    "sent2features(train_sents[0])[0]"
   ]
  },
  {
   "cell_type": "markdown",
   "metadata": {},
   "source": [
    "#### 3. 擷取特徵以建構訓練、測試集"
   ]
  },
  {
   "cell_type": "code",
   "execution_count": 9,
   "metadata": {},
   "outputs": [
    {
     "name": "stdout",
     "output_type": "stream",
     "text": [
      "Wall time: 82.7 ms\n"
     ]
    }
   ],
   "source": [
    "%%time\n",
    "X_train = [sent2features(s) for s in train_sents]\n",
    "y_train = [sent2labels(s) for s in train_sents]\n",
    "\n",
    "X_test = [sent2features(s) for s in test_sents]\n",
    "y_test = [sent2labels(s) for s in test_sents]"
   ]
  },
  {
   "cell_type": "markdown",
   "metadata": {},
   "source": [
    "#### 4. 建立 CRF 模型"
   ]
  },
  {
   "cell_type": "code",
   "execution_count": 10,
   "metadata": {},
   "outputs": [
    {
     "name": "stdout",
     "output_type": "stream",
     "text": [
      "Wall time: 298 ms\n"
     ]
    },
    {
     "name": "stderr",
     "output_type": "stream",
     "text": [
      "C:\\anaconda3\\lib\\site-packages\\sklearn\\base.py:197: FutureWarning: From version 0.24, get_params will raise an AttributeError if a parameter cannot be retrieved as an instance attribute. Previously it would return None.\n",
      "  FutureWarning)\n"
     ]
    },
    {
     "data": {
      "text/plain": [
       "CRF(algorithm='lbfgs', all_possible_states=None, all_possible_transitions=True,\n",
       "    averaging=None, c=None, c1=0.1, c2=0.1, calibration_candidates=None,\n",
       "    calibration_eta=None, calibration_max_trials=None, calibration_rate=None,\n",
       "    calibration_samples=None, delta=None, epsilon=None, error_sensitive=None,\n",
       "    gamma=None, keep_tempfiles=None, linesearch=None, max_iterations=100,\n",
       "    max_linesearch=None, min_freq=None, model_filename=None, num_memories=None,\n",
       "    pa_type=None, period=None, trainer_cls=None, variance=None, verbose=False)"
      ]
     },
     "execution_count": 10,
     "metadata": {},
     "output_type": "execute_result"
    }
   ],
   "source": [
    "%%time\n",
    "import sklearn_crfsuite\n",
    "\n",
    "crf = sklearn_crfsuite.CRF(\n",
    "    algorithm='lbfgs', # 預設值，採用 Elastic-net 迴歸模型\n",
    "    c1=0.1,            # L1 懲罰項的係數\n",
    "    c2=0.1,            # L2 懲罰項的係數 \n",
    "    max_iterations=100, \n",
    "    all_possible_transitions=True\n",
    ")\n",
    "crf.fit(X_train, y_train)"
   ]
  },
  {
   "cell_type": "markdown",
   "metadata": {},
   "source": [
    "#### 5. 移除標點符號"
   ]
  },
  {
   "cell_type": "code",
   "execution_count": 11,
   "metadata": {},
   "outputs": [
    {
     "data": {
      "text/plain": [
       "['B-NP',\n",
       " 'B-PP',\n",
       " 'I-NP',\n",
       " 'B-VP',\n",
       " 'I-VP',\n",
       " 'B-SBAR',\n",
       " 'B-ADJP',\n",
       " 'B-ADVP',\n",
       " 'I-ADVP',\n",
       " 'I-ADJP',\n",
       " 'I-SBAR',\n",
       " 'I-PP',\n",
       " 'B-PRT']"
      ]
     },
     "execution_count": 11,
     "metadata": {},
     "output_type": "execute_result"
    }
   ],
   "source": [
    "labels = list(crf.classes_)\n",
    "labels.remove('O')\n",
    "labels"
   ]
  },
  {
   "cell_type": "markdown",
   "metadata": {},
   "source": [
    "#### 6. 預測與效能評估"
   ]
  },
  {
   "cell_type": "code",
   "execution_count": 12,
   "metadata": {},
   "outputs": [
    {
     "data": {
      "text/plain": [
       "0.9061903371118709"
      ]
     },
     "execution_count": 12,
     "metadata": {},
     "output_type": "execute_result"
    }
   ],
   "source": [
    "from sklearn_crfsuite import metrics\n",
    "\n",
    "y_pred = crf.predict(X_test)\n",
    "metrics.flat_f1_score(y_test, y_pred, \n",
    "                      average='weighted', labels=labels)"
   ]
  },
  {
   "cell_type": "code",
   "execution_count": 13,
   "metadata": {},
   "outputs": [
    {
     "name": "stdout",
     "output_type": "stream",
     "text": [
      "              precision    recall  f1-score   support\n",
      "\n",
      "      B-ADJP      0.549     0.453     0.497       172\n",
      "      I-ADJP      0.611     0.139     0.227        79\n",
      "      B-ADVP      0.651     0.760     0.702       334\n",
      "      I-ADVP      0.343     0.333     0.338        36\n",
      "        B-NP      0.933     0.920     0.927      5079\n",
      "        I-NP      0.907     0.946     0.926      5691\n",
      "        B-PP      0.915     0.940     0.927      1988\n",
      "        I-PP      0.000     0.000     0.000        15\n",
      "       B-PRT      1.000     0.026     0.050        39\n",
      "      B-SBAR      0.635     0.552     0.591       192\n",
      "      I-SBAR      0.000     0.000     0.000         2\n",
      "        B-VP      0.933     0.927     0.930      1903\n",
      "        I-VP      0.903     0.943     0.923      1061\n",
      "\n",
      "   micro avg      0.905     0.913     0.909     16591\n",
      "   macro avg      0.645     0.534     0.541     16591\n",
      "weighted avg      0.903     0.913     0.906     16591\n",
      "\n"
     ]
    },
    {
     "name": "stderr",
     "output_type": "stream",
     "text": [
      "C:\\anaconda3\\lib\\site-packages\\sklearn\\metrics\\_classification.py:1272: UndefinedMetricWarning: Precision and F-score are ill-defined and being set to 0.0 in labels with no predicted samples. Use `zero_division` parameter to control this behavior.\n",
      "  _warn_prf(average, modifier, msg_start, len(result))\n"
     ]
    }
   ],
   "source": [
    "# group B and I results\n",
    "sorted_labels = sorted(\n",
    "    labels, \n",
    "    key=lambda name: (name[1:], name[0])\n",
    ")\n",
    "print(metrics.flat_classification_report(\n",
    "    y_test, y_pred, labels=sorted_labels, digits=3\n",
    "))"
   ]
  },
  {
   "cell_type": "markdown",
   "metadata": {},
   "source": [
    "#### 7. 超參數調校"
   ]
  },
  {
   "cell_type": "code",
   "execution_count": 14,
   "metadata": {},
   "outputs": [
    {
     "name": "stderr",
     "output_type": "stream",
     "text": [
      "[Parallel(n_jobs=-1)]: Using backend LokyBackend with 8 concurrent workers.\n"
     ]
    },
    {
     "name": "stdout",
     "output_type": "stream",
     "text": [
      "Fitting 3 folds for each of 50 candidates, totalling 150 fits\n"
     ]
    },
    {
     "name": "stderr",
     "output_type": "stream",
     "text": [
      "[Parallel(n_jobs=-1)]: Done  34 tasks      | elapsed:    5.1s\n",
      "[Parallel(n_jobs=-1)]: Done 150 out of 150 | elapsed:   20.6s finished\n"
     ]
    },
    {
     "name": "stdout",
     "output_type": "stream",
     "text": [
      "Wall time: 21 s\n"
     ]
    },
    {
     "data": {
      "text/plain": [
       "RandomizedSearchCV(cv=3, error_score=nan,\n",
       "                   estimator=CRF(algorithm='lbfgs', all_possible_states=None,\n",
       "                                 all_possible_transitions=True, averaging=None,\n",
       "                                 c=None, c1=None, c2=None,\n",
       "                                 calibration_candidates=None,\n",
       "                                 calibration_eta=None,\n",
       "                                 calibration_max_trials=None,\n",
       "                                 calibration_rate=None,\n",
       "                                 calibration_samples=None, delta=None,\n",
       "                                 epsilon=None, error_sensitive=None, gamma=None,\n",
       "                                 keep_...\n",
       "                   param_distributions={'c1': <scipy.stats._distn_infrastructure.rv_frozen object at 0x0000017A91E774C8>,\n",
       "                                        'c2': <scipy.stats._distn_infrastructure.rv_frozen object at 0x0000017A91E77948>},\n",
       "                   pre_dispatch='2*n_jobs', random_state=None, refit=True,\n",
       "                   return_train_score=False,\n",
       "                   scoring=make_scorer(flat_f1_score, average=weighted, labels=['B-NP', 'B-PP', 'I-NP', 'B-VP', 'I-VP', 'B-SBAR', 'B-ADJP', 'B-ADVP', 'I-ADVP', 'I-ADJP', 'I-SBAR', 'I-PP', 'B-PRT']),\n",
       "                   verbose=1)"
      ]
     },
     "execution_count": 14,
     "metadata": {},
     "output_type": "execute_result"
    }
   ],
   "source": [
    "%%time\n",
    "import scipy.stats\n",
    "from sklearn.metrics import make_scorer\n",
    "from sklearn.model_selection import RandomizedSearchCV\n",
    "\n",
    "# define fixed parameters and parameters to search\n",
    "crf = sklearn_crfsuite.CRF(\n",
    "    algorithm='lbfgs', \n",
    "    max_iterations=100, \n",
    "    all_possible_transitions=True\n",
    ")\n",
    "params_space = {\n",
    "    'c1': scipy.stats.expon(scale=0.5),\n",
    "    'c2': scipy.stats.expon(scale=0.05),\n",
    "}\n",
    "\n",
    "# use the same metric for evaluation\n",
    "f1_scorer = make_scorer(metrics.flat_f1_score, \n",
    "                        average='weighted', labels=labels)\n",
    "\n",
    "# search\n",
    "rs = RandomizedSearchCV(crf, params_space, \n",
    "                        cv=3, \n",
    "                        verbose=1, \n",
    "                        n_jobs=-1, \n",
    "                        n_iter=50, \n",
    "                        scoring=f1_scorer)\n",
    "rs.fit(X_train, y_train)"
   ]
  },
  {
   "cell_type": "markdown",
   "metadata": {},
   "source": [
    "視覺化檢驗參數(c1, c2)空間：紅色代表較好的效能，藍色則表現較差"
   ]
  },
  {
   "cell_type": "code",
   "execution_count": 15,
   "metadata": {},
   "outputs": [
    {
     "name": "stdout",
     "output_type": "stream",
     "text": [
      "Dark blue => 0.8604, dark red => 0.8865\n"
     ]
    },
    {
     "data": {
      "image/png": "[encoded data removed]",
      "text/plain": [
       "<Figure size 432x288 with 1 Axes>"
      ]
     },
     "metadata": {},
     "output_type": "display_data"
    }
   ],
   "source": [
    "import matplotlib.pyplot as plt\n",
    "plt.style.use('ggplot')\n",
    "\n",
    "_x = list(rs.cv_results_['param_c1'])\n",
    "_y = list(rs.cv_results_['param_c2'])\n",
    "_c = list(rs.cv_results_['mean_test_score'])\n",
    "\n",
    "ax = plt.gca()\n",
    "ax.set_yscale('log')\n",
    "ax.set_xscale('log')\n",
    "ax.set_xlabel('C1')\n",
    "ax.set_ylabel('C2')\n",
    "ax.set_title(\"Randomized Hyperparameter Search CV Results (min={:0.3}, max={:0.3})\".format(\n",
    "    min(_c), max(_c)\n",
    "))\n",
    "\n",
    "ax.scatter(_x, _y, c=_c, s=60, alpha=0.9, edgecolors=[0,0,0])\n",
    "\n",
    "print(\"Dark blue => {:0.4}, dark red => {:0.4}\".format(min(_c), max(_c)))"
   ]
  },
  {
   "cell_type": "code",
   "execution_count": 16,
   "metadata": {},
   "outputs": [
    {
     "name": "stdout",
     "output_type": "stream",
     "text": [
      "best params: {'c1': 0.15805651858859918, 'c2': 0.015179336202813924}\n",
      "best CV score: 0.8865456143220861\n",
      "model size: 0.06M\n"
     ]
    }
   ],
   "source": [
    "# crf = rs.best_estimator_\n",
    "print('best params:', rs.best_params_)\n",
    "print('best CV score:', rs.best_score_)\n",
    "print('model size: {:0.2f}M'.format(rs.best_estimator_.size_ / 1000000))"
   ]
  },
  {
   "cell_type": "code",
   "execution_count": 17,
   "metadata": {},
   "outputs": [
    {
     "name": "stdout",
     "output_type": "stream",
     "text": [
      "              precision    recall  f1-score   support\n",
      "\n",
      "      B-ADJP      0.562     0.529     0.545       172\n",
      "      I-ADJP      0.625     0.253     0.360        79\n",
      "      B-ADVP      0.651     0.725     0.686       334\n",
      "      I-ADVP      0.351     0.361     0.356        36\n",
      "        B-NP      0.936     0.917     0.926      5079\n",
      "        I-NP      0.902     0.946     0.923      5691\n",
      "        B-PP      0.921     0.938     0.930      1988\n",
      "        I-PP      0.000     0.000     0.000        15\n",
      "       B-PRT      1.000     0.026     0.050        39\n",
      "      B-SBAR      0.634     0.578     0.605       192\n",
      "      I-SBAR      0.000     0.000     0.000         2\n",
      "        B-VP      0.932     0.923     0.927      1903\n",
      "        I-VP      0.903     0.941     0.922      1061\n",
      "\n",
      "   micro avg      0.904     0.912     0.908     16591\n",
      "   macro avg      0.647     0.549     0.556     16591\n",
      "weighted avg      0.903     0.912     0.906     16591\n",
      "\n"
     ]
    },
    {
     "name": "stderr",
     "output_type": "stream",
     "text": [
      "C:\\anaconda3\\lib\\site-packages\\sklearn\\metrics\\_classification.py:1272: UndefinedMetricWarning: Precision and F-score are ill-defined and being set to 0.0 in labels with no predicted samples. Use `zero_division` parameter to control this behavior.\n",
      "  _warn_prf(average, modifier, msg_start, len(result))\n"
     ]
    }
   ],
   "source": [
    "crf = rs.best_estimator_\n",
    "y_pred = crf.predict(X_test)\n",
    "print(metrics.flat_classification_report(\n",
    "    y_test, y_pred, labels=sorted_labels, digits=3\n",
    "))"
   ]
  },
  {
   "cell_type": "code",
   "execution_count": null,
   "metadata": {},
   "outputs": [],
   "source": []
  }
 ],
 "metadata": {
  "kernelspec": {
   "display_name": "Python 3",
   "language": "python",
   "name": "python3"
  },
  "language_info": {
   "codemirror_mode": {
    "name": "ipython",
    "version": 3
   },
   "file_extension": ".py",
   "mimetype": "text/x-python",
   "name": "python",
   "nbconvert_exporter": "python",
   "pygments_lexer": "ipython3",
   "version": "3.7.6"
  }
 },
 "nbformat": 4,
 "nbformat_minor": 4
}
