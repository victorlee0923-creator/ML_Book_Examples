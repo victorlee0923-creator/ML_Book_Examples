{
 "cells": [
  {
   "cell_type": "markdown",
   "metadata": {},
   "source": [
    "## 1-5. 選取重要特徵"
   ]
  },
  {
   "cell_type": "code",
   "execution_count": 1,
   "metadata": {},
   "outputs": [
    {
     "data": {
      "text/html": [
       "<div>\n",
       "<style scoped>\n",
       "    .dataframe tbody tr th:only-of-type {\n",
       "        vertical-align: middle;\n",
       "    }\n",
       "\n",
       "    .dataframe tbody tr th {\n",
       "        vertical-align: top;\n",
       "    }\n",
       "\n",
       "    .dataframe thead th {\n",
       "        text-align: right;\n",
       "    }\n",
       "</style>\n",
       "<table border=\"1\" class=\"dataframe\">\n",
       "  <thead>\n",
       "    <tr style=\"text-align: right;\">\n",
       "      <th></th>\n",
       "      <th>Number</th>\n",
       "      <th>Name</th>\n",
       "      <th>Type1</th>\n",
       "      <th>Type2</th>\n",
       "      <th>HP</th>\n",
       "      <th>Attack</th>\n",
       "      <th>Defense</th>\n",
       "      <th>SpecialAtk</th>\n",
       "      <th>SpecialDef</th>\n",
       "      <th>Speed</th>\n",
       "      <th>Generation</th>\n",
       "      <th>Legendary</th>\n",
       "    </tr>\n",
       "  </thead>\n",
       "  <tbody>\n",
       "    <tr>\n",
       "      <th>165</th>\n",
       "      <td>151</td>\n",
       "      <td>夢幻</td>\n",
       "      <td>Psychic</td>\n",
       "      <td>NaN</td>\n",
       "      <td>100.0</td>\n",
       "      <td>100</td>\n",
       "      <td>100</td>\n",
       "      <td>100</td>\n",
       "      <td>100</td>\n",
       "      <td>100</td>\n",
       "      <td>1</td>\n",
       "      <td>False</td>\n",
       "    </tr>\n",
       "    <tr>\n",
       "      <th>166</th>\n",
       "      <td>153</td>\n",
       "      <td>月桂葉</td>\n",
       "      <td>Grass</td>\n",
       "      <td>NaN</td>\n",
       "      <td>62.0</td>\n",
       "      <td>62</td>\n",
       "      <td>80</td>\n",
       "      <td>63</td>\n",
       "      <td>80</td>\n",
       "      <td>60</td>\n",
       "      <td>2</td>\n",
       "      <td>False</td>\n",
       "    </tr>\n",
       "    <tr>\n",
       "      <th>167</th>\n",
       "      <td>166</td>\n",
       "      <td>安瓢蟲</td>\n",
       "      <td>Bug</td>\n",
       "      <td>Flying</td>\n",
       "      <td>62.0</td>\n",
       "      <td>35</td>\n",
       "      <td>50</td>\n",
       "      <td>55</td>\n",
       "      <td>110</td>\n",
       "      <td>85</td>\n",
       "      <td>2</td>\n",
       "      <td>False</td>\n",
       "    </tr>\n",
       "  </tbody>\n",
       "</table>\n",
       "</div>"
      ],
      "text/plain": [
       "     Number Name    Type1   Type2     HP  Attack  Defense  SpecialAtk  \\\n",
       "165     151   夢幻  Psychic     NaN  100.0     100      100         100   \n",
       "166     153  月桂葉    Grass     NaN   62.0      62       80          63   \n",
       "167     166  安瓢蟲      Bug  Flying   62.0      35       50          55   \n",
       "\n",
       "     SpecialDef  Speed  Generation  Legendary  \n",
       "165         100    100           1      False  \n",
       "166          80     60           2      False  \n",
       "167         110     85           2      False  "
      ]
     },
     "execution_count": 1,
     "metadata": {},
     "output_type": "execute_result"
    }
   ],
   "source": [
    "import pandas as pd\n",
    "import numpy as np\n",
    "from sklearn.impute import SimpleImputer\n",
    "\n",
    "df = pd.read_csv('ex1.csv')\n",
    "\n",
    "imp = SimpleImputer(missing_values=np.nan, \n",
    "                    strategy='median')\n",
    "x = df['HP'].values.reshape(-1, 1)\n",
    "df['HP'] = imp.fit_transform(x)\n",
    "df.tail(3)"
   ]
  },
  {
   "cell_type": "code",
   "execution_count": 2,
   "metadata": {},
   "outputs": [
    {
     "name": "stdout",
     "output_type": "stream",
     "text": [
      "[ 778.66312358  939.8423682   808.76016865 1166.99603175  649.47785573\n",
      "  866.7906746 ]\n"
     ]
    },
    {
     "data": {
      "text/plain": [
       "array([[ 45.,  49.,  49.,  65.,  45.],\n",
       "       [ 60.,  62.,  63.,  80.,  60.],\n",
       "       [ 80.,  82.,  83., 100.,  80.]])"
      ]
     },
     "execution_count": 2,
     "metadata": {},
     "output_type": "execute_result"
    }
   ],
   "source": [
    "from sklearn.feature_selection import VarianceThreshold\n",
    "# 產生選取器\n",
    "selector = VarianceThreshold(threshold=700)\n",
    "X = df.loc[:, 'HP':'Speed']\n",
    "# 看每個特徵的變異性\n",
    "print(selector.fit(X).variances_)\n",
    "# 丟棄低變異特徵(這裡只有 SpecialDef 被丟棄)\n",
    "selector.fit_transform(X)[:3]"
   ]
  },
  {
   "cell_type": "code",
   "execution_count": 3,
   "metadata": {},
   "outputs": [
    {
     "name": "stdout",
     "output_type": "stream",
     "text": [
      "門檻值 = 0.24\n"
     ]
    },
    {
     "data": {
      "text/plain": [
       "array([0.01176304, 0.03443878, 0.24911423])"
      ]
     },
     "execution_count": 3,
     "metadata": {},
     "output_type": "execute_result"
    }
   ],
   "source": [
    "# 轉換 Legendary 特徵：True->1、False->0\n",
    "df['Legendary'] = [1 if x else 0 for x in df.Legendary]\n",
    "# 新增 hasType2 特徵: 有 Type2->1、無 Type2->0\n",
    "df['hasType2'] = [0 if x is np.nan else 1 for x in df.Type2]\n",
    "\n",
    "p = 0.6\n",
    "selector = VarianceThreshold(threshold=p*(1-p))\n",
    "print('門檻值 =', p*(1-p))\n",
    "X = df.loc[:, 'Generation':'hasType2'].values\n",
    "# 只有 hasType2 特徵會被保留下來\n",
    "selector.fit(X).variances_"
   ]
  },
  {
   "cell_type": "code",
   "execution_count": 4,
   "metadata": {},
   "outputs": [
    {
     "data": {
      "text/html": [
       "<div>\n",
       "<style scoped>\n",
       "    .dataframe tbody tr th:only-of-type {\n",
       "        vertical-align: middle;\n",
       "    }\n",
       "\n",
       "    .dataframe tbody tr th {\n",
       "        vertical-align: top;\n",
       "    }\n",
       "\n",
       "    .dataframe thead th {\n",
       "        text-align: right;\n",
       "    }\n",
       "</style>\n",
       "<table border=\"1\" class=\"dataframe\">\n",
       "  <thead>\n",
       "    <tr style=\"text-align: right;\">\n",
       "      <th></th>\n",
       "      <th>HP</th>\n",
       "      <th>Attack</th>\n",
       "      <th>Defense</th>\n",
       "      <th>SpecialAtk</th>\n",
       "      <th>SpecialDef</th>\n",
       "      <th>Speed</th>\n",
       "    </tr>\n",
       "  </thead>\n",
       "  <tbody>\n",
       "    <tr>\n",
       "      <th>HP</th>\n",
       "      <td>1.000000</td>\n",
       "      <td>0.352144</td>\n",
       "      <td>0.175534</td>\n",
       "      <td>0.264278</td>\n",
       "      <td>0.504488</td>\n",
       "      <td>0.020288</td>\n",
       "    </tr>\n",
       "    <tr>\n",
       "      <th>Attack</th>\n",
       "      <td>0.352144</td>\n",
       "      <td>1.000000</td>\n",
       "      <td>0.477838</td>\n",
       "      <td>0.214138</td>\n",
       "      <td>0.431734</td>\n",
       "      <td>0.320103</td>\n",
       "    </tr>\n",
       "    <tr>\n",
       "      <th>Defense</th>\n",
       "      <td>0.175534</td>\n",
       "      <td>0.477838</td>\n",
       "      <td>1.000000</td>\n",
       "      <td>0.262892</td>\n",
       "      <td>0.217897</td>\n",
       "      <td>0.026088</td>\n",
       "    </tr>\n",
       "    <tr>\n",
       "      <th>SpecialAtk</th>\n",
       "      <td>0.264278</td>\n",
       "      <td>0.214138</td>\n",
       "      <td>0.262892</td>\n",
       "      <td>1.000000</td>\n",
       "      <td>0.546631</td>\n",
       "      <td>0.453567</td>\n",
       "    </tr>\n",
       "    <tr>\n",
       "      <th>SpecialDef</th>\n",
       "      <td>0.504488</td>\n",
       "      <td>0.431734</td>\n",
       "      <td>0.217897</td>\n",
       "      <td>0.546631</td>\n",
       "      <td>1.000000</td>\n",
       "      <td>0.445071</td>\n",
       "    </tr>\n",
       "    <tr>\n",
       "      <th>Speed</th>\n",
       "      <td>0.020288</td>\n",
       "      <td>0.320103</td>\n",
       "      <td>0.026088</td>\n",
       "      <td>0.453567</td>\n",
       "      <td>0.445071</td>\n",
       "      <td>1.000000</td>\n",
       "    </tr>\n",
       "  </tbody>\n",
       "</table>\n",
       "</div>"
      ],
      "text/plain": [
       "                  HP    Attack   Defense  SpecialAtk  SpecialDef     Speed\n",
       "HP          1.000000  0.352144  0.175534    0.264278    0.504488  0.020288\n",
       "Attack      0.352144  1.000000  0.477838    0.214138    0.431734  0.320103\n",
       "Defense     0.175534  0.477838  1.000000    0.262892    0.217897  0.026088\n",
       "SpecialAtk  0.264278  0.214138  0.262892    1.000000    0.546631  0.453567\n",
       "SpecialDef  0.504488  0.431734  0.217897    0.546631    1.000000  0.445071\n",
       "Speed       0.020288  0.320103  0.026088    0.453567    0.445071  1.000000"
      ]
     },
     "execution_count": 4,
     "metadata": {},
     "output_type": "execute_result"
    }
   ],
   "source": [
    "X = df.loc[:, 'HP':'Speed'] \n",
    "# 產生相關矩陣\n",
    "corr_matrix = X.corr().abs()\n",
    "corr_matrix"
   ]
  },
  {
   "cell_type": "code",
   "execution_count": 5,
   "metadata": {},
   "outputs": [
    {
     "data": {
      "text/html": [
       "<div>\n",
       "<style scoped>\n",
       "    .dataframe tbody tr th:only-of-type {\n",
       "        vertical-align: middle;\n",
       "    }\n",
       "\n",
       "    .dataframe tbody tr th {\n",
       "        vertical-align: top;\n",
       "    }\n",
       "\n",
       "    .dataframe thead th {\n",
       "        text-align: right;\n",
       "    }\n",
       "</style>\n",
       "<table border=\"1\" class=\"dataframe\">\n",
       "  <thead>\n",
       "    <tr style=\"text-align: right;\">\n",
       "      <th></th>\n",
       "      <th>HP</th>\n",
       "      <th>Attack</th>\n",
       "      <th>Defense</th>\n",
       "      <th>SpecialAtk</th>\n",
       "      <th>SpecialDef</th>\n",
       "      <th>Speed</th>\n",
       "    </tr>\n",
       "  </thead>\n",
       "  <tbody>\n",
       "    <tr>\n",
       "      <th>HP</th>\n",
       "      <td>NaN</td>\n",
       "      <td>0.352144</td>\n",
       "      <td>0.175534</td>\n",
       "      <td>0.264278</td>\n",
       "      <td>0.504488</td>\n",
       "      <td>0.020288</td>\n",
       "    </tr>\n",
       "    <tr>\n",
       "      <th>Attack</th>\n",
       "      <td>NaN</td>\n",
       "      <td>NaN</td>\n",
       "      <td>0.477838</td>\n",
       "      <td>0.214138</td>\n",
       "      <td>0.431734</td>\n",
       "      <td>0.320103</td>\n",
       "    </tr>\n",
       "    <tr>\n",
       "      <th>Defense</th>\n",
       "      <td>NaN</td>\n",
       "      <td>NaN</td>\n",
       "      <td>NaN</td>\n",
       "      <td>0.262892</td>\n",
       "      <td>0.217897</td>\n",
       "      <td>0.026088</td>\n",
       "    </tr>\n",
       "    <tr>\n",
       "      <th>SpecialAtk</th>\n",
       "      <td>NaN</td>\n",
       "      <td>NaN</td>\n",
       "      <td>NaN</td>\n",
       "      <td>NaN</td>\n",
       "      <td>0.546631</td>\n",
       "      <td>0.453567</td>\n",
       "    </tr>\n",
       "    <tr>\n",
       "      <th>SpecialDef</th>\n",
       "      <td>NaN</td>\n",
       "      <td>NaN</td>\n",
       "      <td>NaN</td>\n",
       "      <td>NaN</td>\n",
       "      <td>NaN</td>\n",
       "      <td>0.445071</td>\n",
       "    </tr>\n",
       "    <tr>\n",
       "      <th>Speed</th>\n",
       "      <td>NaN</td>\n",
       "      <td>NaN</td>\n",
       "      <td>NaN</td>\n",
       "      <td>NaN</td>\n",
       "      <td>NaN</td>\n",
       "      <td>NaN</td>\n",
       "    </tr>\n",
       "  </tbody>\n",
       "</table>\n",
       "</div>"
      ],
      "text/plain": [
       "            HP    Attack   Defense  SpecialAtk  SpecialDef     Speed\n",
       "HP         NaN  0.352144  0.175534    0.264278    0.504488  0.020288\n",
       "Attack     NaN       NaN  0.477838    0.214138    0.431734  0.320103\n",
       "Defense    NaN       NaN       NaN    0.262892    0.217897  0.026088\n",
       "SpecialAtk NaN       NaN       NaN         NaN    0.546631  0.453567\n",
       "SpecialDef NaN       NaN       NaN         NaN         NaN  0.445071\n",
       "Speed      NaN       NaN       NaN         NaN         NaN       NaN"
      ]
     },
     "execution_count": 5,
     "metadata": {},
     "output_type": "execute_result"
    }
   ],
   "source": [
    "# 產生矩陣上三角的遮罩\n",
    "mask = np.ones(corr_matrix.shape).astype(bool)\n",
    "mask = np.triu(mask, k=1)\n",
    "# 選取相關矩陣的上三角\n",
    "upper = corr_matrix.where(mask)\n",
    "upper"
   ]
  },
  {
   "cell_type": "code",
   "execution_count": 6,
   "metadata": {},
   "outputs": [
    {
     "data": {
      "text/html": [
       "<div>\n",
       "<style scoped>\n",
       "    .dataframe tbody tr th:only-of-type {\n",
       "        vertical-align: middle;\n",
       "    }\n",
       "\n",
       "    .dataframe tbody tr th {\n",
       "        vertical-align: top;\n",
       "    }\n",
       "\n",
       "    .dataframe thead th {\n",
       "        text-align: right;\n",
       "    }\n",
       "</style>\n",
       "<table border=\"1\" class=\"dataframe\">\n",
       "  <thead>\n",
       "    <tr style=\"text-align: right;\">\n",
       "      <th></th>\n",
       "      <th>Number</th>\n",
       "      <th>Name</th>\n",
       "      <th>Type1</th>\n",
       "      <th>Type2</th>\n",
       "      <th>HP</th>\n",
       "      <th>Attack</th>\n",
       "      <th>SpecialAtk</th>\n",
       "      <th>Speed</th>\n",
       "      <th>Generation</th>\n",
       "      <th>Legendary</th>\n",
       "      <th>hasType2</th>\n",
       "    </tr>\n",
       "  </thead>\n",
       "  <tbody>\n",
       "    <tr>\n",
       "      <th>0</th>\n",
       "      <td>1</td>\n",
       "      <td>妙蛙種子</td>\n",
       "      <td>Grass</td>\n",
       "      <td>Poison</td>\n",
       "      <td>45.0</td>\n",
       "      <td>49</td>\n",
       "      <td>65</td>\n",
       "      <td>45</td>\n",
       "      <td>1</td>\n",
       "      <td>0</td>\n",
       "      <td>1</td>\n",
       "    </tr>\n",
       "    <tr>\n",
       "      <th>1</th>\n",
       "      <td>2</td>\n",
       "      <td>妙蛙草</td>\n",
       "      <td>Grass</td>\n",
       "      <td>Poison</td>\n",
       "      <td>60.0</td>\n",
       "      <td>62</td>\n",
       "      <td>80</td>\n",
       "      <td>60</td>\n",
       "      <td>1</td>\n",
       "      <td>0</td>\n",
       "      <td>1</td>\n",
       "    </tr>\n",
       "    <tr>\n",
       "      <th>2</th>\n",
       "      <td>3</td>\n",
       "      <td>妙蛙花</td>\n",
       "      <td>Grass</td>\n",
       "      <td>Poison</td>\n",
       "      <td>80.0</td>\n",
       "      <td>82</td>\n",
       "      <td>100</td>\n",
       "      <td>80</td>\n",
       "      <td>1</td>\n",
       "      <td>0</td>\n",
       "      <td>1</td>\n",
       "    </tr>\n",
       "  </tbody>\n",
       "</table>\n",
       "</div>"
      ],
      "text/plain": [
       "   Number  Name  Type1   Type2    HP  Attack  SpecialAtk  Speed  Generation  \\\n",
       "0       1  妙蛙種子  Grass  Poison  45.0      49          65     45           1   \n",
       "1       2   妙蛙草  Grass  Poison  60.0      62          80     60           1   \n",
       "2       3   妙蛙花  Grass  Poison  80.0      82         100     80           1   \n",
       "\n",
       "   Legendary  hasType2  \n",
       "0          0         1  \n",
       "1          0         1  \n",
       "2          0         1  "
      ]
     },
     "execution_count": 6,
     "metadata": {},
     "output_type": "execute_result"
    }
   ],
   "source": [
    "# 刪除相關係數 > 0.47 的特徵('Defense', 'SpecialDef')\n",
    "to_drop = [c for c in upper if any(upper[c] > 0.47)]\n",
    "df.drop(df[to_drop], axis=1).head(3)"
   ]
  },
  {
   "cell_type": "code",
   "execution_count": 7,
   "metadata": {},
   "outputs": [
    {
     "name": "stdout",
     "output_type": "stream",
     "text": [
      "PointbiserialrResult(correlation=0.08285622146815766, pvalue=0.2856294970000373)\n"
     ]
    },
    {
     "data": {
      "text/html": [
       "<div>\n",
       "<style scoped>\n",
       "    .dataframe tbody tr th:only-of-type {\n",
       "        vertical-align: middle;\n",
       "    }\n",
       "\n",
       "    .dataframe tbody tr th {\n",
       "        vertical-align: top;\n",
       "    }\n",
       "\n",
       "    .dataframe thead th {\n",
       "        text-align: right;\n",
       "    }\n",
       "</style>\n",
       "<table border=\"1\" class=\"dataframe\">\n",
       "  <thead>\n",
       "    <tr style=\"text-align: right;\">\n",
       "      <th></th>\n",
       "      <th>HP</th>\n",
       "      <th>hasType2</th>\n",
       "    </tr>\n",
       "  </thead>\n",
       "  <tbody>\n",
       "    <tr>\n",
       "      <th>HP</th>\n",
       "      <td>1.000000</td>\n",
       "      <td>0.082856</td>\n",
       "    </tr>\n",
       "    <tr>\n",
       "      <th>hasType2</th>\n",
       "      <td>0.082856</td>\n",
       "      <td>1.000000</td>\n",
       "    </tr>\n",
       "  </tbody>\n",
       "</table>\n",
       "</div>"
      ],
      "text/plain": [
       "                HP  hasType2\n",
       "HP        1.000000  0.082856\n",
       "hasType2  0.082856  1.000000"
      ]
     },
     "execution_count": 7,
     "metadata": {},
     "output_type": "execute_result"
    }
   ],
   "source": [
    "from scipy import stats\n",
    "# 點二列相關(point-biserial correlation)，用以衡量連續變數與二元類別變數的相關性\n",
    "print(stats.pointbiserialr(df['HP'], df['hasType2']))\n",
    "# 皮爾森相關係數 => 兩個結果相同\n",
    "df.loc[:, ['HP','hasType2']].corr()"
   ]
  },
  {
   "cell_type": "code",
   "execution_count": 8,
   "metadata": {},
   "outputs": [
    {
     "data": {
      "text/html": [
       "<div>\n",
       "<style scoped>\n",
       "    .dataframe tbody tr th:only-of-type {\n",
       "        vertical-align: middle;\n",
       "    }\n",
       "\n",
       "    .dataframe tbody tr th {\n",
       "        vertical-align: top;\n",
       "    }\n",
       "\n",
       "    .dataframe thead th {\n",
       "        text-align: right;\n",
       "    }\n",
       "</style>\n",
       "<table border=\"1\" class=\"dataframe\">\n",
       "  <thead>\n",
       "    <tr style=\"text-align: right;\">\n",
       "      <th></th>\n",
       "      <th>HP</th>\n",
       "      <th>Attack</th>\n",
       "      <th>Defense</th>\n",
       "      <th>SpecialAtk</th>\n",
       "      <th>SpecialDef</th>\n",
       "      <th>Speed</th>\n",
       "    </tr>\n",
       "  </thead>\n",
       "  <tbody>\n",
       "    <tr>\n",
       "      <th>HP</th>\n",
       "      <td>1.000000</td>\n",
       "      <td>0.564247</td>\n",
       "      <td>0.419371</td>\n",
       "      <td>0.389530</td>\n",
       "      <td>0.583880</td>\n",
       "      <td>0.112199</td>\n",
       "    </tr>\n",
       "    <tr>\n",
       "      <th>Attack</th>\n",
       "      <td>0.564247</td>\n",
       "      <td>1.000000</td>\n",
       "      <td>0.550218</td>\n",
       "      <td>0.196540</td>\n",
       "      <td>0.424258</td>\n",
       "      <td>0.293070</td>\n",
       "    </tr>\n",
       "    <tr>\n",
       "      <th>Defense</th>\n",
       "      <td>0.419371</td>\n",
       "      <td>0.550218</td>\n",
       "      <td>1.000000</td>\n",
       "      <td>0.321829</td>\n",
       "      <td>0.299292</td>\n",
       "      <td>0.016637</td>\n",
       "    </tr>\n",
       "    <tr>\n",
       "      <th>SpecialAtk</th>\n",
       "      <td>0.389530</td>\n",
       "      <td>0.196540</td>\n",
       "      <td>0.321829</td>\n",
       "      <td>1.000000</td>\n",
       "      <td>0.572246</td>\n",
       "      <td>0.402310</td>\n",
       "    </tr>\n",
       "    <tr>\n",
       "      <th>SpecialDef</th>\n",
       "      <td>0.583880</td>\n",
       "      <td>0.424258</td>\n",
       "      <td>0.299292</td>\n",
       "      <td>0.572246</td>\n",
       "      <td>1.000000</td>\n",
       "      <td>0.454588</td>\n",
       "    </tr>\n",
       "    <tr>\n",
       "      <th>Speed</th>\n",
       "      <td>0.112199</td>\n",
       "      <td>0.293070</td>\n",
       "      <td>0.016637</td>\n",
       "      <td>0.402310</td>\n",
       "      <td>0.454588</td>\n",
       "      <td>1.000000</td>\n",
       "    </tr>\n",
       "  </tbody>\n",
       "</table>\n",
       "</div>"
      ],
      "text/plain": [
       "                  HP    Attack   Defense  SpecialAtk  SpecialDef     Speed\n",
       "HP          1.000000  0.564247  0.419371    0.389530    0.583880  0.112199\n",
       "Attack      0.564247  1.000000  0.550218    0.196540    0.424258  0.293070\n",
       "Defense     0.419371  0.550218  1.000000    0.321829    0.299292  0.016637\n",
       "SpecialAtk  0.389530  0.196540  0.321829    1.000000    0.572246  0.402310\n",
       "SpecialDef  0.583880  0.424258  0.299292    0.572246    1.000000  0.454588\n",
       "Speed       0.112199  0.293070  0.016637    0.402310    0.454588  1.000000"
      ]
     },
     "execution_count": 8,
     "metadata": {},
     "output_type": "execute_result"
    }
   ],
   "source": [
    "# 產生斯皮爾曼相關矩陣\n",
    "corr_matrix = X.corr(method='spearman')\n",
    "corr_matrix"
   ]
  },
  {
   "cell_type": "code",
   "execution_count": 9,
   "metadata": {},
   "outputs": [
    {
     "data": {
      "text/plain": [
       "SpearmanrResult(correlation=0.5642473841533602, pvalue=1.6544873304447606e-15)"
      ]
     },
     "execution_count": 9,
     "metadata": {},
     "output_type": "execute_result"
    }
   ],
   "source": [
    "# 計算斯皮爾曼相關係數與 p值\n",
    "stats.spearmanr(df['HP'], df['Attack'])"
   ]
  },
  {
   "cell_type": "code",
   "execution_count": 10,
   "metadata": {},
   "outputs": [
    {
     "name": "stdout",
     "output_type": "stream",
     "text": [
      "KendalltauResult(correlation=0.41534787560519015, pvalue=1.2538513443744389e-14)\n"
     ]
    },
    {
     "data": {
      "text/html": [
       "<div>\n",
       "<style scoped>\n",
       "    .dataframe tbody tr th:only-of-type {\n",
       "        vertical-align: middle;\n",
       "    }\n",
       "\n",
       "    .dataframe tbody tr th {\n",
       "        vertical-align: top;\n",
       "    }\n",
       "\n",
       "    .dataframe thead th {\n",
       "        text-align: right;\n",
       "    }\n",
       "</style>\n",
       "<table border=\"1\" class=\"dataframe\">\n",
       "  <thead>\n",
       "    <tr style=\"text-align: right;\">\n",
       "      <th></th>\n",
       "      <th>HP</th>\n",
       "      <th>Attack</th>\n",
       "      <th>Defense</th>\n",
       "      <th>SpecialAtk</th>\n",
       "      <th>SpecialDef</th>\n",
       "      <th>Speed</th>\n",
       "    </tr>\n",
       "  </thead>\n",
       "  <tbody>\n",
       "    <tr>\n",
       "      <th>HP</th>\n",
       "      <td>1.000000</td>\n",
       "      <td>0.415348</td>\n",
       "      <td>0.322465</td>\n",
       "      <td>0.281925</td>\n",
       "      <td>0.441446</td>\n",
       "      <td>0.076019</td>\n",
       "    </tr>\n",
       "    <tr>\n",
       "      <th>Attack</th>\n",
       "      <td>0.415348</td>\n",
       "      <td>1.000000</td>\n",
       "      <td>0.399782</td>\n",
       "      <td>0.136697</td>\n",
       "      <td>0.307479</td>\n",
       "      <td>0.203907</td>\n",
       "    </tr>\n",
       "    <tr>\n",
       "      <th>Defense</th>\n",
       "      <td>0.322465</td>\n",
       "      <td>0.399782</td>\n",
       "      <td>1.000000</td>\n",
       "      <td>0.239553</td>\n",
       "      <td>0.235209</td>\n",
       "      <td>0.006498</td>\n",
       "    </tr>\n",
       "    <tr>\n",
       "      <th>SpecialAtk</th>\n",
       "      <td>0.281925</td>\n",
       "      <td>0.136697</td>\n",
       "      <td>0.239553</td>\n",
       "      <td>1.000000</td>\n",
       "      <td>0.444924</td>\n",
       "      <td>0.293127</td>\n",
       "    </tr>\n",
       "    <tr>\n",
       "      <th>SpecialDef</th>\n",
       "      <td>0.441446</td>\n",
       "      <td>0.307479</td>\n",
       "      <td>0.235209</td>\n",
       "      <td>0.444924</td>\n",
       "      <td>1.000000</td>\n",
       "      <td>0.318700</td>\n",
       "    </tr>\n",
       "    <tr>\n",
       "      <th>Speed</th>\n",
       "      <td>0.076019</td>\n",
       "      <td>0.203907</td>\n",
       "      <td>0.006498</td>\n",
       "      <td>0.293127</td>\n",
       "      <td>0.318700</td>\n",
       "      <td>1.000000</td>\n",
       "    </tr>\n",
       "  </tbody>\n",
       "</table>\n",
       "</div>"
      ],
      "text/plain": [
       "                  HP    Attack   Defense  SpecialAtk  SpecialDef     Speed\n",
       "HP          1.000000  0.415348  0.322465    0.281925    0.441446  0.076019\n",
       "Attack      0.415348  1.000000  0.399782    0.136697    0.307479  0.203907\n",
       "Defense     0.322465  0.399782  1.000000    0.239553    0.235209  0.006498\n",
       "SpecialAtk  0.281925  0.136697  0.239553    1.000000    0.444924  0.293127\n",
       "SpecialDef  0.441446  0.307479  0.235209    0.444924    1.000000  0.318700\n",
       "Speed       0.076019  0.203907  0.006498    0.293127    0.318700  1.000000"
      ]
     },
     "execution_count": 10,
     "metadata": {},
     "output_type": "execute_result"
    }
   ],
   "source": [
    "# 計算肯德爾相關係數與 p值\n",
    "print(stats.kendalltau(df['HP'], df['Attack']))\n",
    "# 產生肯德爾相關矩陣\n",
    "corr_matrix = X.corr(method='kendall')\n",
    "corr_matrix"
   ]
  },
  {
   "cell_type": "code",
   "execution_count": 11,
   "metadata": {},
   "outputs": [
    {
     "data": {
      "text/html": [
       "<div>\n",
       "<style scoped>\n",
       "    .dataframe tbody tr th:only-of-type {\n",
       "        vertical-align: middle;\n",
       "    }\n",
       "\n",
       "    .dataframe tbody tr th {\n",
       "        vertical-align: top;\n",
       "    }\n",
       "\n",
       "    .dataframe thead th {\n",
       "        text-align: right;\n",
       "    }\n",
       "</style>\n",
       "<table border=\"1\" class=\"dataframe\">\n",
       "  <thead>\n",
       "    <tr style=\"text-align: right;\">\n",
       "      <th></th>\n",
       "      <th>hasType2</th>\n",
       "      <th>HP</th>\n",
       "      <th>Attack</th>\n",
       "      <th>Defense</th>\n",
       "      <th>SpecialAtk</th>\n",
       "      <th>SpecialDef</th>\n",
       "      <th>Speed</th>\n",
       "      <th>Generation</th>\n",
       "      <th>Legendary</th>\n",
       "    </tr>\n",
       "  </thead>\n",
       "  <tbody>\n",
       "    <tr>\n",
       "      <th>hasType2</th>\n",
       "      <td>1.000000</td>\n",
       "      <td>0.125690</td>\n",
       "      <td>0.087135</td>\n",
       "      <td>0.145104</td>\n",
       "      <td>0.167511</td>\n",
       "      <td>0.057040</td>\n",
       "      <td>-0.019050</td>\n",
       "      <td>0.006545</td>\n",
       "      <td>0.075740</td>\n",
       "    </tr>\n",
       "    <tr>\n",
       "      <th>HP</th>\n",
       "      <td>0.125690</td>\n",
       "      <td>1.000000</td>\n",
       "      <td>0.415348</td>\n",
       "      <td>0.322465</td>\n",
       "      <td>0.281925</td>\n",
       "      <td>0.441446</td>\n",
       "      <td>0.076019</td>\n",
       "      <td>0.000000</td>\n",
       "      <td>0.223976</td>\n",
       "    </tr>\n",
       "    <tr>\n",
       "      <th>Attack</th>\n",
       "      <td>0.087135</td>\n",
       "      <td>0.415348</td>\n",
       "      <td>1.000000</td>\n",
       "      <td>0.399782</td>\n",
       "      <td>0.136697</td>\n",
       "      <td>0.307479</td>\n",
       "      <td>0.203907</td>\n",
       "      <td>-0.094959</td>\n",
       "      <td>0.184349</td>\n",
       "    </tr>\n",
       "    <tr>\n",
       "      <th>Defense</th>\n",
       "      <td>0.145104</td>\n",
       "      <td>0.322465</td>\n",
       "      <td>0.399782</td>\n",
       "      <td>1.000000</td>\n",
       "      <td>0.239553</td>\n",
       "      <td>0.235209</td>\n",
       "      <td>0.006498</td>\n",
       "      <td>-0.012270</td>\n",
       "      <td>0.143693</td>\n",
       "    </tr>\n",
       "    <tr>\n",
       "      <th>SpecialAtk</th>\n",
       "      <td>0.167511</td>\n",
       "      <td>0.281925</td>\n",
       "      <td>0.136697</td>\n",
       "      <td>0.239553</td>\n",
       "      <td>1.000000</td>\n",
       "      <td>0.444924</td>\n",
       "      <td>0.293127</td>\n",
       "      <td>-0.026957</td>\n",
       "      <td>0.235489</td>\n",
       "    </tr>\n",
       "    <tr>\n",
       "      <th>SpecialDef</th>\n",
       "      <td>0.057040</td>\n",
       "      <td>0.441446</td>\n",
       "      <td>0.307479</td>\n",
       "      <td>0.235209</td>\n",
       "      <td>0.444924</td>\n",
       "      <td>1.000000</td>\n",
       "      <td>0.318700</td>\n",
       "      <td>0.093204</td>\n",
       "      <td>0.198988</td>\n",
       "    </tr>\n",
       "    <tr>\n",
       "      <th>Speed</th>\n",
       "      <td>-0.019050</td>\n",
       "      <td>0.076019</td>\n",
       "      <td>0.203907</td>\n",
       "      <td>0.006498</td>\n",
       "      <td>0.293127</td>\n",
       "      <td>0.318700</td>\n",
       "      <td>1.000000</td>\n",
       "      <td>0.005656</td>\n",
       "      <td>0.193095</td>\n",
       "    </tr>\n",
       "    <tr>\n",
       "      <th>Generation</th>\n",
       "      <td>0.006545</td>\n",
       "      <td>0.000000</td>\n",
       "      <td>-0.094959</td>\n",
       "      <td>-0.012270</td>\n",
       "      <td>-0.026957</td>\n",
       "      <td>0.093204</td>\n",
       "      <td>0.005656</td>\n",
       "      <td>1.000000</td>\n",
       "      <td>-0.021124</td>\n",
       "    </tr>\n",
       "    <tr>\n",
       "      <th>Legendary</th>\n",
       "      <td>0.075740</td>\n",
       "      <td>0.223976</td>\n",
       "      <td>0.184349</td>\n",
       "      <td>0.143693</td>\n",
       "      <td>0.235489</td>\n",
       "      <td>0.198988</td>\n",
       "      <td>0.193095</td>\n",
       "      <td>-0.021124</td>\n",
       "      <td>1.000000</td>\n",
       "    </tr>\n",
       "  </tbody>\n",
       "</table>\n",
       "</div>"
      ],
      "text/plain": [
       "            hasType2        HP    Attack   Defense  SpecialAtk  SpecialDef  \\\n",
       "hasType2    1.000000  0.125690  0.087135  0.145104    0.167511    0.057040   \n",
       "HP          0.125690  1.000000  0.415348  0.322465    0.281925    0.441446   \n",
       "Attack      0.087135  0.415348  1.000000  0.399782    0.136697    0.307479   \n",
       "Defense     0.145104  0.322465  0.399782  1.000000    0.239553    0.235209   \n",
       "SpecialAtk  0.167511  0.281925  0.136697  0.239553    1.000000    0.444924   \n",
       "SpecialDef  0.057040  0.441446  0.307479  0.235209    0.444924    1.000000   \n",
       "Speed      -0.019050  0.076019  0.203907  0.006498    0.293127    0.318700   \n",
       "Generation  0.006545  0.000000 -0.094959 -0.012270   -0.026957    0.093204   \n",
       "Legendary   0.075740  0.223976  0.184349  0.143693    0.235489    0.198988   \n",
       "\n",
       "               Speed  Generation  Legendary  \n",
       "hasType2   -0.019050    0.006545   0.075740  \n",
       "HP          0.076019    0.000000   0.223976  \n",
       "Attack      0.203907   -0.094959   0.184349  \n",
       "Defense     0.006498   -0.012270   0.143693  \n",
       "SpecialAtk  0.293127   -0.026957   0.235489  \n",
       "SpecialDef  0.318700    0.093204   0.198988  \n",
       "Speed       1.000000    0.005656   0.193095  \n",
       "Generation  0.005656    1.000000  -0.021124  \n",
       "Legendary   0.193095   -0.021124   1.000000  "
      ]
     },
     "execution_count": 11,
     "metadata": {},
     "output_type": "execute_result"
    }
   ],
   "source": [
    "col = [df.columns[-1]] + list(df.columns[4:-1])\n",
    "X = df.loc[:, col]\n",
    "corr_matrix = X.corr(method='kendall')\n",
    "corr_matrix"
   ]
  },
  {
   "cell_type": "code",
   "execution_count": 12,
   "metadata": {},
   "outputs": [
    {
     "name": "stdout",
     "output_type": "stream",
     "text": [
      "[[2. 2.]\n",
      " [3. 3.]\n",
      " [4. 4.]\n",
      " [6. 5.]]\n",
      "(array([1.24269663e+00, 1.91258104e+00, 4.71224147e+00, 7.98876404e+00,\n",
      "       1.19673045e+00, 8.19822675e-02, 8.36631054e-05]), array([0.26495198, 0.16667683, 0.02994858, 0.00470685, 0.27397614,\n",
      "       0.77462886, 0.99270205]))\n"
     ]
    },
    {
     "data": {
      "text/html": [
       "<div>\n",
       "<style scoped>\n",
       "    .dataframe tbody tr th:only-of-type {\n",
       "        vertical-align: middle;\n",
       "    }\n",
       "\n",
       "    .dataframe tbody tr th {\n",
       "        vertical-align: top;\n",
       "    }\n",
       "\n",
       "    .dataframe thead th {\n",
       "        text-align: right;\n",
       "    }\n",
       "</style>\n",
       "<table border=\"1\" class=\"dataframe\">\n",
       "  <thead>\n",
       "    <tr style=\"text-align: right;\">\n",
       "      <th></th>\n",
       "      <th>HP</th>\n",
       "      <th>Attack</th>\n",
       "      <th>Defense</th>\n",
       "      <th>SpecialAtk</th>\n",
       "      <th>SpecialDef</th>\n",
       "      <th>Speed</th>\n",
       "      <th>Generation</th>\n",
       "    </tr>\n",
       "  </thead>\n",
       "  <tbody>\n",
       "    <tr>\n",
       "      <th>0</th>\n",
       "      <td>1.0</td>\n",
       "      <td>2.0</td>\n",
       "      <td>2.0</td>\n",
       "      <td>2.0</td>\n",
       "      <td>4.0</td>\n",
       "      <td>2.0</td>\n",
       "      <td>1</td>\n",
       "    </tr>\n",
       "    <tr>\n",
       "      <th>1</th>\n",
       "      <td>2.0</td>\n",
       "      <td>3.0</td>\n",
       "      <td>3.0</td>\n",
       "      <td>3.0</td>\n",
       "      <td>5.0</td>\n",
       "      <td>3.0</td>\n",
       "      <td>1</td>\n",
       "    </tr>\n",
       "    <tr>\n",
       "      <th>2</th>\n",
       "      <td>2.0</td>\n",
       "      <td>4.0</td>\n",
       "      <td>4.0</td>\n",
       "      <td>4.0</td>\n",
       "      <td>7.0</td>\n",
       "      <td>4.0</td>\n",
       "      <td>1</td>\n",
       "    </tr>\n",
       "    <tr>\n",
       "      <th>3</th>\n",
       "      <td>2.0</td>\n",
       "      <td>5.0</td>\n",
       "      <td>6.0</td>\n",
       "      <td>5.0</td>\n",
       "      <td>9.0</td>\n",
       "      <td>4.0</td>\n",
       "      <td>1</td>\n",
       "    </tr>\n",
       "  </tbody>\n",
       "</table>\n",
       "</div>"
      ],
      "text/plain": [
       "    HP  Attack  Defense  SpecialAtk  SpecialDef  Speed  Generation\n",
       "0  1.0     2.0      2.0         2.0         4.0    2.0           1\n",
       "1  2.0     3.0      3.0         3.0         5.0    3.0           1\n",
       "2  2.0     4.0      4.0         4.0         7.0    4.0           1\n",
       "3  2.0     5.0      6.0         5.0         9.0    4.0           1"
      ]
     },
     "execution_count": 12,
     "metadata": {},
     "output_type": "execute_result"
    }
   ],
   "source": [
    "from sklearn.preprocessing import KBinsDiscretizer\n",
    "from sklearn.feature_selection import SelectKBest\n",
    "from sklearn.feature_selection import chi2\n",
    "# 將數值特徵離散化\n",
    "est = KBinsDiscretizer(n_bins=10, encode='ordinal', strategy='uniform')\n",
    "X_bin = est.fit_transform(df.loc[:, 'HP':'Speed'])\n",
    "\n",
    "X = df.loc[:, 'HP':'Generation']\n",
    "X.loc[:, 'HP':'Speed'] = X_bin\n",
    "y = df['hasType2']\n",
    "# 選取 k=2 個卡方統計量最高的特徵\n",
    "selector = SelectKBest(chi2, k=2)\n",
    "X_kbest = selector.fit_transform(X, y)\n",
    "\n",
    "print(X_kbest[:4,:])  # 選出 Defense 與 SpecialAtk\n",
    "print(chi2(X, y))     # 輸出卡方統計量與 p值\n",
    "X.head(4)"
   ]
  },
  {
   "cell_type": "code",
   "execution_count": 13,
   "metadata": {},
   "outputs": [
    {
     "name": "stdout",
     "output_type": "stream",
     "text": [
      "[[ 49.  49.  65.]\n",
      " [ 62.  63.  80.]\n",
      " [ 82.  83. 100.]\n",
      " [100. 123. 122.]]\n",
      "(array([1.14749319, 2.97372848, 6.84241862, 5.48589059, 0.7838129 ,\n",
      "       0.14165011]), array([0.2856295 , 0.08648805, 0.00972243, 0.02035716, 0.37725819,\n",
      "       0.70712666]))\n"
     ]
    },
    {
     "data": {
      "text/html": [
       "<div>\n",
       "<style scoped>\n",
       "    .dataframe tbody tr th:only-of-type {\n",
       "        vertical-align: middle;\n",
       "    }\n",
       "\n",
       "    .dataframe tbody tr th {\n",
       "        vertical-align: top;\n",
       "    }\n",
       "\n",
       "    .dataframe thead th {\n",
       "        text-align: right;\n",
       "    }\n",
       "</style>\n",
       "<table border=\"1\" class=\"dataframe\">\n",
       "  <thead>\n",
       "    <tr style=\"text-align: right;\">\n",
       "      <th></th>\n",
       "      <th>HP</th>\n",
       "      <th>Attack</th>\n",
       "      <th>Defense</th>\n",
       "      <th>SpecialAtk</th>\n",
       "      <th>SpecialDef</th>\n",
       "      <th>Speed</th>\n",
       "    </tr>\n",
       "  </thead>\n",
       "  <tbody>\n",
       "    <tr>\n",
       "      <th>0</th>\n",
       "      <td>45.0</td>\n",
       "      <td>49</td>\n",
       "      <td>49</td>\n",
       "      <td>65</td>\n",
       "      <td>65</td>\n",
       "      <td>45</td>\n",
       "    </tr>\n",
       "    <tr>\n",
       "      <th>1</th>\n",
       "      <td>60.0</td>\n",
       "      <td>62</td>\n",
       "      <td>63</td>\n",
       "      <td>80</td>\n",
       "      <td>80</td>\n",
       "      <td>60</td>\n",
       "    </tr>\n",
       "    <tr>\n",
       "      <th>2</th>\n",
       "      <td>80.0</td>\n",
       "      <td>82</td>\n",
       "      <td>83</td>\n",
       "      <td>100</td>\n",
       "      <td>100</td>\n",
       "      <td>80</td>\n",
       "    </tr>\n",
       "    <tr>\n",
       "      <th>3</th>\n",
       "      <td>80.0</td>\n",
       "      <td>100</td>\n",
       "      <td>123</td>\n",
       "      <td>122</td>\n",
       "      <td>120</td>\n",
       "      <td>80</td>\n",
       "    </tr>\n",
       "  </tbody>\n",
       "</table>\n",
       "</div>"
      ],
      "text/plain": [
       "     HP  Attack  Defense  SpecialAtk  SpecialDef  Speed\n",
       "0  45.0      49       49          65          65     45\n",
       "1  60.0      62       63          80          80     60\n",
       "2  80.0      82       83         100         100     80\n",
       "3  80.0     100      123         122         120     80"
      ]
     },
     "execution_count": 13,
     "metadata": {},
     "output_type": "execute_result"
    }
   ],
   "source": [
    "from sklearn.feature_selection import SelectPercentile, f_classif\n",
    "\n",
    "X = df.loc[:, 'HP':'Speed']\n",
    "y = df['hasType2']\n",
    "# 選取前 50% F值最高的特徵\n",
    "selector = SelectPercentile(f_classif, percentile=50)\n",
    "X_pbest = selector.fit_transform(X, y)\n",
    "\n",
    "print(X_pbest[:4,:])   # 選出 Attack, Defense, SpecialDef\n",
    "print(f_classif(X, y)) # 輸出 F值與 p值\n",
    "X.head(4)"
   ]
  },
  {
   "cell_type": "code",
   "execution_count": 14,
   "metadata": {},
   "outputs": [
    {
     "name": "stdout",
     "output_type": "stream",
     "text": [
      "[[ 49.  65.  65.]\n",
      " [ 62.  80.  80.]\n",
      " [ 82. 100. 100.]\n",
      " [100. 122. 120.]]\n",
      "[0.         0.03685285 0.         0.07544646 0.01753647 0.        ]\n"
     ]
    }
   ],
   "source": [
    "from sklearn.feature_selection import mutual_info_classif\n",
    "\n",
    "selector = SelectPercentile(mutual_info_classif, \n",
    "                            percentile=50)\n",
    "X_pbest = selector.fit_transform(X, y)\n",
    "print(X_pbest[:4,:])   # 選出 Attack, SpecialAtk, SpecialDef\n",
    "print(mutual_info_classif(X, y)) # 輸出 MI值"
   ]
  },
  {
   "cell_type": "code",
   "execution_count": 15,
   "metadata": {},
   "outputs": [
    {
     "name": "stdout",
     "output_type": "stream",
     "text": [
      "最佳特徵數： 5\n",
      "哪些類型最佳： [False  True  True  True  True  True]\n",
      "特徵排名(1最好)： [2 1 1 1 1 1]\n"
     ]
    },
    {
     "data": {
      "text/plain": [
       "Index(['Attack', 'Defense', 'SpecialAtk', 'SpecialDef', 'Speed'], dtype='object')"
      ]
     },
     "execution_count": 15,
     "metadata": {},
     "output_type": "execute_result"
    }
   ],
   "source": [
    "from sklearn.feature_selection import RFECV\n",
    "from sklearn.linear_model import LogisticRegression\n",
    "\n",
    "X = df.loc[:, 'HP':'Speed'] \n",
    "y = df['hasType2']\n",
    "# 以邏輯斯迴歸預測是否有雙屬性\n",
    "model = LogisticRegression()\n",
    "selector = RFECV(model, step=1, cv=5, scoring='accuracy')\n",
    "selector = selector.fit(X, y)\n",
    "\n",
    "print('最佳特徵數：', selector.n_features_)\n",
    "print('哪些類型最佳：', selector.support_)\n",
    "print('特徵排名(1最好)：', selector.ranking_)\n",
    "X.columns[selector.support_]"
   ]
  },
  {
   "cell_type": "code",
   "execution_count": 16,
   "metadata": {},
   "outputs": [
    {
     "name": "stderr",
     "output_type": "stream",
     "text": [
      "\n",
      "Bad key \"text.kerning_factor\" on line 4 in\n",
      "C:\\Anaconda3\\lib\\site-packages\\matplotlib\\mpl-data\\stylelib\\_classic_test_patch.mplstyle.\n",
      "You probably need to get an updated matplotlibrc file from\n",
      "http://github.com/matplotlib/matplotlib/blob/master/matplotlibrc.template\n",
      "or from the matplotlib source distribution\n"
     ]
    },
    {
     "name": "stdout",
     "output_type": "stream",
     "text": [
      "特徵重要性排序：\n",
      "1. Attack\t (feature 0: 184.058952)\n",
      "2. SpecialDef\t (feature 3: 158.866690)\n",
      "3. Speed\t (feature 4: 113.976619)\n",
      "4. Defense\t (feature 1: 105.848571)\n",
      "5. SpecialAtk\t (feature 2: 95.775810)\n",
      "6. hasType2\t (feature 7: 0.535714)\n",
      "7. Legendary\t (feature 6: 0.000000)\n",
      "8. Generation\t (feature 5: 0.000000)\n"
     ]
    }
   ],
   "source": [
    "import matplotlib.pyplot as plt\n",
    "from sklearn.neighbors import KNeighborsRegressor\n",
    "from sklearn.inspection import permutation_importance\n",
    "plt.style.use('fivethirtyeight')\n",
    "\n",
    "# 利用 kNN 預測 HP\n",
    "X, y = df.loc[:, 'Attack':'hasType2'], df['HP']\n",
    "model = KNeighborsRegressor()\n",
    "model.fit(X, y)\n",
    "\n",
    "selector = permutation_importance(model, X, y, n_repeats=10,\n",
    "                                  scoring='neg_mean_squared_error', \n",
    "                                  n_jobs=-1)\n",
    "\n",
    "importance = selector.importances_mean\n",
    "std = selector.importances_std\n",
    "# 按特徵重要性排序\n",
    "idx = np.argsort(importance)[::-1]\n",
    "print(\"特徵重要性排序：\")\n",
    "for c in range(X.shape[1]):\n",
    "    print('%d. %s' % (c+1, X.columns[idx[c]]), end='')\n",
    "    print('\\t (feature %d: %f)' % (idx[c], \n",
    "                                   importance[idx[c]]))"
   ]
  },
  {
   "cell_type": "code",
   "execution_count": 17,
   "metadata": {},
   "outputs": [
    {
     "data": {
      "text/plain": [
       "(-1, 8)"
      ]
     },
     "execution_count": 17,
     "metadata": {},
     "output_type": "execute_result"
    },
    {
     "data": {
      "image/png": "[encoded data removed]",
      "text/plain": [
       "<Figure size 432x288 with 1 Axes>"
      ]
     },
     "metadata": {},
     "output_type": "display_data"
    }
   ],
   "source": [
    "plt.title(\"Feature Importances\")\n",
    "plt.bar(range(X.shape[1]), importance, yerr=std)\n",
    "plt.xticks(range(X.shape[1]), X.columns, rotation=30)\n",
    "plt.xlim([-1, X.shape[1]])"
   ]
  },
  {
   "cell_type": "code",
   "execution_count": 18,
   "metadata": {},
   "outputs": [
    {
     "name": "stdout",
     "output_type": "stream",
     "text": [
      "特徵重要性排序：\n",
      "1. SpecialAtk\t (feature 3: 0.073810)\n",
      "2. Speed\t (feature 5: 0.061310)\n",
      "3. Defense\t (feature 2: 0.057738)\n",
      "4. Attack\t (feature 1: 0.039881)\n",
      "5. HP\t (feature 0: 0.036905)\n",
      "6. SpecialDef\t (feature 4: 0.017857)\n",
      "7. Legendary\t (feature 7: 0.000000)\n",
      "8. Generation\t (feature 6: 0.000000)\n"
     ]
    }
   ],
   "source": [
    "from sklearn.neighbors import KNeighborsClassifier\n",
    "# 利用 kNN 預測 hasType2\n",
    "X, y = df.loc[:, 'HP':'Legendary'], df['hasType2']\n",
    "model = KNeighborsClassifier().fit(X, y)\n",
    "\n",
    "selector = permutation_importance(model, X, y, n_repeats=10,\n",
    "                                  scoring='accuracy', \n",
    "                                  n_jobs=-1)\n",
    "\n",
    "importance = selector.importances_mean\n",
    "std = selector.importances_std\n",
    "# 按特徵重要性排序\n",
    "idx = np.argsort(importance)[::-1]\n",
    "print(\"特徵重要性排序：\")\n",
    "for c in range(X.shape[1]):\n",
    "    print('%d. %s' % (c+1, X.columns[idx[c]]), end='')\n",
    "    print('\\t (feature %d: %f)' % (idx[c], \n",
    "                                   importance[idx[c]]))"
   ]
  },
  {
   "cell_type": "code",
   "execution_count": 19,
   "metadata": {},
   "outputs": [
    {
     "data": {
      "text/plain": [
       "(-1, 8)"
      ]
     },
     "execution_count": 19,
     "metadata": {},
     "output_type": "execute_result"
    },
    {
     "data": {
      "image/png": "[encoded data removed]",
      "text/plain": [
       "<Figure size 432x288 with 1 Axes>"
      ]
     },
     "metadata": {},
     "output_type": "display_data"
    }
   ],
   "source": [
    "plt.title(\"Feature Importances\")\n",
    "plt.bar(range(X.shape[1]), importance, yerr=std)\n",
    "plt.xticks(range(X.shape[1]), X.columns, rotation=30)\n",
    "plt.xlim([-1, X.shape[1]])"
   ]
  },
  {
   "cell_type": "code",
   "execution_count": 20,
   "metadata": {},
   "outputs": [
    {
     "name": "stdout",
     "output_type": "stream",
     "text": [
      "特徵重要性排序：\n",
      "1. Speed\t (feature 5: 0.085119)\n",
      "2. Defense\t (feature 2: 0.073214)\n",
      "3. Attack\t (feature 1: 0.058333)\n",
      "4. SpecialAtk\t (feature 3: 0.050000)\n",
      "5. HP\t (feature 0: 0.048214)\n",
      "6. SpecialDef\t (feature 4: 0.039881)\n",
      "7. Legendary\t (feature 7: 0.023810)\n",
      "8. Generation\t (feature 6: -0.006548)\n"
     ]
    }
   ],
   "source": [
    "from sklearn.neighbors import KNeighborsClassifier\n",
    "from sklearn.preprocessing import StandardScaler\n",
    "# 利用 kNN 預測 hasType2\n",
    "X, y = df.loc[:, 'HP':'Legendary'], df['hasType2']\n",
    "X_std = StandardScaler().fit_transform(X)\n",
    "# 先將特徵標準化，得到的結果比較穩定\n",
    "model = KNeighborsClassifier().fit(X_std, y)\n",
    "selector = permutation_importance(model, X_std, y, \n",
    "                                  n_repeats=10,\n",
    "                                  scoring='accuracy', \n",
    "                                  n_jobs=-1)\n",
    "\n",
    "importance = selector.importances_mean\n",
    "std = selector.importances_std\n",
    "# 按特徵重要性排序\n",
    "idx = np.argsort(importance)[::-1]\n",
    "print(\"特徵重要性排序：\")\n",
    "for c in range(X.shape[1]):\n",
    "    print('%d. %s' % (c+1, X.columns[idx[c]]), end='')\n",
    "    print('\\t (feature %d: %f)' % (idx[c], \n",
    "                                   importance[idx[c]]))"
   ]
  },
  {
   "cell_type": "code",
   "execution_count": 21,
   "metadata": {},
   "outputs": [
    {
     "data": {
      "text/plain": [
       "(-1, 8)"
      ]
     },
     "execution_count": 21,
     "metadata": {},
     "output_type": "execute_result"
    },
    {
     "data": {
      "image/png": "[encoded data removed]",
      "text/plain": [
       "<Figure size 432x288 with 1 Axes>"
      ]
     },
     "metadata": {},
     "output_type": "display_data"
    }
   ],
   "source": [
    "plt.title(\"Feature Importances (standardization)\")\n",
    "plt.bar(range(X.shape[1]), importance, yerr=std)\n",
    "plt.xticks(range(X.shape[1]), X.columns, rotation=30)\n",
    "plt.xlim([-1, X.shape[1]])"
   ]
  },
  {
   "cell_type": "code",
   "execution_count": null,
   "metadata": {},
   "outputs": [],
   "source": []
  }
 ],
 "metadata": {
  "kernelspec": {
   "display_name": "Python 3",
   "language": "python",
   "name": "python3"
  },
  "language_info": {
   "codemirror_mode": {
    "name": "ipython",
    "version": 3
   },
   "file_extension": ".py",
   "mimetype": "text/x-python",
   "name": "python",
   "nbconvert_exporter": "python",
   "pygments_lexer": "ipython3",
   "version": "3.7.6"
  }
 },
 "nbformat": 4,
 "nbformat_minor": 4
}
