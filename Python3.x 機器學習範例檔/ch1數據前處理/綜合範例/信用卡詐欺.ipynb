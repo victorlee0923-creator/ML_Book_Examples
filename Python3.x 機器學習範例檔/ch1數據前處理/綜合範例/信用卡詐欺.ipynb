{
 "cells": [
  {
   "cell_type": "code",
   "execution_count": 2,
   "metadata": {},
   "outputs": [
    {
     "data": {
      "text/html": [
       "<div>\n",
       "<style scoped>\n",
       "    .dataframe tbody tr th:only-of-type {\n",
       "        vertical-align: middle;\n",
       "    }\n",
       "\n",
       "    .dataframe tbody tr th {\n",
       "        vertical-align: top;\n",
       "    }\n",
       "\n",
       "    .dataframe thead th {\n",
       "        text-align: right;\n",
       "    }\n",
       "</style>\n",
       "<table border=\"1\" class=\"dataframe\">\n",
       "  <thead>\n",
       "    <tr style=\"text-align: right;\">\n",
       "      <th></th>\n",
       "      <th>Time</th>\n",
       "      <th>V1</th>\n",
       "      <th>V2</th>\n",
       "      <th>V3</th>\n",
       "      <th>V4</th>\n",
       "      <th>V5</th>\n",
       "      <th>V6</th>\n",
       "      <th>V7</th>\n",
       "      <th>V8</th>\n",
       "      <th>V9</th>\n",
       "      <th>...</th>\n",
       "      <th>V21</th>\n",
       "      <th>V22</th>\n",
       "      <th>V23</th>\n",
       "      <th>V24</th>\n",
       "      <th>V25</th>\n",
       "      <th>V26</th>\n",
       "      <th>V27</th>\n",
       "      <th>V28</th>\n",
       "      <th>Amount</th>\n",
       "      <th>Class</th>\n",
       "    </tr>\n",
       "  </thead>\n",
       "  <tbody>\n",
       "    <tr>\n",
       "      <th>623</th>\n",
       "      <td>7610</td>\n",
       "      <td>0.73</td>\n",
       "      <td>2.30</td>\n",
       "      <td>-5.33</td>\n",
       "      <td>4.01</td>\n",
       "      <td>-1.73</td>\n",
       "      <td>-1.73</td>\n",
       "      <td>-3.97</td>\n",
       "      <td>1.06</td>\n",
       "      <td>-0.49</td>\n",
       "      <td>...</td>\n",
       "      <td>0.59</td>\n",
       "      <td>0.11</td>\n",
       "      <td>0.60</td>\n",
       "      <td>-0.36</td>\n",
       "      <td>-1.84</td>\n",
       "      <td>0.35</td>\n",
       "      <td>0.59</td>\n",
       "      <td>0.10</td>\n",
       "      <td>1.0</td>\n",
       "      <td>1</td>\n",
       "    </tr>\n",
       "    <tr>\n",
       "      <th>664</th>\n",
       "      <td>8808</td>\n",
       "      <td>-4.62</td>\n",
       "      <td>1.70</td>\n",
       "      <td>-3.11</td>\n",
       "      <td>4.33</td>\n",
       "      <td>-1.87</td>\n",
       "      <td>-0.99</td>\n",
       "      <td>-4.58</td>\n",
       "      <td>0.47</td>\n",
       "      <td>0.47</td>\n",
       "      <td>...</td>\n",
       "      <td>0.48</td>\n",
       "      <td>0.15</td>\n",
       "      <td>0.12</td>\n",
       "      <td>-0.22</td>\n",
       "      <td>-0.14</td>\n",
       "      <td>-0.42</td>\n",
       "      <td>-1.00</td>\n",
       "      <td>0.89</td>\n",
       "      <td>1.1</td>\n",
       "      <td>1</td>\n",
       "    </tr>\n",
       "    <tr>\n",
       "      <th>924</th>\n",
       "      <td>13323</td>\n",
       "      <td>-5.45</td>\n",
       "      <td>8.29</td>\n",
       "      <td>-12.75</td>\n",
       "      <td>8.59</td>\n",
       "      <td>-3.11</td>\n",
       "      <td>-3.18</td>\n",
       "      <td>-9.25</td>\n",
       "      <td>4.25</td>\n",
       "      <td>-6.33</td>\n",
       "      <td>...</td>\n",
       "      <td>1.85</td>\n",
       "      <td>-0.27</td>\n",
       "      <td>-0.31</td>\n",
       "      <td>-1.20</td>\n",
       "      <td>1.35</td>\n",
       "      <td>0.61</td>\n",
       "      <td>1.57</td>\n",
       "      <td>0.81</td>\n",
       "      <td>1.0</td>\n",
       "      <td>1</td>\n",
       "    </tr>\n",
       "  </tbody>\n",
       "</table>\n",
       "<p>3 rows × 31 columns</p>\n",
       "</div>"
      ],
      "text/plain": [
       "      Time    V1    V2     V3    V4    V5    V6    V7    V8    V9  ...   V21  \\\n",
       "623   7610  0.73  2.30  -5.33  4.01 -1.73 -1.73 -3.97  1.06 -0.49  ...  0.59   \n",
       "664   8808 -4.62  1.70  -3.11  4.33 -1.87 -0.99 -4.58  0.47  0.47  ...  0.48   \n",
       "924  13323 -5.45  8.29 -12.75  8.59 -3.11 -3.18 -9.25  4.25 -6.33  ...  1.85   \n",
       "\n",
       "      V22   V23   V24   V25   V26   V27   V28  Amount  Class  \n",
       "623  0.11  0.60 -0.36 -1.84  0.35  0.59  0.10     1.0      1  \n",
       "664  0.15  0.12 -0.22 -0.14 -0.42 -1.00  0.89     1.1      1  \n",
       "924 -0.27 -0.31 -1.20  1.35  0.61  1.57  0.81     1.0      1  \n",
       "\n",
       "[3 rows x 31 columns]"
      ]
     },
     "execution_count": 2,
     "metadata": {},
     "output_type": "execute_result"
    }
   ],
   "source": [
    "import pandas as pd\n",
    "\n",
    "# 載入信用卡欺詐資料\n",
    "df = pd.read_csv('creditcard.csv')\n",
    "\n",
    "Fraud = df[df['Class']==1]\n",
    "Valid = df[df['Class']==0]\n",
    "Fraud.head(3)"
   ]
  },
  {
   "cell_type": "code",
   "execution_count": 3,
   "metadata": {},
   "outputs": [
    {
     "name": "stdout",
     "output_type": "stream",
     "text": [
      "Outlier ratio: 0.0017204452090867595\n",
      "Fraud Cases : 49\n",
      "Valid Cases : 28432\n"
     ]
    }
   ],
   "source": [
    "# 計算 \"Class\" 欄位為 1 的比例\n",
    "outlier_fraction = len(Fraud)/float(df.shape[0])\n",
    "\n",
    "print('Outlier ratio:', outlier_fraction)\n",
    "print(\"Fraud Cases : {}\".format(len(Fraud)))\n",
    "print(\"Valid Cases : {}\".format(len(Valid)))"
   ]
  },
  {
   "cell_type": "code",
   "execution_count": 4,
   "metadata": {},
   "outputs": [],
   "source": [
    "# 取出特徵欄位 V1,V2,...,V28,Amount、類別欄位 class\n",
    "columns = [c for c in df.columns if c not in ['Time', 'Class']]\n",
    "target = 'Class'\n",
    "X_train = df[columns]\n",
    "y_train = df[target] "
   ]
  },
  {
   "cell_type": "code",
   "execution_count": 5,
   "metadata": {},
   "outputs": [],
   "source": [
    "# 建立孤立森林、局部異常因子模型\n",
    "from sklearn.ensemble import IsolationForest\n",
    "from sklearn.neighbors import LocalOutlierFactor\n",
    "\n",
    "clf1 = IsolationForest(n_estimators=100, max_samples=len(X_train), \n",
    "                       contamination=outlier_fraction)\n",
    "clf2 = LocalOutlierFactor(n_neighbors=20, algorithm='auto', \n",
    "                          leaf_size=30, \n",
    "                          p=2, \n",
    "                          contamination=outlier_fraction)"
   ]
  },
  {
   "cell_type": "code",
   "execution_count": 7,
   "metadata": {},
   "outputs": [
    {
     "name": "stdout",
     "output_type": "stream",
     "text": [
      "=== 分類錯誤的樣本數 ===\n",
      "孤立森林：70\n",
      "局部異常因子：78\n"
     ]
    }
   ],
   "source": [
    "# 分別計算分類錯誤樣本數\n",
    "lst_name = ['孤立森林', '局部異常因子']\n",
    "lst_clf = [clf1, clf2]\n",
    "\n",
    "print('=== 分類錯誤的樣本數 ===')\n",
    "for name, clf in zip(lst_name, lst_clf):\n",
    "    y_pred = clf.fit_predict(X_train)\n",
    "    \n",
    "    # 修改預測值： 0->正常交易、1->詐欺交易\n",
    "    y_pred[y_pred == 1] = 0\n",
    "    y_pred[y_pred == -1] = 1\n",
    "    n_errors = (y_pred != y_train).sum()\n",
    "    \n",
    "    print('%s：%d' %(name, n_errors))"
   ]
  }
 ],
 "metadata": {
  "kernelspec": {
   "display_name": "Python 3",
   "language": "python",
   "name": "python3"
  },
  "language_info": {
   "codemirror_mode": {
    "name": "ipython",
    "version": 3
   },
   "file_extension": ".py",
   "mimetype": "text/x-python",
   "name": "python",
   "nbconvert_exporter": "python",
   "pygments_lexer": "ipython3",
   "version": "3.6.5"
  }
 },
 "nbformat": 4,
 "nbformat_minor": 4
}
