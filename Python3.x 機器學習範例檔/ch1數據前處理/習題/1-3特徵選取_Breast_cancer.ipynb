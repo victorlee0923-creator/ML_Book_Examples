{
 "cells": [
  {
   "cell_type": "markdown",
   "metadata": {},
   "source": [
    "### 在癌症數據集上應用特徵選取\n",
    "數據集本身有 30 個特徵，額外增加 30 個雜訊特徵，希望藉由特徵選取挑出這些雜訊"
   ]
  },
  {
   "cell_type": "code",
   "execution_count": 2,
   "metadata": {},
   "outputs": [
    {
     "name": "stdout",
     "output_type": "stream",
     "text": [
      "['mean radius' 'mean texture' 'mean perimeter' 'mean area'\n",
      " 'mean smoothness' 'mean compactness' 'mean concavity'\n",
      " 'mean concave points' 'mean symmetry' 'mean fractal dimension'\n",
      " 'radius error' 'texture error' 'perimeter error' 'area error'\n",
      " 'smoothness error' 'compactness error' 'concavity error'\n",
      " 'concave points error' 'symmetry error' 'fractal dimension error'\n",
      " 'worst radius' 'worst texture' 'worst perimeter' 'worst area'\n",
      " 'worst smoothness' 'worst compactness' 'worst concavity'\n",
      " 'worst concave points' 'worst symmetry' 'worst fractal dimension']\n",
      "['malignant' 'benign']\n"
     ]
    }
   ],
   "source": [
    "from sklearn.datasets import load_breast_cancer\n",
    "from sklearn.feature_selection import SelectPercentile\n",
    "from sklearn.model_selection import train_test_split\n",
    "\n",
    "cancer = load_breast_cancer()\n",
    "print(cancer.feature_names)\n",
    "print(cancer.target_names)"
   ]
  },
  {
   "cell_type": "code",
   "execution_count": 3,
   "metadata": {},
   "outputs": [
    {
     "data": {
      "text/plain": [
       "array([[ 1.00500000e+01,  1.75300000e+01,  6.44100000e+01,\n",
       "         3.10800000e+02,  1.00700000e-01,  7.32600000e-02,\n",
       "         2.51100000e-02,  1.77500000e-02,  1.89000000e-01,\n",
       "         6.33100000e-02,  2.61900000e-01,  2.01500000e+00,\n",
       "         1.77800000e+00,  1.68500000e+01,  7.80300000e-03,\n",
       "         1.44900000e-02,  1.69000000e-02,  8.04300000e-03,\n",
       "         2.10000000e-02,  2.77800000e-03,  1.11600000e+01,\n",
       "         2.68400000e+01,  7.19800000e+01,  3.84000000e+02,\n",
       "         1.40200000e-01,  1.40200000e-01,  1.05500000e-01,\n",
       "         6.49900000e-02,  2.89400000e-01,  7.66400000e-02,\n",
       "         2.67146361e+00, -1.26158317e+00,  6.33755232e-02,\n",
       "        -6.12250888e-01,  7.06435599e-01, -1.49067507e-01,\n",
       "         3.21450907e-01, -3.42670374e-01,  3.45725855e-01,\n",
       "        -4.68280277e-01,  2.91891616e-01,  4.65050770e-01,\n",
       "         1.24974945e-01,  5.59933547e-01,  6.78623614e-01,\n",
       "        -4.04554626e-01,  6.69244255e-01,  4.93822497e-01,\n",
       "         1.22093965e+00,  1.03687938e-01,  6.97564650e-01,\n",
       "        -6.69591147e-01, -1.29091089e+00,  1.94861295e-01,\n",
       "         1.94225206e-01, -6.74826910e-01, -1.99703344e+00,\n",
       "         2.40577061e+00,  6.20078463e-01,  3.77298163e-01]])"
      ]
     },
     "execution_count": 3,
     "metadata": {},
     "output_type": "execute_result"
    }
   ],
   "source": [
    "import numpy as np\n",
    "# 設定亂數種子數，並產生雜訊特徵\n",
    "rng = np.random.RandomState(0)\n",
    "noise = rng.normal(size=(len(cancer.data), 30))\n",
    "\n",
    "# 增加雜訊特徵到原始數據集內\n",
    "X_noise = np.hstack([cancer.data, noise])\n",
    "\n",
    "# 切割數據集(測試集佔 20%)\n",
    "X_train, X_test, y_train, y_test = train_test_split(X_noise, \n",
    "                                                    cancer.target, \n",
    "                                                    random_state=0, \n",
    "                                                    test_size=.2)\n",
    "X_train[:1]"
   ]
  },
  {
   "cell_type": "code",
   "execution_count": 4,
   "metadata": {},
   "outputs": [
    {
     "name": "stdout",
     "output_type": "stream",
     "text": [
      "X_train.shape: (455, 60)\n",
      "X_train_sel.shape: (455, 30)\n"
     ]
    }
   ],
   "source": [
    "from sklearn.feature_selection import f_classif, SelectPercentile\n",
    "\n",
    "# 選取 50% 的特徵\n",
    "selector = SelectPercentile(f_classif, percentile=50)\n",
    "selector.fit(X_train, y_train)\n",
    "X_train_sel = selector.transform(X_train)\n",
    "\n",
    "print(\"X_train.shape: {}\".format(X_train.shape))\n",
    "print(\"X_train_sel.shape: {}\".format(X_train_sel.shape))"
   ]
  },
  {
   "cell_type": "code",
   "execution_count": 5,
   "metadata": {},
   "outputs": [
    {
     "name": "stdout",
     "output_type": "stream",
     "text": [
      "[ True  True  True  True  True  True  True  True  True False  True False\n",
      "  True  True  True  True  True  True False False  True  True  True  True\n",
      "  True  True  True  True  True  True False False False False False False\n",
      " False False  True False False False False False False False  True  True\n",
      " False False False False False False False False False  True False False]\n"
     ]
    },
    {
     "name": "stderr",
     "output_type": "stream",
     "text": [
      "\n",
      "Bad key \"text.kerning_factor\" on line 4 in\n",
      "C:\\Anaconda3\\lib\\site-packages\\matplotlib\\mpl-data\\stylelib\\_classic_test_patch.mplstyle.\n",
      "You probably need to get an updated matplotlibrc file from\n",
      "http://github.com/matplotlib/matplotlib/blob/master/matplotlibrc.template\n",
      "or from the matplotlib source distribution\n"
     ]
    },
    {
     "data": {
      "text/plain": [
       "([], <a list of 0 Text yticklabel objects>)"
      ]
     },
     "execution_count": 5,
     "metadata": {},
     "output_type": "execute_result"
    },
    {
     "data": {
      "image/png": "[encoded data removed]",
      "text/plain": [
       "<Figure size 1152x144 with 1 Axes>"
      ]
     },
     "metadata": {
      "needs_background": "light"
     },
     "output_type": "display_data"
    }
   ],
   "source": [
    "import matplotlib.pyplot as plt\n",
    "# 找出那些特徵被挑選出來\n",
    "mask = selector.get_support()\n",
    "print(mask)\n",
    "plt.matshow(mask.reshape(1, -1), cmap='gray_r')\n",
    "plt.xlabel('Index of Features')\n",
    "plt.yticks(())"
   ]
  },
  {
   "cell_type": "code",
   "execution_count": 6,
   "metadata": {},
   "outputs": [
    {
     "name": "stdout",
     "output_type": "stream",
     "text": [
      "套用在所有特徵(60個)上的分數：0.956\n",
      "套用在選取特徵(30個)上的分數：0.965\n"
     ]
    }
   ],
   "source": [
    "# 比較邏輯斯迴歸在所有特徵、選取特徵的效能\n",
    "from sklearn.linear_model import LogisticRegression\n",
    "from sklearn.preprocessing import StandardScaler\n",
    "\n",
    "# 對特徵進行標準化\n",
    "scaler = StandardScaler()\n",
    "scaler.fit(X_train)\n",
    "X_train_std = scaler.transform(X_train)\n",
    "X_test_std = scaler.transform(X_test)\n",
    "\n",
    "# 邏輯斯迴歸\n",
    "lr = LogisticRegression()\n",
    "# 所有特徵(60個)\n",
    "lr.fit(X_train_std, y_train)\n",
    "print(\"套用在所有特徵(60個)上的分數：%.3f\" % lr.score(X_test_std, y_test))\n",
    "\n",
    "# 對特徵進行標準化\n",
    "X_test_sel = selector.transform(X_test)\n",
    "scaler = StandardScaler()\n",
    "scaler.fit(X_train_sel)\n",
    "X_train_sel_std = scaler.transform(X_train_sel)\n",
    "X_test_sel_std = scaler.transform(X_test_sel)\n",
    "\n",
    "# 選取的特徵(30個)\n",
    "\n",
    "lr.fit(X_train_sel_std, y_train)\n",
    "print(\"套用在選取特徵(30個)上的分數：%.3f\" % lr.score(X_test_sel_std, y_test))"
   ]
  }
 ],
 "metadata": {
  "kernelspec": {
   "display_name": "Python 3",
   "language": "python",
   "name": "python3"
  },
  "language_info": {
   "codemirror_mode": {
    "name": "ipython",
    "version": 3
   },
   "file_extension": ".py",
   "mimetype": "text/x-python",
   "name": "python",
   "nbconvert_exporter": "python",
   "pygments_lexer": "ipython3",
   "version": "3.6.5"
  }
 },
 "nbformat": 4,
 "nbformat_minor": 4
}
