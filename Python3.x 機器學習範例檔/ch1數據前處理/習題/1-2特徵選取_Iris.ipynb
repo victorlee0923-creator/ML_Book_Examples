{
 "cells": [
  {
   "cell_type": "code",
   "execution_count": 1,
   "metadata": {},
   "outputs": [
    {
     "name": "stdout",
     "output_type": "stream",
     "text": [
      "['sepal length (cm)', 'sepal width (cm)', 'petal length (cm)', 'petal width (cm)']\n",
      "[[5.1 3.5 1.4 0.2]\n",
      " [4.9 3.  1.4 0.2]\n",
      " [4.7 3.2 1.3 0.2]]\n",
      "['setosa' 'versicolor' 'virginica']\n"
     ]
    }
   ],
   "source": [
    "from sklearn import datasets\n",
    "\n",
    "# 讀取鳶尾花(iris)數據\n",
    "iris = datasets.load_iris()\n",
    "\n",
    "X = iris.data    # 四個數值特徵\n",
    "y = iris.target  # 目標是三個分類\n",
    "print(iris.feature_names)\n",
    "print(X[:3])\n",
    "print(iris.target_names)"
   ]
  },
  {
   "cell_type": "markdown",
   "metadata": {},
   "source": [
    "### 移除變異度過低的特徵"
   ]
  },
  {
   "cell_type": "code",
   "execution_count": 2,
   "metadata": {},
   "outputs": [
    {
     "data": {
      "text/plain": [
       "array([[5.1, 1.4, 0.2],\n",
       "       [4.9, 1.4, 0.2],\n",
       "       [4.7, 1.3, 0.2]])"
      ]
     },
     "execution_count": 2,
     "metadata": {},
     "output_type": "execute_result"
    }
   ],
   "source": [
    "from sklearn.feature_selection import VarianceThreshold\n",
    "\n",
    "# 產生選擇器，挑選變異度大於門檻值（0.5）的特徵\n",
    "selector = VarianceThreshold(threshold=.5)\n",
    "selector.fit(X)\n",
    "X_sel = selector.transform(X)\n",
    "X_sel[:3]"
   ]
  },
  {
   "cell_type": "code",
   "execution_count": 3,
   "metadata": {},
   "outputs": [
    {
     "name": "stdout",
     "output_type": "stream",
     "text": [
      "sepal length (cm):0.6811222222222222\n",
      "sepal width (cm):0.1887128888888887\n",
      "petal length (cm):3.0955026666666674\n",
      "petal width (cm):0.5771328888888888\n"
     ]
    }
   ],
   "source": [
    "# 檢視特徵變異度\n",
    "for i, name in enumerate(iris.feature_names):\n",
    "    print('{}:{}'.format(name, selector.variances_[i]))"
   ]
  },
  {
   "cell_type": "code",
   "execution_count": 4,
   "metadata": {},
   "outputs": [
    {
     "data": {
      "text/plain": [
       "array([[5.1, 1.4, 0.2],\n",
       "       [4.9, 1.4, 0.2],\n",
       "       [4.7, 1.3, 0.2]])"
      ]
     },
     "execution_count": 4,
     "metadata": {},
     "output_type": "execute_result"
    }
   ],
   "source": [
    "from sklearn.feature_selection import f_classif, SelectPercentile\n",
    "\n",
    "# 若特徵為數值型，則利用 ANOVA F-value 選取給定比例(75%)的特徵\n",
    "selector = SelectPercentile(f_classif, percentile=75)\n",
    "X_pbest = selector.fit_transform(X, y)\n",
    "X_pbest[:3]"
   ]
  },
  {
   "cell_type": "markdown",
   "metadata": {},
   "source": [
    "### 移除不相關特徵"
   ]
  },
  {
   "cell_type": "code",
   "execution_count": 5,
   "metadata": {},
   "outputs": [
    {
     "name": "stdout",
     "output_type": "stream",
     "text": [
      "[[5 3 1 0]\n",
      " [4 3 1 0]\n",
      " [4 3 1 0]\n",
      " [4 3 1 0]\n",
      " [5 3 1 0]\n",
      " [5 3 1 0]\n",
      " [4 3 1 0]\n",
      " [5 3 1 0]\n",
      " [4 2 1 0]\n",
      " [4 3 1 0]]\n"
     ]
    }
   ],
   "source": [
    "# 將數值特徵轉為類別數據(整數)\n",
    "X_cat = X.astype(int)\n",
    "print(X_cat[:10])"
   ]
  },
  {
   "cell_type": "code",
   "execution_count": 6,
   "metadata": {},
   "outputs": [
    {
     "name": "stdout",
     "output_type": "stream",
     "text": [
      "卡方統計量(p-value)： [ 10.28712871   5.02267003 133.06854839  74.27906977]\n",
      "p值： [5.83684799e-03 8.11598175e-02 1.27213107e-29 7.42172639e-17]\n"
     ]
    },
    {
     "data": {
      "text/plain": [
       "array([False, False,  True,  True])"
      ]
     },
     "execution_count": 6,
     "metadata": {},
     "output_type": "execute_result"
    }
   ],
   "source": [
    "from sklearn.feature_selection import SelectKBest, chi2\n",
    "\n",
    "# 選取卡方統計量最高的二個特徵\n",
    "kbest = SelectKBest(chi2, k=2)\n",
    "kbest.fit(X_cat, y)\n",
    "print('卡方統計量(p-value)：', kbest.scores_)\n",
    "print('p值：', kbest.pvalues_)\n",
    "kbest.get_support()"
   ]
  },
  {
   "cell_type": "code",
   "execution_count": 7,
   "metadata": {},
   "outputs": [
    {
     "data": {
      "text/plain": [
       "array([[1, 0],\n",
       "       [1, 0],\n",
       "       [1, 0],\n",
       "       [1, 0],\n",
       "       [1, 0]])"
      ]
     },
     "execution_count": 7,
     "metadata": {},
     "output_type": "execute_result"
    }
   ],
   "source": [
    "X_kbest = kbest.transform(X_cat)\n",
    "X_kbest[:5]"
   ]
  }
 ],
 "metadata": {
  "kernelspec": {
   "display_name": "Python 3",
   "language": "python",
   "name": "python3"
  },
  "language_info": {
   "codemirror_mode": {
    "name": "ipython",
    "version": 3
   },
   "file_extension": ".py",
   "mimetype": "text/x-python",
   "name": "python",
   "nbconvert_exporter": "python",
   "pygments_lexer": "ipython3",
   "version": "3.7.6"
  }
 },
 "nbformat": 4,
 "nbformat_minor": 4
}
