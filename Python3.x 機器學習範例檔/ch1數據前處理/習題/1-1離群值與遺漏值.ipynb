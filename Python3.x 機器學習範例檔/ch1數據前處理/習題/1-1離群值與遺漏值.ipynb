{
 "cells": [
  {
   "cell_type": "code",
   "execution_count": 1,
   "metadata": {},
   "outputs": [
    {
     "data": {
      "text/plain": [
       "array([[ 0.87301861,  1.31426523],\n",
       "       [-0.67073178, -0.22369263],\n",
       "       [ 2.1048424 ,  1.45332359],\n",
       "       ...,\n",
       "       [ 1.18998798,  1.33439442],\n",
       "       [ 1.22406396,  1.27667052],\n",
       "       [-0.21664919, -1.19113343]])"
      ]
     },
     "execution_count": 1,
     "metadata": {},
     "output_type": "execute_result"
    }
   ],
   "source": [
    "from sklearn.datasets import make_blobs\n",
    "from sklearn.preprocessing import StandardScaler\n",
    "\n",
    "# 產生假數據\n",
    "feature, _ = make_blobs(n_samples=1000,  # 1,000 個樣本\n",
    "                         n_features=2,    # 2 個特徵\n",
    "                         random_state=1)  # 亂數種子數\n",
    "\n",
    "# 特徵標準化\n",
    "scaler = StandardScaler()\n",
    "X_std = scaler.fit_transform(feature)\n",
    "X_std"
   ]
  },
  {
   "cell_type": "code",
   "execution_count": 2,
   "metadata": {},
   "outputs": [
    {
     "data": {
      "text/plain": [
       "array([[         nan,   1.31426523],\n",
       "       [ 50.        ,          nan],\n",
       "       [  2.1048424 , -30.        ],\n",
       "       ...,\n",
       "       [  1.18998798,   1.33439442],\n",
       "       [  1.22406396,   1.27667052],\n",
       "       [ -0.21664919,  30.        ]])"
      ]
     },
     "execution_count": 2,
     "metadata": {},
     "output_type": "execute_result"
    }
   ],
   "source": [
    "import numpy as np\n",
    "from sklearn.covariance import EllipticEnvelope\n",
    "from sklearn.impute import SimpleImputer\n",
    "\n",
    "# 製造遺漏值\n",
    "X_std[0, 0] = np.nan\n",
    "X_std[1, 1] = np.nan\n",
    "\n",
    "# 製造離群值\n",
    "X_std[1, 0] = 50\n",
    "X_std[2, 1] = -30\n",
    "X_std[-1, 1] = 30\n",
    "X_std"
   ]
  },
  {
   "cell_type": "code",
   "execution_count": 3,
   "metadata": {},
   "outputs": [
    {
     "name": "stdout",
     "output_type": "stream",
     "text": [
      "遺漏值填補：[[ 4.98475607e-02  1.31426523e+00]\n",
      " [ 5.00000000e+01 -3.85360658e-05]]\n"
     ]
    }
   ],
   "source": [
    "# 產生遺漏值填補器，利用平均值填補\n",
    "imputer = SimpleImputer(strategy=\"mean\")\n",
    "X_imp = imputer.fit_transform(X_std)\n",
    "\n",
    "# 真實值 vs 遺漏值填補後的結果\n",
    "print(\"遺漏值填補：{}\".format(X_imp[:2, :]))"
   ]
  },
  {
   "cell_type": "code",
   "execution_count": 4,
   "metadata": {},
   "outputs": [
    {
     "data": {
      "text/plain": [
       "array([ 1, -1, -1,  1,  1])"
      ]
     },
     "execution_count": 4,
     "metadata": {},
     "output_type": "execute_result"
    }
   ],
   "source": [
    "# 產生以橢圓法為基礎的離群值偵測器\n",
    "outlier = EllipticEnvelope(contamination=.01) # 設定離群值比例為 0.01\n",
    "outlier.fit(X_imp)\n",
    "outlier.predict(X_imp)[:5]"
   ]
  },
  {
   "cell_type": "code",
   "execution_count": 5,
   "metadata": {},
   "outputs": [
    {
     "name": "stdout",
     "output_type": "stream",
     "text": [
      "特徵0 -> 離群值的索引值：(array([1], dtype=int64),)\n",
      "特徵1 -> 離群值的索引值：(array([  2, 999], dtype=int64),)\n"
     ]
    }
   ],
   "source": [
    "# 利用 IQR 在個別特徵上偵測離群值\n",
    "\n",
    "# 回傳離群值的索引值\n",
    "def outlier_idx(x):\n",
    "    q1, q3 = np.percentile(x, [25, 75])\n",
    "    IQR = q3 - q1\n",
    "    lower_bound = q1 - 1.5*IQR\n",
    "    upper_bound = q3 + 1.5*IQR\n",
    "    \n",
    "    return np.where((x < lower_bound) | (x > upper_bound))\n",
    "\n",
    "for i in range(X_imp.shape[1]):\n",
    "    idx = outlier_idx(X_imp[:, i])\n",
    "    print(\"特徵{} -> 離群值的索引值：{}\".format(i, idx))"
   ]
  },
  {
   "cell_type": "code",
   "execution_count": null,
   "metadata": {},
   "outputs": [],
   "source": []
  }
 ],
 "metadata": {
  "kernelspec": {
   "display_name": "Python 3",
   "language": "python",
   "name": "python3"
  },
  "language_info": {
   "codemirror_mode": {
    "name": "ipython",
    "version": 3
   },
   "file_extension": ".py",
   "mimetype": "text/x-python",
   "name": "python",
   "nbconvert_exporter": "python",
   "pygments_lexer": "ipython3",
   "version": "3.6.5"
  }
 },
 "nbformat": 4,
 "nbformat_minor": 4
}
