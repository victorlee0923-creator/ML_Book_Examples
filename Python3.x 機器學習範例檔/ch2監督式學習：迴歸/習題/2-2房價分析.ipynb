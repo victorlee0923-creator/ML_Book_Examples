{
 "cells": [
  {
   "cell_type": "code",
   "execution_count": 1,
   "metadata": {},
   "outputs": [],
   "source": [
    "import warnings\n",
    "warnings.filterwarnings(\"ignore\")\n",
    "\n",
    "import numpy as np\n",
    "import pandas as pd\n",
    "from sklearn.datasets import load_boston\n",
    "\n",
    "house = load_boston()\n",
    "df = pd.DataFrame(data=house.data, \n",
    "                  columns=house.feature_names)\n",
    "df['MEDV'] = house.target\n",
    "\n",
    "X = df.iloc[:, :-1].values\n",
    "y = df['MEDV'].values"
   ]
  },
  {
   "cell_type": "code",
   "execution_count": 2,
   "metadata": {},
   "outputs": [
    {
     "data": {
      "text/plain": [
       "array([-0.41978194, -0.41733926, -0.41734159, -0.41675042, -0.41248185,\n",
       "       -0.41704368, -0.41024282, -0.40369567, -0.39593474, -0.40072931])"
      ]
     },
     "execution_count": 2,
     "metadata": {},
     "output_type": "execute_result"
    }
   ],
   "source": [
    "# 加入二次與三次的多項式特徵\n",
    "X_poly = np.hstack((X**(i+1) for i in range(0, 3)))\n",
    "\n",
    "# 特徵標準化\n",
    "from sklearn.preprocessing import StandardScaler\n",
    "\n",
    "scalar = StandardScaler()\n",
    "X_std = scalar.fit_transform(X_poly)\n",
    "X_std[:10, 0]"
   ]
  },
  {
   "cell_type": "code",
   "execution_count": 3,
   "metadata": {},
   "outputs": [
    {
     "name": "stdout",
     "output_type": "stream",
     "text": [
      "(404, 39)\n",
      "(102, 39)\n"
     ]
    }
   ],
   "source": [
    "from sklearn.model_selection import train_test_split\n",
    "X_train, X_test, y_train, y_test = train_test_split(X_std, y,\n",
    "                                                    test_size=0.2, \n",
    "                                                    random_state=0)\n",
    "print(X_train.shape)\n",
    "print(X_test.shape)"
   ]
  },
  {
   "cell_type": "code",
   "execution_count": 4,
   "metadata": {},
   "outputs": [],
   "source": [
    "from sklearn.linear_model import LinearRegression\n",
    "from sklearn.linear_model import RidgeCV, LassoCV\n",
    "\n",
    "lst_model = [LinearRegression().fit(X_train, y_train), \n",
    "             LassoCV().fit(X_train, y_train), \n",
    "             RidgeCV().fit(X_train, y_train)]"
   ]
  },
  {
   "cell_type": "code",
   "execution_count": 5,
   "metadata": {},
   "outputs": [
    {
     "name": "stdout",
     "output_type": "stream",
     "text": [
      "多項式迴歸：Adj. R^2 = 0.25573394671443955\n",
      "多項式迴歸+L1正規化：Adj. R^2 = 0.32820715948665974\n",
      "多項式迴歸+L2正規化：Adj. R^2 = 0.33069213668499164\n"
     ]
    }
   ],
   "source": [
    "from sklearn.metrics import r2_score\n",
    "# 計算 Adjusted R-squared\n",
    "def adj_R2(r2, n, k):\n",
    "    return r2-(k-1)/(n-k)*(1-r2)\n",
    "\n",
    "lst_r2 = []\n",
    "for reg in lst_model:\n",
    "    y_pred = reg.predict(X_test)\n",
    "    r2 = r2_score(y_pred, y_test)\n",
    "    lst_r2.append(adj_R2(r2, X_test.shape[0], X_test.shape[1]))\n",
    "    \n",
    "print('多項式迴歸：Adj. R^2 =', lst_r2[0])\n",
    "print('多項式迴歸+L1正規化：Adj. R^2 =', lst_r2[1])\n",
    "print('多項式迴歸+L2正規化：Adj. R^2 =', lst_r2[2])"
   ]
  },
  {
   "cell_type": "code",
   "execution_count": null,
   "metadata": {},
   "outputs": [],
   "source": []
  }
 ],
 "metadata": {
  "kernelspec": {
   "display_name": "Python 3",
   "language": "python",
   "name": "python3"
  },
  "language_info": {
   "codemirror_mode": {
    "name": "ipython",
    "version": 3
   },
   "file_extension": ".py",
   "mimetype": "text/x-python",
   "name": "python",
   "nbconvert_exporter": "python",
   "pygments_lexer": "ipython3",
   "version": "3.6.5"
  }
 },
 "nbformat": 4,
 "nbformat_minor": 4
}
