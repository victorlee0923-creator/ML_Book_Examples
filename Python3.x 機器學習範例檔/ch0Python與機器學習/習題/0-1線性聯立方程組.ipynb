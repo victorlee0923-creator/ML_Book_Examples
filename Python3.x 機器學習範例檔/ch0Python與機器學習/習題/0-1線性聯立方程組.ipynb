{
 "cells": [
  {
   "cell_type": "code",
   "execution_count": 1,
   "metadata": {},
   "outputs": [
    {
     "data": {
      "text/plain": [
       "array([ 1.,  3., -2., -4.])"
      ]
     },
     "execution_count": 1,
     "metadata": {},
     "output_type": "execute_result"
    }
   ],
   "source": [
    "import numpy as np\n",
    "\n",
    "A = [[2, 3, -4, 1], \n",
    "     [1, -2, 3, -2], \n",
    "     [3, 5, 1, -1], \n",
    "     [4, 1, -1, 1]]\n",
    "\n",
    "B = [15, -3, 20, 5]\n",
    "\n",
    "A_inv = np.linalg.inv(A)\n",
    "x = np.dot(A_inv, B)\n",
    "x"
   ]
  }
 ],
 "metadata": {
  "kernelspec": {
   "display_name": "Python 3",
   "language": "python",
   "name": "python3"
  },
  "language_info": {
   "codemirror_mode": {
    "name": "ipython",
    "version": 3
   },
   "file_extension": ".py",
   "mimetype": "text/x-python",
   "name": "python",
   "nbconvert_exporter": "python",
   "pygments_lexer": "ipython3",
   "version": "3.7.6"
  }
 },
 "nbformat": 4,
 "nbformat_minor": 4
}
