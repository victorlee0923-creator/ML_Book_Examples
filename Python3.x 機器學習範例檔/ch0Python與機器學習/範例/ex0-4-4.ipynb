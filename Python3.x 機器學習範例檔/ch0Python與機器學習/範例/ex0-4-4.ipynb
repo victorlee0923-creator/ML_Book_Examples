{
 "cells": [
  {
   "cell_type": "markdown",
   "metadata": {},
   "source": [
    "# Ch 0. Python與機器學習\n",
    "## 0-4. 基礎數學與Python實作\n",
    "[0-4-4. 統計推論](#sec0_4_4)\n",
    "***"
   ]
  },
  {
   "cell_type": "markdown",
   "metadata": {},
   "source": [
    "<a id='sec0_4_4'></a>\n",
    "### 0-4-4. 統計推論"
   ]
  },
  {
   "cell_type": "code",
   "execution_count": 1,
   "metadata": {},
   "outputs": [
    {
     "name": "stdout",
     "output_type": "stream",
     "text": [
      "信賴區間 = (9.877224892797548, 10.222775107202454)\n"
     ]
    }
   ],
   "source": [
    "import numpy as np\n",
    "import pandas as pd\n",
    "from scipy import stats\n",
    "\n",
    "# 對一個物品秤重十次得到的結果\n",
    "物品 = [10.1, 10, 9.8, 10.5, 9.7, 10.1, 9.9, 10.2, 10.3, 9.9]\n",
    "\n",
    "# 進行區間估計\n",
    "# np.mean(物品) -> 樣本均值\n",
    "# stats.sem(物品) -> 樣本均值的標準誤(Standard Error)\n",
    "# 樣本均值服從 t 分佈，用標準誤來表示樣本均值的標準差\n",
    "# 自由度為 len(物品)-1，信心水準為 95%\n",
    "conf_in = stats.t.interval(alpha = 0.95, \n",
    "                           df=len(物品)-1, \n",
    "                           loc=np.mean(物品), \n",
    "                           scale=stats.sem(物品))\n",
    "print('信賴區間 =', conf_in)"
   ]
  },
  {
   "cell_type": "code",
   "execution_count": 2,
   "metadata": {},
   "outputs": [],
   "source": [
    "def normal_cdf(x, mu=0,sigma=1):\n",
    "    return (1 + math.erf((x - mu) / math.sqrt(2) / sigma)) / 2\n",
    "\n",
    "def inverse_normal_cdf(p, mu=0, sigma=1, tolerance=0.00001):\n",
    "    # if not standard, compute standard and rescale\n",
    "    if mu != 0 or sigma != 1:\n",
    "        return mu + sigma * inverse_normal_cdf(p, tolerance=tolerance)\n",
    "\n",
    "    low_z, low_p = -10.0, 0            # normal_cdf(-10) is (very close to) 0\n",
    "    hi_z,  hi_p  =  10.0, 1            # normal_cdf(10)  is (very close to) 1\n",
    "    while hi_z - low_z > tolerance:\n",
    "        mid_z = (low_z + hi_z) / 2     # consider the midpoint\n",
    "        mid_p = normal_cdf(mid_z)      # and the cdf's value there\n",
    "        if mid_p < p:\n",
    "            # midpoint is still too low, search above it\n",
    "            low_z, low_p = mid_z, mid_p\n",
    "        elif mid_p > p:\n",
    "            # midpoint is still too high, search below it\n",
    "            hi_z, hi_p = mid_z, mid_p\n",
    "        else:\n",
    "            break\n",
    "\n",
    "    return mid_z\n",
    "\n",
    "def normal_upper_bound(probability, mu=0, sigma=1):\n",
    "    \"\"\"Returns the z for which P(Z <= z) = probability\"\"\"\n",
    "    return inverse_normal_cdf(probability, mu, sigma)\n",
    "\n",
    "def normal_lower_bound(probability, mu=0, sigma=1):\n",
    "    \"\"\"Returns the z for which P(Z >= z) = probability\"\"\"\n",
    "    return inverse_normal_cdf(1 - probability, mu, sigma)\n",
    "\n",
    "def normal_two_sided_bounds(probability, mu=0, sigma=1):\n",
    "    \"\"\"\n",
    "    Returns the symmetric (about the mean) bounds\n",
    "    that contain the specified probability\n",
    "    \"\"\"\n",
    "    tail_probability = (1 - probability) / 2\n",
    "    # upper bound should have tail_probability above it\n",
    "    upper_bound = normal_lower_bound(tail_probability, mu, sigma)\n",
    "    # lower bound should have tail_probability below it\n",
    "    lower_bound = normal_upper_bound(tail_probability, mu, sigma)\n",
    "\n",
    "    return lower_bound, upper_bound"
   ]
  },
  {
   "cell_type": "code",
   "execution_count": 3,
   "metadata": {},
   "outputs": [
    {
     "name": "stdout",
     "output_type": "stream",
     "text": [
      "拒絕H_0次數 = 6\n"
     ]
    }
   ],
   "source": [
    "# P-hacking\n",
    "# 欲透過投擲結果檢定一個公正的硬幣是否公正\n",
    "import random as rd\n",
    "import math\n",
    "\n",
    "def 進行實驗():\n",
    "    # 擲一個公正硬幣 1,000 次，True->正面，False->反面\n",
    "    return [rd.random() < 0.5 for _ in range(1000)]\n",
    "    \n",
    "# 實驗進行 100 回合\n",
    "實驗 = [進行實驗() for _ in range(100)]\n",
    "\n",
    "p_val = 0.05\n",
    "拒絕H0次數 = 0\n",
    "for trial in 實驗:\n",
    "    num_heads = len([x for x in trial if x])\n",
    "    p_hat = num_heads/1000\n",
    "    \n",
    "    mu = p_hat\n",
    "    sigma = math.sqrt(p_hat*(1-p_hat)/1000)\n",
    "    interval = normal_two_sided_bounds(1-p_val, mu, sigma)\n",
    "    \n",
    "    if not (interval[0] < 0.5 < interval[1]):\n",
    "        拒絕H0次數 += 1\n",
    "\n",
    "print('拒絕H_0次數 =', 拒絕H0次數)"
   ]
  },
  {
   "cell_type": "code",
   "execution_count": 4,
   "metadata": {},
   "outputs": [
    {
     "data": {
      "text/html": [
       "<div>\n",
       "<style scoped>\n",
       "    .dataframe tbody tr th:only-of-type {\n",
       "        vertical-align: middle;\n",
       "    }\n",
       "\n",
       "    .dataframe tbody tr th {\n",
       "        vertical-align: top;\n",
       "    }\n",
       "\n",
       "    .dataframe thead th {\n",
       "        text-align: right;\n",
       "    }\n",
       "</style>\n",
       "<table border=\"1\" class=\"dataframe\">\n",
       "  <thead>\n",
       "    <tr style=\"text-align: right;\">\n",
       "      <th></th>\n",
       "      <th>Water</th>\n",
       "      <th>Normal</th>\n",
       "    </tr>\n",
       "  </thead>\n",
       "  <tbody>\n",
       "    <tr>\n",
       "      <th>單</th>\n",
       "      <td>65</td>\n",
       "      <td>66</td>\n",
       "    </tr>\n",
       "    <tr>\n",
       "      <th>雙</th>\n",
       "      <td>57</td>\n",
       "      <td>44</td>\n",
       "    </tr>\n",
       "  </tbody>\n",
       "</table>\n",
       "</div>"
      ],
      "text/plain": [
       "  Water Normal\n",
       "單    65     66\n",
       "雙    57     44"
      ]
     },
     "execution_count": 4,
     "metadata": {},
     "output_type": "execute_result"
    }
   ],
   "source": [
    "df = pd.read_csv(\"pokemon_894_12.csv\", header=0)\n",
    "\n",
    "# 卡方獨立性檢定\n",
    "# 看水與一般屬性的寶可夢，其單/雙屬性數量是否有差別)\n",
    "# H0:兩者沒差異\n",
    "df_new = pd.DataFrame(columns=['Water', 'Normal'], index=['單', '雙'])\n",
    "df_new.loc['單', :] = [df[(df['Type1']=='Water') & (pd.isnull(df['Type2']))].Number.count(), \n",
    "                       df[(df['Type1']=='Normal') & (pd.isnull(df['Type2']))].Number.count()]\n",
    "df_new.loc['雙', :] = [df[(df['Type1']=='Water') & (pd.notnull(df['Type2']))].Number.count(), \n",
    "                       df[(df['Type1']=='Normal') & (pd.notnull(df['Type2']))].Number.count()]\n",
    "df_new"
   ]
  },
  {
   "cell_type": "code",
   "execution_count": 5,
   "metadata": {},
   "outputs": [
    {
     "name": "stdout",
     "output_type": "stream",
     "text": [
      "12.12280701754386\n",
      "0.0004980887123686391\n"
     ]
    }
   ],
   "source": [
    "chi2, p_val = stats.chisquare(f_obs=[65, 66],\n",
    "                              f_exp=[57, 44])\n",
    "print(chi2)  # 卡方統計量\n",
    "print(p_val) # p值"
   ]
  },
  {
   "cell_type": "markdown",
   "metadata": {},
   "source": [
    "以顯著水準為 0.01 來看，p值遠小於顯著水準，\\\n",
    "因此可以拒絕H0，亦即水與一般屬性寶可夢的單/雙屬性數量有非常顯著的差異。"
   ]
  },
  {
   "cell_type": "code",
   "execution_count": 6,
   "metadata": {},
   "outputs": [
    {
     "data": {
      "text/html": [
       "<div>\n",
       "<style scoped>\n",
       "    .dataframe tbody tr th:only-of-type {\n",
       "        vertical-align: middle;\n",
       "    }\n",
       "\n",
       "    .dataframe tbody tr th {\n",
       "        vertical-align: top;\n",
       "    }\n",
       "\n",
       "    .dataframe thead th {\n",
       "        text-align: right;\n",
       "    }\n",
       "</style>\n",
       "<table border=\"1\" class=\"dataframe\">\n",
       "  <thead>\n",
       "    <tr style=\"text-align: right;\">\n",
       "      <th></th>\n",
       "      <th>1</th>\n",
       "      <th>2</th>\n",
       "      <th>3</th>\n",
       "      <th>4</th>\n",
       "      <th>5</th>\n",
       "      <th>6</th>\n",
       "      <th>7</th>\n",
       "    </tr>\n",
       "  </thead>\n",
       "  <tbody>\n",
       "    <tr>\n",
       "      <th>單</th>\n",
       "      <td>88</td>\n",
       "      <td>51</td>\n",
       "      <td>78</td>\n",
       "      <td>54</td>\n",
       "      <td>83</td>\n",
       "      <td>32</td>\n",
       "      <td>35</td>\n",
       "    </tr>\n",
       "    <tr>\n",
       "      <th>雙</th>\n",
       "      <td>78</td>\n",
       "      <td>55</td>\n",
       "      <td>82</td>\n",
       "      <td>67</td>\n",
       "      <td>82</td>\n",
       "      <td>50</td>\n",
       "      <td>59</td>\n",
       "    </tr>\n",
       "  </tbody>\n",
       "</table>\n",
       "</div>"
      ],
      "text/plain": [
       "    1   2   3   4   5   6   7\n",
       "單  88  51  78  54  83  32  35\n",
       "雙  78  55  82  67  82  50  59"
      ]
     },
     "execution_count": 6,
     "metadata": {},
     "output_type": "execute_result"
    }
   ],
   "source": [
    "# 看世代與單/雙屬性是否有差別\n",
    "# H0:兩者沒差異\n",
    "gens = df['Generation'].unique()\n",
    "df_new = pd.DataFrame(columns=gens, index=['單', '雙'])\n",
    "\n",
    "for i in ['單', '雙']:\n",
    "    lst = []\n",
    "    for x in gens:\n",
    "        if i == '單':\n",
    "            lst.append(df[(df['Generation']==x) & (pd.isnull(df['Type2']))].Number.count())\n",
    "        else:\n",
    "            lst.append(df[(df['Generation']==x) & (pd.notnull(df['Type2']))].Number.count())\n",
    "                    \n",
    "    df_new.loc[i, :] = lst\n",
    "                        \n",
    "df_new"
   ]
  },
  {
   "cell_type": "code",
   "execution_count": 7,
   "metadata": {},
   "outputs": [
    {
     "name": "stdout",
     "output_type": "stream",
     "text": [
      "9.341984532800193\n",
      "6\n",
      "0.1552388323484806\n"
     ]
    }
   ],
   "source": [
    "T = np.array(df_new)\n",
    "chi2, p, dof, ex = stats.chi2_contingency(T, correction=False)\n",
    "print(chi2) # 卡方統計量\n",
    "print(dof)  # 自由度\n",
    "print(p)    # p值"
   ]
  },
  {
   "cell_type": "markdown",
   "metadata": {},
   "source": [
    "p值>顯著水準(0.01)，因此不能拒絕H0，亦即寶可夢世代與單/雙屬性無顯著差異。"
   ]
  },
  {
   "cell_type": "code",
   "execution_count": 8,
   "metadata": {},
   "outputs": [
    {
     "data": {
      "image/png": "[encoded data removed]",
      "text/plain": [
       "<Figure size 432x288 with 1 Axes>"
      ]
     },
     "metadata": {
      "needs_background": "light"
     },
     "output_type": "display_data"
    }
   ],
   "source": [
    "# 想了解 Poison 與 Ground 屬性寶可夢的平均 Speed 是否不同？\n",
    "# 獨立 t-test 的前提假設: 資料為常態分佈或接近常態分佈，且變異數相同\n",
    "import seaborn as sns\n",
    "\n",
    "fea = 'Speed'\n",
    "one = np.array(df[df['Type1'] == 'Poison'][fea])\n",
    "two = np.array(df[df['Type1'] == 'Ground'][fea])\n",
    "\n",
    "data = {'class':['one']*len(one)+['two']*len(two), 'type':np.append(one, two)}\n",
    "df_new = pd.DataFrame(data)\n",
    "sns.boxplot(x='class', y='type', data=df_new);"
   ]
  },
  {
   "cell_type": "code",
   "execution_count": 9,
   "metadata": {},
   "outputs": [
    {
     "name": "stdout",
     "output_type": "stream",
     "text": [
      "p_value: 0.15207724273204803\n",
      "不拒絕H0，Ground 屬性寶可夢為常態分佈\n",
      "p_value: 0.14700447022914886\n",
      "不拒絕H0，Ground 屬性寶可夢為常態分佈\n"
     ]
    }
   ],
   "source": [
    "# 檢查資料是否為常態分布 (H0:資料為常態分佈)\n",
    "# 由於樣本數小於 50，故採用 Shapiro-Wilk test\n",
    "p_val = stats.shapiro(one)[1]\n",
    "print('p_value:', p_val)\n",
    "if p_val < .05:\n",
    "    print('拒絕H0，Poison 屬性寶可夢非常態分佈')\n",
    "else:\n",
    "    print('不拒絕H0，Ground 屬性寶可夢為常態分佈')\n",
    "\n",
    "p_val = stats.shapiro(two)[1]\n",
    "print('p_value:', p_val)\n",
    "if p_val < .05:\n",
    "    print('拒絕H0，Poison 屬性寶可夢非常態分佈')\n",
    "else:\n",
    "    print('不拒絕H0，Ground 屬性寶可夢為常態分佈')"
   ]
  },
  {
   "cell_type": "code",
   "execution_count": 10,
   "metadata": {},
   "outputs": [
    {
     "name": "stdout",
     "output_type": "stream",
     "text": [
      "p_value: 0.2715227383615329\n",
      "不拒絕H0，相同變異數\n"
     ]
    }
   ],
   "source": [
    "# 檢查資料是否為相同變異數 (H0:相同變異數)\n",
    "# 採用 Levene's test\n",
    "p_val = stats.levene(one, two, center='mean')[1]\n",
    "print('p_value:', p_val)\n",
    "if p_val < .05:\n",
    "    print('拒絕H0，不同變異數')\n",
    "else:\n",
    "    print('不拒絕H0，相同變異數')"
   ]
  },
  {
   "cell_type": "code",
   "execution_count": 11,
   "metadata": {},
   "outputs": [
    {
     "name": "stdout",
     "output_type": "stream",
     "text": [
      "p_value: 0.5726416638984138\n",
      "不拒絕H0，相同平均值\n"
     ]
    }
   ],
   "source": [
    "# 計算兩組獨立樣本變異數相同 t-test\n",
    "p_val = stats.ttest_ind(one, two, equal_var=True)[1]\n",
    "print('p_value:', p_val)\n",
    "if p_val < .05:\n",
    "    print('拒絕H0，不同平均值')\n",
    "else:\n",
    "    print('不拒絕H0，相同平均值')"
   ]
  },
  {
   "cell_type": "code",
   "execution_count": null,
   "metadata": {},
   "outputs": [],
   "source": []
  }
 ],
 "metadata": {
  "kernelspec": {
   "display_name": "Python 3",
   "language": "python",
   "name": "python3"
  },
  "language_info": {
   "codemirror_mode": {
    "name": "ipython",
    "version": 3
   },
   "file_extension": ".py",
   "mimetype": "text/x-python",
   "name": "python",
   "nbconvert_exporter": "python",
   "pygments_lexer": "ipython3",
   "version": "3.7.6"
  }
 },
 "nbformat": 4,
 "nbformat_minor": 4
}
