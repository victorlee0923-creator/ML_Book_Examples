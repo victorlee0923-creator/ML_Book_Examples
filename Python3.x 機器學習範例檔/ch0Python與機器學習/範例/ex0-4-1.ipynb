{
 "cells": [
  {
   "cell_type": "markdown",
   "metadata": {},
   "source": [
    "# Ch 0. Python與機器學習\n",
    "## 0-4. 基礎數學與Python實作\n",
    "[0-4-1. 基本操作](#sec1)  \n",
    "***"
   ]
  },
  {
   "cell_type": "markdown",
   "metadata": {},
   "source": [
    "<a id='sec1'></a>\n",
    "## 0-4-1. 基本操作"
   ]
  },
  {
   "cell_type": "code",
   "execution_count": 1,
   "metadata": {},
   "outputs": [
    {
     "name": "stdout",
     "output_type": "stream",
     "text": [
      "[5, 7, 9]\n",
      "32\n"
     ]
    }
   ],
   "source": [
    "# 向量也可以用串列來實作\n",
    "A = [1, 2, 3]\n",
    "B = [4, 5, 6]\n",
    "\n",
    "def 向量相加(a, b):\n",
    "    return [a_i+b_i for a_i, b_i in zip(a, b)]\n",
    "\n",
    "def 向量內積(a, b):\n",
    "    return sum(a_i*b_i for a_i, b_i in zip(a, b))\n",
    "\n",
    "print(向量相加(A, B))\n",
    "print(向量內積(A, B))"
   ]
  },
  {
   "cell_type": "code",
   "execution_count": 2,
   "metadata": {},
   "outputs": [
    {
     "name": "stdout",
     "output_type": "stream",
     "text": [
      "向量相加： [5 7 9]\n",
      "純量、向量相乘： [3 6 9]\n",
      "向量相乘： [ 4 10 18]\n",
      "向量內積： 32\n",
      "向量長度： 3.7416573867739413\n"
     ]
    }
   ],
   "source": [
    "# 向量建議用 numpy 的陣列來實作\n",
    "import numpy as np\n",
    "\n",
    "A = np.array([1, 2, 3])\n",
    "B = np.array([4, 5, 6])\n",
    "print('向量相加：', A+B)\n",
    "print('純量、向量相乘：', 3*A)\n",
    "print('向量相乘：', A*B)\n",
    "print('向量內積：', np.dot(A, B))\n",
    "print('向量長度：', np.linalg.norm(A))"
   ]
  },
  {
   "cell_type": "markdown",
   "metadata": {},
   "source": [
    "Numpy 提供的多維度陣列 ndarray，有三個主要屬性：\n",
    "- 維度(ndim)\n",
    "- 形狀(shape)\n",
    "- 數值型態(dtype)：預設的整數型態是 int32，浮點數為 float64"
   ]
  },
  {
   "cell_type": "code",
   "execution_count": 3,
   "metadata": {},
   "outputs": [
    {
     "name": "stdout",
     "output_type": "stream",
     "text": [
      "1\n",
      "(6,)\n",
      "int32\n"
     ]
    }
   ],
   "source": [
    "arr = np.array([1, 2, 3, 4, 5, 6])\n",
    "print(arr.ndim)\n",
    "print(arr.shape) # 常用\n",
    "print(arr.dtype)"
   ]
  },
  {
   "cell_type": "code",
   "execution_count": 4,
   "metadata": {},
   "outputs": [
    {
     "name": "stdout",
     "output_type": "stream",
     "text": [
      "[[1 2 3]\n",
      " [4 5 6]]\n",
      "[[1 2]\n",
      " [3 4]\n",
      " [5 6]]\n"
     ]
    }
   ],
   "source": [
    "# 兩種改變陣列的形狀與維度的方法\n",
    "arr.shape = 2, 3\n",
    "print(arr)\n",
    "arr1 = arr.reshape(3, 2)\n",
    "print(arr1)"
   ]
  },
  {
   "cell_type": "markdown",
   "metadata": {},
   "source": [
    "事實上，numpy 有矩陣的資料結構，但官網[NumPy for Matlab users](https://numpy.org/doc/stable/user/numpy-for-matlab-users.html)建議採用 ndarray，原因有：\n",
    "1. 是 numpy 的標準資料結構，且許多 numpy 函式回傳的是 ndarray 而非 matrix\n",
    "2. 能進行元素的運算，與線性代數運算時使用的運算符號有明顯區隔"
   ]
  },
  {
   "cell_type": "code",
   "execution_count": 5,
   "metadata": {},
   "outputs": [
    {
     "data": {
      "text/plain": [
       "matrix([[1, 2, 3],\n",
       "        [4, 5, 6]])"
      ]
     },
     "execution_count": 5,
     "metadata": {},
     "output_type": "execute_result"
    }
   ],
   "source": [
    "matrix = np.mat([[1, 2, 3], [4, 5, 6]])\n",
    "matrix"
   ]
  },
  {
   "cell_type": "code",
   "execution_count": 6,
   "metadata": {},
   "outputs": [
    {
     "name": "stdout",
     "output_type": "stream",
     "text": [
      "[[ 4  2  5]\n",
      " [10  5 11]]\n",
      "[[1 4]\n",
      " [2 5]\n",
      " [3 6]]\n",
      "[[ 1.  0.  0.]\n",
      " [ 1.  1. -1.]\n",
      " [-1.  0.  1.]]\n"
     ]
    }
   ],
   "source": [
    "# 矩陣相乘\n",
    "A = np.array([[1, 2, 3], [4, 5, 6]])\n",
    "B = np.array([[1, 0, 0], [0, 1, 1], [1, 0, 1]])\n",
    "print(np.dot(A, B))     # 矩陣相乘\n",
    "print(A.transpose())    # 矩陣轉置，也可用 A.T\n",
    "print(np.linalg.inv(B)) # 反矩陣"
   ]
  },
  {
   "cell_type": "code",
   "execution_count": 7,
   "metadata": {},
   "outputs": [],
   "source": [
    "# 注意 1：若矩陣為不可逆(singular)將沒有反矩陣，建議用下列寫法\n",
    "try:\n",
    "    inv = np.linalg.inv(B)\n",
    "except np.linalg.LinAlgError:\n",
    "    print('不可逆矩陣')"
   ]
  },
  {
   "cell_type": "code",
   "execution_count": 8,
   "metadata": {},
   "outputs": [
    {
     "name": "stdout",
     "output_type": "stream",
     "text": [
      "[1 2 3]\n",
      "[[1]\n",
      " [2]\n",
      " [3]]\n"
     ]
    }
   ],
   "source": [
    "# 注意 2：轉置對一維陣列沒用\n",
    "arr = np.array([1, 2, 3]) # 一維陣列\n",
    "print(arr.transpose())\n",
    "arr = np.array([[1, 2, 3]]) # 二維陣列\n",
    "print(arr.transpose())"
   ]
  },
  {
   "cell_type": "code",
   "execution_count": 9,
   "metadata": {},
   "outputs": [
    {
     "data": {
      "text/plain": [
       "array([1, 2, 3, 4, 5, 6])"
      ]
     },
     "execution_count": 9,
     "metadata": {},
     "output_type": "execute_result"
    }
   ],
   "source": [
    "# 攤平矩陣\n",
    "A = np.array([[1, 2, 3], [4, 5, 6]])\n",
    "A.flatten()  # 得到一維陣列"
   ]
  },
  {
   "cell_type": "code",
   "execution_count": 10,
   "metadata": {},
   "outputs": [
    {
     "data": {
      "text/plain": [
       "array([[1, 2, 3, 4, 5, 6]])"
      ]
     },
     "execution_count": 10,
     "metadata": {},
     "output_type": "execute_result"
    }
   ],
   "source": [
    "# 得到二維陣列 1×6 (常用)，-1 代表自動使用所需的最大值\n",
    "A.reshape(1, -1) "
   ]
  },
  {
   "cell_type": "code",
   "execution_count": 11,
   "metadata": {},
   "outputs": [
    {
     "name": "stdout",
     "output_type": "stream",
     "text": [
      "1\n",
      "6\n",
      "3.5\n",
      "2.9166666666666665\n",
      "1.707825127659933\n"
     ]
    }
   ],
   "source": [
    "# 找最大最小值、平均值、變異數、標準差\n",
    "print(np.min(A))\n",
    "print(np.max(A))\n",
    "print(np.mean(A))\n",
    "print(np.var(A))\n",
    "print(np.std(A))"
   ]
  },
  {
   "cell_type": "markdown",
   "metadata": {},
   "source": [
    "線性代數的基礎計算"
   ]
  },
  {
   "cell_type": "code",
   "execution_count": 12,
   "metadata": {},
   "outputs": [
    {
     "data": {
      "text/plain": [
       "2"
      ]
     },
     "execution_count": 12,
     "metadata": {},
     "output_type": "execute_result"
    }
   ],
   "source": [
    "# 矩陣的秩(rank)\n",
    "mat = np.array([[1, 2, 3], [0, 2, 2], [1, 4, 5]])\n",
    "np.linalg.matrix_rank(mat)"
   ]
  },
  {
   "cell_type": "code",
   "execution_count": 13,
   "metadata": {},
   "outputs": [
    {
     "data": {
      "text/plain": [
       "0.0"
      ]
     },
     "execution_count": 13,
     "metadata": {},
     "output_type": "execute_result"
    }
   ],
   "source": [
    "# 矩陣的行列式\n",
    "np.linalg.det(mat)"
   ]
  },
  {
   "cell_type": "code",
   "execution_count": 14,
   "metadata": {},
   "outputs": [
    {
     "data": {
      "text/plain": [
       "array([1, 2, 5])"
      ]
     },
     "execution_count": 14,
     "metadata": {},
     "output_type": "execute_result"
    }
   ],
   "source": [
    "# 取得矩陣的對角線元素\n",
    "mat.diagonal()"
   ]
  },
  {
   "cell_type": "code",
   "execution_count": 15,
   "metadata": {},
   "outputs": [
    {
     "name": "stdout",
     "output_type": "stream",
     "text": [
      "[7.16227766e+00 8.37722340e-01 6.69288394e-17]\n",
      "[[ 0.49599178  0.80711093 -0.57735027]\n",
      " [ 0.31369274 -0.51046177 -0.57735027]\n",
      " [ 0.80968452  0.29664916  0.57735027]]\n"
     ]
    }
   ],
   "source": [
    "# 特徵值(eigenvalue)與特徵向量(eigenvector)\n",
    "egn_val, egn_vec = np.linalg.eig(mat)\n",
    "print(egn_val)\n",
    "print(egn_vec)"
   ]
  },
  {
   "cell_type": "code",
   "execution_count": null,
   "metadata": {},
   "outputs": [],
   "source": []
  }
 ],
 "metadata": {
  "kernelspec": {
   "display_name": "Python 3",
   "language": "python",
   "name": "python3"
  },
  "language_info": {
   "codemirror_mode": {
    "name": "ipython",
    "version": 3
   },
   "file_extension": ".py",
   "mimetype": "text/x-python",
   "name": "python",
   "nbconvert_exporter": "python",
   "pygments_lexer": "ipython3",
   "version": "3.7.6"
  }
 },
 "nbformat": 4,
 "nbformat_minor": 4
}
