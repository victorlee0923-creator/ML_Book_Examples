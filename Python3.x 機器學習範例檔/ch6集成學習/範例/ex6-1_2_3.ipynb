{
 "cells": [
  {
   "cell_type": "markdown",
   "metadata": {},
   "source": [
    "# Ch 6. 集成學習\n",
    "[6-1. 以袋裝法集思廣益(Bagging)](#sec6_1)  \n",
    "[6-2. 以提升法互補有無(Boosting)](#sec6_2)  \n",
    "[6-3. 以堆疊法兼容並蓄(Stacking)](#sec6_3)  \n",
    "***"
   ]
  },
  {
   "cell_type": "markdown",
   "metadata": {},
   "source": [
    "<a id='sec6_1'></a>\n",
    "## 6-1. 以袋裝法集思廣益(Bagging)"
   ]
  },
  {
   "cell_type": "code",
   "execution_count": 1,
   "metadata": {},
   "outputs": [
    {
     "data": {
      "text/html": [
       "<div>\n",
       "<style scoped>\n",
       "    .dataframe tbody tr th:only-of-type {\n",
       "        vertical-align: middle;\n",
       "    }\n",
       "\n",
       "    .dataframe tbody tr th {\n",
       "        vertical-align: top;\n",
       "    }\n",
       "\n",
       "    .dataframe thead th {\n",
       "        text-align: right;\n",
       "    }\n",
       "</style>\n",
       "<table border=\"1\" class=\"dataframe\">\n",
       "  <thead>\n",
       "    <tr style=\"text-align: right;\">\n",
       "      <th></th>\n",
       "      <th>Number</th>\n",
       "      <th>Name</th>\n",
       "      <th>Type1</th>\n",
       "      <th>Type2</th>\n",
       "      <th>HP</th>\n",
       "      <th>Attack</th>\n",
       "      <th>Defense</th>\n",
       "      <th>SpecialAtk</th>\n",
       "      <th>SpecialDef</th>\n",
       "      <th>Speed</th>\n",
       "      <th>Generation</th>\n",
       "      <th>Legendary</th>\n",
       "      <th>hasType2</th>\n",
       "    </tr>\n",
       "  </thead>\n",
       "  <tbody>\n",
       "    <tr>\n",
       "      <th>0</th>\n",
       "      <td>1</td>\n",
       "      <td>妙蛙種子</td>\n",
       "      <td>Grass</td>\n",
       "      <td>Poison</td>\n",
       "      <td>45</td>\n",
       "      <td>49</td>\n",
       "      <td>49</td>\n",
       "      <td>65</td>\n",
       "      <td>65</td>\n",
       "      <td>45</td>\n",
       "      <td>1</td>\n",
       "      <td>False</td>\n",
       "      <td>1</td>\n",
       "    </tr>\n",
       "    <tr>\n",
       "      <th>1</th>\n",
       "      <td>2</td>\n",
       "      <td>妙蛙草</td>\n",
       "      <td>Grass</td>\n",
       "      <td>Poison</td>\n",
       "      <td>60</td>\n",
       "      <td>62</td>\n",
       "      <td>63</td>\n",
       "      <td>80</td>\n",
       "      <td>80</td>\n",
       "      <td>60</td>\n",
       "      <td>1</td>\n",
       "      <td>False</td>\n",
       "      <td>1</td>\n",
       "    </tr>\n",
       "    <tr>\n",
       "      <th>2</th>\n",
       "      <td>3</td>\n",
       "      <td>妙蛙花</td>\n",
       "      <td>Grass</td>\n",
       "      <td>Poison</td>\n",
       "      <td>80</td>\n",
       "      <td>82</td>\n",
       "      <td>83</td>\n",
       "      <td>100</td>\n",
       "      <td>100</td>\n",
       "      <td>80</td>\n",
       "      <td>1</td>\n",
       "      <td>False</td>\n",
       "      <td>1</td>\n",
       "    </tr>\n",
       "    <tr>\n",
       "      <th>3</th>\n",
       "      <td>3</td>\n",
       "      <td>妙蛙花Mega</td>\n",
       "      <td>Grass</td>\n",
       "      <td>Poison</td>\n",
       "      <td>80</td>\n",
       "      <td>100</td>\n",
       "      <td>123</td>\n",
       "      <td>122</td>\n",
       "      <td>120</td>\n",
       "      <td>80</td>\n",
       "      <td>1</td>\n",
       "      <td>False</td>\n",
       "      <td>1</td>\n",
       "    </tr>\n",
       "    <tr>\n",
       "      <th>4</th>\n",
       "      <td>4</td>\n",
       "      <td>小火龍</td>\n",
       "      <td>Fire</td>\n",
       "      <td>NaN</td>\n",
       "      <td>39</td>\n",
       "      <td>52</td>\n",
       "      <td>43</td>\n",
       "      <td>60</td>\n",
       "      <td>50</td>\n",
       "      <td>65</td>\n",
       "      <td>1</td>\n",
       "      <td>False</td>\n",
       "      <td>0</td>\n",
       "    </tr>\n",
       "  </tbody>\n",
       "</table>\n",
       "</div>"
      ],
      "text/plain": [
       "   Number     Name  Type1   Type2  HP  Attack  Defense  SpecialAtk  \\\n",
       "0       1     妙蛙種子  Grass  Poison  45      49       49          65   \n",
       "1       2      妙蛙草  Grass  Poison  60      62       63          80   \n",
       "2       3      妙蛙花  Grass  Poison  80      82       83         100   \n",
       "3       3  妙蛙花Mega  Grass  Poison  80     100      123         122   \n",
       "4       4      小火龍   Fire     NaN  39      52       43          60   \n",
       "\n",
       "   SpecialDef  Speed  Generation  Legendary  hasType2  \n",
       "0          65     45           1      False         1  \n",
       "1          80     60           1      False         1  \n",
       "2         100     80           1      False         1  \n",
       "3         120     80           1      False         1  \n",
       "4          50     65           1      False         0  "
      ]
     },
     "execution_count": 1,
     "metadata": {},
     "output_type": "execute_result"
    }
   ],
   "source": [
    "import pandas as pd\n",
    "\n",
    "df = pd.read_csv('Pokemon_894_12.csv')\n",
    "df['hasType2'] = [0 if x else 1 for x in df['Type2'].isna()]\n",
    "df.head(5)"
   ]
  },
  {
   "cell_type": "code",
   "execution_count": 2,
   "metadata": {},
   "outputs": [
    {
     "data": {
      "text/plain": [
       "(670, 6)"
      ]
     },
     "execution_count": 2,
     "metadata": {},
     "output_type": "execute_result"
    }
   ],
   "source": [
    "from sklearn.model_selection import train_test_split\n",
    "\n",
    "X, y = df.loc[:, 'HP':'Speed'], df['hasType2']\n",
    "X_train, X_test, y_train, y_test = train_test_split(X, y,\n",
    "                                                    test_size=0.25,\n",
    "                                                    random_state=0)\n",
    "X_train.shape"
   ]
  },
  {
   "cell_type": "code",
   "execution_count": 3,
   "metadata": {},
   "outputs": [
    {
     "data": {
      "text/html": [
       "<div>\n",
       "<style scoped>\n",
       "    .dataframe tbody tr th:only-of-type {\n",
       "        vertical-align: middle;\n",
       "    }\n",
       "\n",
       "    .dataframe tbody tr th {\n",
       "        vertical-align: top;\n",
       "    }\n",
       "\n",
       "    .dataframe thead th {\n",
       "        text-align: right;\n",
       "    }\n",
       "</style>\n",
       "<table border=\"1\" class=\"dataframe\">\n",
       "  <thead>\n",
       "    <tr style=\"text-align: right;\">\n",
       "      <th></th>\n",
       "      <th>Test score</th>\n",
       "      <th>Train score</th>\n",
       "    </tr>\n",
       "  </thead>\n",
       "  <tbody>\n",
       "    <tr>\n",
       "      <th>KNN</th>\n",
       "      <td>0.562500</td>\n",
       "      <td>0.804478</td>\n",
       "    </tr>\n",
       "    <tr>\n",
       "      <th>bagging</th>\n",
       "      <td>0.580357</td>\n",
       "      <td>0.722388</td>\n",
       "    </tr>\n",
       "  </tbody>\n",
       "</table>\n",
       "</div>"
      ],
      "text/plain": [
       "         Test score  Train score\n",
       "KNN        0.562500     0.804478\n",
       "bagging    0.580357     0.722388"
      ]
     },
     "execution_count": 3,
     "metadata": {},
     "output_type": "execute_result"
    }
   ],
   "source": [
    "from sklearn.ensemble import BaggingClassifier\n",
    "from sklearn.neighbors import KNeighborsClassifier\n",
    "\n",
    "models = {'KNN': KNeighborsClassifier(n_neighbors=3), \n",
    "          'bagging': BaggingClassifier(KNeighborsClassifier(n_neighbors=3), \n",
    "                                       n_estimators=3, \n",
    "                                       max_samples=.8, \n",
    "                                       max_features=.8, \n",
    "                                       n_jobs=-1, \n",
    "                                       random_state=0)}\n",
    "scores = {}\n",
    "for name, clf in models.items():\n",
    "    clf.fit(X_train, y_train)\n",
    "    scores[(name, 'Train score')] = clf.score(X_train, y_train)\n",
    "    scores[(name, 'Test score')] = clf.score(X_test, y_test)\n",
    "    \n",
    "pd.Series(scores).unstack()"
   ]
  },
  {
   "cell_type": "markdown",
   "metadata": {},
   "source": [
    "<a id='sec6_2'></a>\n",
    "## 6-2. 以提升法互補有無(Boosting)"
   ]
  },
  {
   "cell_type": "code",
   "execution_count": 4,
   "metadata": {},
   "outputs": [
    {
     "data": {
      "text/html": [
       "<div>\n",
       "<style scoped>\n",
       "    .dataframe tbody tr th:only-of-type {\n",
       "        vertical-align: middle;\n",
       "    }\n",
       "\n",
       "    .dataframe tbody tr th {\n",
       "        vertical-align: top;\n",
       "    }\n",
       "\n",
       "    .dataframe thead th {\n",
       "        text-align: right;\n",
       "    }\n",
       "</style>\n",
       "<table border=\"1\" class=\"dataframe\">\n",
       "  <thead>\n",
       "    <tr style=\"text-align: right;\">\n",
       "      <th></th>\n",
       "      <th>Test score</th>\n",
       "      <th>Train score</th>\n",
       "    </tr>\n",
       "  </thead>\n",
       "  <tbody>\n",
       "    <tr>\n",
       "      <th>Decision Tree</th>\n",
       "      <td>0.616071</td>\n",
       "      <td>0.607463</td>\n",
       "    </tr>\n",
       "    <tr>\n",
       "      <th>AdaBoost</th>\n",
       "      <td>0.633929</td>\n",
       "      <td>0.607463</td>\n",
       "    </tr>\n",
       "  </tbody>\n",
       "</table>\n",
       "</div>"
      ],
      "text/plain": [
       "               Test score  Train score\n",
       "Decision Tree    0.616071     0.607463\n",
       "AdaBoost         0.633929     0.607463"
      ]
     },
     "execution_count": 4,
     "metadata": {},
     "output_type": "execute_result"
    }
   ],
   "source": [
    "from sklearn.tree import DecisionTreeClassifier\n",
    "from sklearn.ensemble import AdaBoostClassifier\n",
    "\n",
    "models = {'Decision Tree': DecisionTreeClassifier(max_depth=1), \n",
    "          'AdaBoost': AdaBoostClassifier(n_estimators=3, \n",
    "                                         random_state=0)}\n",
    "\n",
    "scores = {}\n",
    "for name, clf in sorted(models.items(), key=lambda x:x[0], reverse=True):\n",
    "    clf.fit(X_train, y_train)\n",
    "    scores[(name, 'Train score')] = clf.score(X_train, y_train)\n",
    "    scores[(name, 'Test score')] = clf.score(X_test, y_test)\n",
    "    \n",
    "pd.Series(scores).unstack().sort_index(ascending=False)"
   ]
  },
  {
   "cell_type": "code",
   "execution_count": 5,
   "metadata": {},
   "outputs": [
    {
     "data": {
      "text/plain": [
       "(670, 5)"
      ]
     },
     "execution_count": 5,
     "metadata": {},
     "output_type": "execute_result"
    }
   ],
   "source": [
    "X_r, y_r = df.loc[:, 'Attack':'Speed'], df['HP']\n",
    "X_r_train, X_r_test, y_r_train, y_r_test = \\\n",
    "    train_test_split(X_r, y_r, test_size=0.25, random_state=0)\n",
    "X_r_train.shape"
   ]
  },
  {
   "cell_type": "code",
   "execution_count": 6,
   "metadata": {},
   "outputs": [
    {
     "data": {
      "text/html": [
       "<div>\n",
       "<style scoped>\n",
       "    .dataframe tbody tr th:only-of-type {\n",
       "        vertical-align: middle;\n",
       "    }\n",
       "\n",
       "    .dataframe tbody tr th {\n",
       "        vertical-align: top;\n",
       "    }\n",
       "\n",
       "    .dataframe thead th {\n",
       "        text-align: right;\n",
       "    }\n",
       "</style>\n",
       "<table border=\"1\" class=\"dataframe\">\n",
       "  <thead>\n",
       "    <tr style=\"text-align: right;\">\n",
       "      <th></th>\n",
       "      <th>Test score</th>\n",
       "      <th>Train score</th>\n",
       "    </tr>\n",
       "  </thead>\n",
       "  <tbody>\n",
       "    <tr>\n",
       "      <th>Decision Tree</th>\n",
       "      <td>0.226408</td>\n",
       "      <td>0.413383</td>\n",
       "    </tr>\n",
       "    <tr>\n",
       "      <th>AdaBoost</th>\n",
       "      <td>0.339387</td>\n",
       "      <td>0.446392</td>\n",
       "    </tr>\n",
       "  </tbody>\n",
       "</table>\n",
       "</div>"
      ],
      "text/plain": [
       "               Test score  Train score\n",
       "Decision Tree    0.226408     0.413383\n",
       "AdaBoost         0.339387     0.446392"
      ]
     },
     "execution_count": 6,
     "metadata": {},
     "output_type": "execute_result"
    }
   ],
   "source": [
    "from sklearn.tree import DecisionTreeRegressor\n",
    "from sklearn.ensemble import AdaBoostRegressor\n",
    "\n",
    "reg = DecisionTreeRegressor(max_depth=3)\n",
    "models = {'Decision Tree': reg, \n",
    "          'AdaBoost': AdaBoostRegressor(reg, learning_rate=.01, \n",
    "                                        random_state=0)}\n",
    "\n",
    "scores = {}\n",
    "for name, clf in sorted(models.items(), key=lambda x:x[0], reverse=True):\n",
    "    clf.fit(X_r_train, y_r_train)\n",
    "    scores[(name, 'Train score')] = clf.score(X_r_train, y_r_train)\n",
    "    scores[(name, 'Test score')] = clf.score(X_r_test, y_r_test)\n",
    "    \n",
    "pd.Series(scores).unstack().sort_index(ascending=False)"
   ]
  },
  {
   "cell_type": "markdown",
   "metadata": {},
   "source": [
    "<a id='sec6_3'></a>\n",
    "## 6-3. 以堆疊法兼容並蓄(Stacking)\n",
    "#### Voting"
   ]
  },
  {
   "cell_type": "code",
   "execution_count": 7,
   "metadata": {},
   "outputs": [
    {
     "data": {
      "text/plain": [
       "array([1, 1, 1, 0, 1, 1, 0, 0, 1, 1], dtype=int64)"
      ]
     },
     "execution_count": 7,
     "metadata": {},
     "output_type": "execute_result"
    }
   ],
   "source": [
    "from sklearn.linear_model import LogisticRegression\n",
    "from sklearn.naive_bayes import GaussianNB\n",
    "from sklearn.ensemble import RandomForestClassifier, VotingClassifier\n",
    "\n",
    "clf1 = LogisticRegression()\n",
    "clf2 = RandomForestClassifier()\n",
    "clf3 = GaussianNB()\n",
    "\n",
    "en_clf1 = VotingClassifier(estimators=[\n",
    "    ('lr', clf1), ('rf', clf2), ('nb', clf3)], \n",
    "                           voting='hard')\n",
    "\n",
    "en_clf1.fit(X_train, y_train)\n",
    "en_clf1.predict(X_test)[:10]"
   ]
  },
  {
   "cell_type": "code",
   "execution_count": 8,
   "metadata": {},
   "outputs": [
    {
     "name": "stdout",
     "output_type": "stream",
     "text": [
      "真實類別： [1 1 0 0 1 1 1 0 0 1]\n",
      "邏輯斯迴歸分類結果： [0 0 1 1 0 0 1 1 1 0]\n",
      "隨機森林分類結果： [1 0 1 1 0 0 1 1 1 0]\n"
     ]
    }
   ],
   "source": [
    "# 記錄準確率\n",
    "scores = {}\n",
    "name = 'Voting (hard)'\n",
    "scores[(name, 'Train score')] = en_clf1.score(X_train, y_train)\n",
    "scores[(name, 'Test score')] = en_clf1.score(X_test, y_test)\n",
    "\n",
    "# 取出每個模型的分類結果\n",
    "print('真實類別：', y_test[:10].values)\n",
    "print('邏輯斯迴歸分類結果：', en_clf1.named_estimators_['lr'].predict(X)[:10])\n",
    "print('隨機森林分類結果：', en_clf1.named_estimators_['rf'].predict(X)[:10])"
   ]
  },
  {
   "cell_type": "code",
   "execution_count": 9,
   "metadata": {},
   "outputs": [
    {
     "data": {
      "text/plain": [
       "array([1, 1, 1, 0, 1, 1, 0, 1, 1, 1], dtype=int64)"
      ]
     },
     "execution_count": 9,
     "metadata": {},
     "output_type": "execute_result"
    }
   ],
   "source": [
    "en_clf2 = VotingClassifier(estimators=[\n",
    "    ('lr', clf1), ('rf', clf2), ('gnb', clf3)], \n",
    "                           voting='soft')\n",
    "en_clf2.fit(X_train, y_train)\n",
    "en_clf2.predict(X_test)[:10]"
   ]
  },
  {
   "cell_type": "code",
   "execution_count": 10,
   "metadata": {},
   "outputs": [
    {
     "name": "stdout",
     "output_type": "stream",
     "text": [
      "真實類別： 1\n",
      "邏輯斯迴歸分類機率： [0.35726441 0.64273559]\n",
      "隨機森林分類機率： [0.42716667 0.57283333]\n",
      "單純貝氏分類機率： [0.43394856 0.56605144]\n"
     ]
    }
   ],
   "source": [
    "name = 'Voting (soft)'\n",
    "scores[(name, 'Train score')] = en_clf2.score(X_train, y_train)\n",
    "scores[(name, 'Test score')] = en_clf2.score(X_test, y_test)\n",
    "\n",
    "# 取出每個模型的預測機率\n",
    "prob = en_clf2.transform(X_test)\n",
    "print('真實類別：', y_test.iloc[0])\n",
    "print('邏輯斯迴歸分類機率：', prob[0][:2])\n",
    "print('隨機森林分類機率：', prob[0][2:4])\n",
    "print('單純貝氏分類機率：', prob[0][4:])"
   ]
  },
  {
   "cell_type": "code",
   "execution_count": 11,
   "metadata": {},
   "outputs": [
    {
     "data": {
      "text/plain": [
       "array([1, 1, 1, 0, 1, 1, 0, 1, 1, 1], dtype=int64)"
      ]
     },
     "execution_count": 11,
     "metadata": {},
     "output_type": "execute_result"
    }
   ],
   "source": [
    "en_clf3 = VotingClassifier(estimators=[\n",
    "    ('lr', clf1), ('rf', clf2), ('gnb', clf3)], \n",
    "                           voting='soft', weights=[2,1,1])\n",
    "en_clf3.fit(X_train, y_train)\n",
    "en_clf3.predict(X_test)[:10]"
   ]
  },
  {
   "cell_type": "code",
   "execution_count": 12,
   "metadata": {},
   "outputs": [
    {
     "data": {
      "text/html": [
       "<div>\n",
       "<style scoped>\n",
       "    .dataframe tbody tr th:only-of-type {\n",
       "        vertical-align: middle;\n",
       "    }\n",
       "\n",
       "    .dataframe tbody tr th {\n",
       "        vertical-align: top;\n",
       "    }\n",
       "\n",
       "    .dataframe thead th {\n",
       "        text-align: right;\n",
       "    }\n",
       "</style>\n",
       "<table border=\"1\" class=\"dataframe\">\n",
       "  <thead>\n",
       "    <tr style=\"text-align: right;\">\n",
       "      <th></th>\n",
       "      <th>Test score</th>\n",
       "      <th>Train score</th>\n",
       "    </tr>\n",
       "  </thead>\n",
       "  <tbody>\n",
       "    <tr>\n",
       "      <th>Voting (hard)</th>\n",
       "      <td>0.589286</td>\n",
       "      <td>0.661194</td>\n",
       "    </tr>\n",
       "    <tr>\n",
       "      <th>Voting (soft + weight)</th>\n",
       "      <td>0.598214</td>\n",
       "      <td>0.791045</td>\n",
       "    </tr>\n",
       "    <tr>\n",
       "      <th>Voting (soft)</th>\n",
       "      <td>0.607143</td>\n",
       "      <td>0.849254</td>\n",
       "    </tr>\n",
       "  </tbody>\n",
       "</table>\n",
       "</div>"
      ],
      "text/plain": [
       "                        Test score  Train score\n",
       "Voting (hard)             0.589286     0.661194\n",
       "Voting (soft + weight)    0.598214     0.791045\n",
       "Voting (soft)             0.607143     0.849254"
      ]
     },
     "execution_count": 12,
     "metadata": {},
     "output_type": "execute_result"
    }
   ],
   "source": [
    "name = 'Voting (soft + weight)'\n",
    "scores[(name, 'Train score')] = en_clf3.score(X_train, y_train)\n",
    "scores[(name, 'Test score')] = en_clf3.score(X_test, y_test)\n",
    "\n",
    "pd.Series(scores).unstack().sort_index(ascending=True)"
   ]
  },
  {
   "cell_type": "markdown",
   "metadata": {},
   "source": [
    "#### Stacking"
   ]
  },
  {
   "cell_type": "code",
   "execution_count": 13,
   "metadata": {},
   "outputs": [
    {
     "data": {
      "text/html": [
       "<div>\n",
       "<style scoped>\n",
       "    .dataframe tbody tr th:only-of-type {\n",
       "        vertical-align: middle;\n",
       "    }\n",
       "\n",
       "    .dataframe tbody tr th {\n",
       "        vertical-align: top;\n",
       "    }\n",
       "\n",
       "    .dataframe thead th {\n",
       "        text-align: right;\n",
       "    }\n",
       "</style>\n",
       "<table border=\"1\" class=\"dataframe\">\n",
       "  <thead>\n",
       "    <tr style=\"text-align: right;\">\n",
       "      <th></th>\n",
       "      <th>Test score</th>\n",
       "      <th>Train score</th>\n",
       "    </tr>\n",
       "  </thead>\n",
       "  <tbody>\n",
       "    <tr>\n",
       "      <th>K-NN</th>\n",
       "      <td>0.575893</td>\n",
       "      <td>0.995522</td>\n",
       "    </tr>\n",
       "    <tr>\n",
       "      <th>Naive Bayes</th>\n",
       "      <td>0.611607</td>\n",
       "      <td>0.576119</td>\n",
       "    </tr>\n",
       "    <tr>\n",
       "      <th>Random Forest</th>\n",
       "      <td>0.562500</td>\n",
       "      <td>0.888060</td>\n",
       "    </tr>\n",
       "    <tr>\n",
       "      <th>Stacking</th>\n",
       "      <td>0.620536</td>\n",
       "      <td>0.907463</td>\n",
       "    </tr>\n",
       "  </tbody>\n",
       "</table>\n",
       "</div>"
      ],
      "text/plain": [
       "               Test score  Train score\n",
       "K-NN             0.575893     0.995522\n",
       "Naive Bayes      0.611607     0.576119\n",
       "Random Forest    0.562500     0.888060\n",
       "Stacking         0.620536     0.907463"
      ]
     },
     "execution_count": 13,
     "metadata": {},
     "output_type": "execute_result"
    }
   ],
   "source": [
    "from sklearn.neighbors import KNeighborsClassifier\n",
    "from sklearn.ensemble import StackingClassifier\n",
    "\n",
    "clf1 = KNeighborsClassifier(n_neighbors=1)\n",
    "clf2 = RandomForestClassifier(max_depth=7, random_state=0)\n",
    "clf3 = GaussianNB()\n",
    "\n",
    "lr = LogisticRegression()\n",
    "estimators = [('K-NN', clf1), ('rf', clf2), ('nb', clf3)]\n",
    "sclf = StackingClassifier(estimators=estimators, \n",
    "                          final_estimator=lr, n_jobs=-1)\n",
    "titles = ('K-NN', 'Random Forest', 'Naive Bayes',\n",
    "          'Stacking')\n",
    "\n",
    "models = (clf1, clf2, clf3, sclf)\n",
    "models = [clf.fit(X_train, y_train) for clf in models]\n",
    "\n",
    "scores = {}\n",
    "for clf, title in zip(models, titles):\n",
    "    scores[(title, 'Train score')] = clf.score(X_train, y_train)\n",
    "    scores[(title, 'Test score')] = clf.score(X_test, y_test)\n",
    "\n",
    "pd.Series(scores).unstack().sort_index(ascending=True)"
   ]
  },
  {
   "cell_type": "code",
   "execution_count": 14,
   "metadata": {},
   "outputs": [
    {
     "name": "stdout",
     "output_type": "stream",
     "text": [
      "K-NN 的權重 = 0.4070787575559543\n",
      "rf 的權重 = 0.8704445947940478\n",
      "nb 的權重 = 0.9177966370470659\n"
     ]
    }
   ],
   "source": [
    "for i, est in enumerate(estimators):\n",
    "    print(est[0], '的權重 =', sclf.final_estimator_.coef_[0][i])"
   ]
  },
  {
   "cell_type": "code",
   "execution_count": 15,
   "metadata": {},
   "outputs": [
    {
     "data": {
      "text/plain": [
       "array([0.49104478, 0.50149254, 0.52985075, 0.51791045, 0.57014925,\n",
       "       0.57761194, 0.58208955, 0.59850746, 0.60149254, 0.60298507])"
      ]
     },
     "execution_count": 15,
     "metadata": {},
     "output_type": "execute_result"
    }
   ],
   "source": [
    "# 繪製學習曲線\n",
    "import numpy as np\n",
    "from sklearn.model_selection import learning_curve\n",
    "\n",
    "train_sizes, train_scores, test_scores = \\\n",
    "    learning_curve(estimator=sclf, X=X_train, y=y_train, \n",
    "                   train_sizes=np.linspace(0.1, 1.0, 10), \n",
    "                   cv=10, n_jobs=-1)\n",
    "\n",
    "train_mean = np.mean(train_scores, axis=1)\n",
    "train_std = np.std(train_scores, axis=1)\n",
    "test_mean = np.mean(test_scores, axis=1)\n",
    "test_std = np.std(test_scores, axis=1)\n",
    "test_mean"
   ]
  },
  {
   "cell_type": "code",
   "execution_count": 16,
   "metadata": {},
   "outputs": [
    {
     "data": {
      "image/png": "[encoded data removed]",
      "text/plain": [
       "<Figure size 432x288 with 1 Axes>"
      ]
     },
     "metadata": {
      "needs_background": "light"
     },
     "output_type": "display_data"
    }
   ],
   "source": [
    "import matplotlib.pyplot as plt\n",
    "\n",
    "plt.plot(train_sizes, train_mean, color='blue', marker='o', \n",
    "         markersize=5, label='Training accuracy')\n",
    "plt.fill_between(train_sizes, \n",
    "                 train_mean + train_std, \n",
    "                 train_mean - train_std, \n",
    "                 alpha=.1, color='blue')\n",
    "plt.plot(train_sizes, test_mean, color='green', ls='--',\n",
    "         marker='s', markersize=5, label='Validation accuracy')\n",
    "plt.fill_between(train_sizes, \n",
    "                 test_mean + test_std, \n",
    "                 test_mean - test_std, \n",
    "                 alpha=.1, color='green')\n",
    "plt.grid()\n",
    "plt.xlabel('Number of Training Size')\n",
    "plt.ylabel('Accuracy')\n",
    "plt.legend();"
   ]
  },
  {
   "cell_type": "code",
   "execution_count": null,
   "metadata": {},
   "outputs": [],
   "source": []
  }
 ],
 "metadata": {
  "kernelspec": {
   "display_name": "Python 3",
   "language": "python",
   "name": "python3"
  },
  "language_info": {
   "codemirror_mode": {
    "name": "ipython",
    "version": 3
   },
   "file_extension": ".py",
   "mimetype": "text/x-python",
   "name": "python",
   "nbconvert_exporter": "python",
   "pygments_lexer": "ipython3",
   "version": "3.7.6"
  }
 },
 "nbformat": 4,
 "nbformat_minor": 4
}
