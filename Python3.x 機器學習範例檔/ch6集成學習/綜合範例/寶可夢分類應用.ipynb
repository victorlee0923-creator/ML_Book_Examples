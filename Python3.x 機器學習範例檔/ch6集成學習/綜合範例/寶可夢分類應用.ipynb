{
 "cells": [
  {
   "cell_type": "code",
   "execution_count": 1,
   "metadata": {},
   "outputs": [
    {
     "data": {
      "text/html": [
       "<div>\n",
       "<style scoped>\n",
       "    .dataframe tbody tr th:only-of-type {\n",
       "        vertical-align: middle;\n",
       "    }\n",
       "\n",
       "    .dataframe tbody tr th {\n",
       "        vertical-align: top;\n",
       "    }\n",
       "\n",
       "    .dataframe thead th {\n",
       "        text-align: right;\n",
       "    }\n",
       "</style>\n",
       "<table border=\"1\" class=\"dataframe\">\n",
       "  <thead>\n",
       "    <tr style=\"text-align: right;\">\n",
       "      <th></th>\n",
       "      <th>Defense</th>\n",
       "      <th>SpecialAtk</th>\n",
       "    </tr>\n",
       "  </thead>\n",
       "  <tbody>\n",
       "    <tr>\n",
       "      <th>0</th>\n",
       "      <td>72</td>\n",
       "      <td>90</td>\n",
       "    </tr>\n",
       "    <tr>\n",
       "      <th>1</th>\n",
       "      <td>79</td>\n",
       "      <td>100</td>\n",
       "    </tr>\n",
       "    <tr>\n",
       "      <th>2</th>\n",
       "      <td>123</td>\n",
       "      <td>122</td>\n",
       "    </tr>\n",
       "    <tr>\n",
       "      <th>3</th>\n",
       "      <td>65</td>\n",
       "      <td>80</td>\n",
       "    </tr>\n",
       "    <tr>\n",
       "      <th>4</th>\n",
       "      <td>50</td>\n",
       "      <td>60</td>\n",
       "    </tr>\n",
       "  </tbody>\n",
       "</table>\n",
       "</div>"
      ],
      "text/plain": [
       "   Defense  SpecialAtk\n",
       "0       72          90\n",
       "1       79         100\n",
       "2      123         122\n",
       "3       65          80\n",
       "4       50          60"
      ]
     },
     "execution_count": 1,
     "metadata": {},
     "output_type": "execute_result"
    }
   ],
   "source": [
    "import pandas as pd\n",
    "seed = 0\n",
    "\n",
    "# 載入寶可夢資料\n",
    "df = pd.read_csv('pokemon.csv')\n",
    "\n",
    "# 取出特徵欄位\n",
    "features = ['Defense', 'SpecialAtk']\n",
    "X = df[features]\n",
    "y = df['Type1']\n",
    "X.head()"
   ]
  },
  {
   "cell_type": "code",
   "execution_count": 2,
   "metadata": {},
   "outputs": [
    {
     "data": {
      "text/plain": [
       "(119, 2)"
      ]
     },
     "execution_count": 2,
     "metadata": {},
     "output_type": "execute_result"
    }
   ],
   "source": [
    "# 編碼 Type1\n",
    "from sklearn import preprocessing\n",
    "le = preprocessing.LabelEncoder()\n",
    "y = le.fit_transform(y)\n",
    "\n",
    "# 切分訓練集、測試集，除以下參數設定外，其餘為預設值\n",
    "from sklearn.model_selection import train_test_split\n",
    "X_train, X_test, y_train, y_test = train_test_split(X, y, test_size=0.2, \n",
    "                                                    random_state=seed)\n",
    "X_train.shape"
   ]
  },
  {
   "cell_type": "code",
   "execution_count": 3,
   "metadata": {},
   "outputs": [
    {
     "data": {
      "text/plain": [
       "array([[ 0.99909555,  1.07515237],\n",
       "       [-0.43630734,  0.6497388 ],\n",
       "       [-0.43630734,  0.89789671]])"
      ]
     },
     "execution_count": 3,
     "metadata": {},
     "output_type": "execute_result"
    }
   ],
   "source": [
    "# 特徵標準化\n",
    "from sklearn.preprocessing import StandardScaler\n",
    "\n",
    "scalar = StandardScaler()\n",
    "scalar.fit(X_train)\n",
    "X_train_std = scalar.transform(X_train)\n",
    "X_train_std[:3]"
   ]
  },
  {
   "cell_type": "markdown",
   "metadata": {},
   "source": [
    "## 訓練集"
   ]
  },
  {
   "cell_type": "code",
   "execution_count": 4,
   "metadata": {},
   "outputs": [],
   "source": [
    "# 分別建立 RandomForest, kNN, SVC, Voting，除以下參數設定外，其餘為預設值\n",
    "# #############################################################################\n",
    "# RandomForest: n_estimators=10, random_state=seed\n",
    "# kNN: n_neighbors=4\n",
    "# SVC: gamma=.1, kernel='rbf', probability=True\n",
    "# Voting: estimators=[('RF', clf1), ('kNN', clf2), ('SVC', clf3)], \n",
    "#         voting='hard', n_jobs=-1\n",
    "# #############################################################################    \n",
    "from sklearn.ensemble import RandomForestClassifier\n",
    "from sklearn.neighbors import KNeighborsClassifier\n",
    "from sklearn.svm import SVC\n",
    "from sklearn.ensemble import VotingClassifier\n",
    "\n",
    "clf1 = RandomForestClassifier(n_estimators=10, random_state=seed)\n",
    "clf2 = KNeighborsClassifier(n_neighbors=4)\n",
    "clf3 = SVC(gamma=.1, kernel='rbf', probability=True)\n",
    "vclf = VotingClassifier(estimators=[('RF', clf1), ('kNN', clf2), \n",
    "                                    ('SVC', clf3)],\n",
    "                        voting='hard', n_jobs=-1)\n",
    "\n",
    "lst_name = ['RF', 'kNN', 'SVC', 'Voting']\n",
    "lst_clf = [clf1, clf2, clf3, vclf]"
   ]
  },
  {
   "cell_type": "code",
   "execution_count": 5,
   "metadata": {},
   "outputs": [],
   "source": [
    "# 建立函式 kfold_cross_validation() 執行 k 次交叉驗證，並回傳準確度的平均值\n",
    "from sklearn.pipeline import make_pipeline\n",
    "from sklearn.model_selection import KFold, cross_val_score\n",
    "\n",
    "def kfold_cross_validation(scalar, model):\n",
    "    \"\"\" 函式描述：執行 k 次交叉驗證\n",
    "    參數：\n",
    "        scalar (StandardScaler):標準化適配的結果\n",
    "        model: 機器學習模型\n",
    "\n",
    "    回傳：\n",
    "        k 次交叉驗證的準確度(accuracy)平均值\n",
    "    \"\"\"\n",
    "    # 建立管線，用來進行(標準化 -> 機器學習模型)\n",
    "    pipeline = make_pipeline(scalar, model)\n",
    "    \n",
    "    # 產生 k 次交叉驗證，除以下參數設定外，其餘為預設值\n",
    "    # #########################################################################\n",
    "    # n_splits=5, shuffle=True, random_state=seed\n",
    "    # #########################################################################\n",
    "    kf = KFold(n_splits=5, shuffle=True, random_state=seed)\n",
    "    \n",
    "    # 執行 k 次交叉驗證\n",
    "    # #########################################################################\n",
    "    # pipeline, X_train, y_train, cv=kf, scoring='accuracy', n_jobs=-1\n",
    "    # #########################################################################\n",
    "    cv_result = cross_val_score(pipeline, X_train, y_train, \n",
    "                                cv=kf, scoring='accuracy', n_jobs=-1)\n",
    "    \n",
    "    return cv_result.mean()"
   ]
  },
  {
   "cell_type": "code",
   "execution_count": 6,
   "metadata": {},
   "outputs": [
    {
     "name": "stdout",
     "output_type": "stream",
     "text": [
      "RF : accuracy= 0.5293\n",
      "kNN : accuracy= 0.4960\n",
      "SVC : accuracy= 0.5630\n",
      "Voting : accuracy= 0.5547\n"
     ]
    }
   ],
   "source": [
    "# 利用 kfold_cross_validation()，分別讓分類器執行 k 次交叉驗證，計算準確度(accuracy)\n",
    "for name, clf in zip(lst_name, lst_clf):\n",
    "    acc = kfold_cross_validation(scalar, clf)\n",
    "    print(name, ': accuracy= %.4f' % acc)"
   ]
  },
  {
   "cell_type": "markdown",
   "metadata": {},
   "source": [
    "## 測試集"
   ]
  },
  {
   "cell_type": "code",
   "execution_count": 7,
   "metadata": {},
   "outputs": [],
   "source": [
    "for model in lst_clf:\n",
    "    model.fit(X_train_std, y_train)\n",
    "\n",
    "# 利用訓練集的標準化結果，針對測試集進行標準化\n",
    "X_test_std = scalar.transform(X_test)"
   ]
  },
  {
   "cell_type": "code",
   "execution_count": 8,
   "metadata": {},
   "outputs": [
    {
     "name": "stdout",
     "output_type": "stream",
     "text": [
      "--- RF ---\n",
      "Misclassified samples: 14\n",
      "Accuracy: 0.5333\n",
      "--- kNN ---\n",
      "Misclassified samples: 14\n",
      "Accuracy: 0.5333\n",
      "--- SVC ---\n",
      "Misclassified samples: 15\n",
      "Accuracy: 0.5000\n",
      "--- Voting ---\n",
      "Misclassified samples: 13\n",
      "Accuracy: 0.5667\n"
     ]
    }
   ],
   "source": [
    "# 上述分類器針對測試集進行預測，並計算分類錯誤的個數與準確度\n",
    "from sklearn.metrics import accuracy_score\n",
    "\n",
    "for name, clf in zip(lst_name, lst_clf):\n",
    "    y_pred = clf.predict(X_test_std)\n",
    "    print('---', name, '---')\n",
    "    print('Misclassified samples: %d' % (y_test != y_pred).sum())\n",
    "    print('Accuracy: %.4f' % accuracy_score(y_test, y_pred))"
   ]
  },
  {
   "cell_type": "code",
   "execution_count": 9,
   "metadata": {},
   "outputs": [
    {
     "name": "stdout",
     "output_type": "stream",
     "text": [
      "===== 預測分類 ======\n",
      "RF ->['Water']\n",
      "kNN ->['Bug']\n",
      "SVC ->['Water']\n",
      "Voting ->['Water']\n"
     ]
    }
   ],
   "source": [
    "# 分別利用上述分類器預測分類    \n",
    "print(\"===== 預測分類 ======\")\n",
    "new = [100, 70]\n",
    "new_std = scalar.transform([new])\n",
    "\n",
    "for name, clf in zip(lst_name, lst_clf):\n",
    "    y_pred = clf.predict(new_std)\n",
    "    print(name, '->', end='')\n",
    "    print(le.inverse_transform(y_pred))"
   ]
  },
  {
   "cell_type": "code",
   "execution_count": null,
   "metadata": {},
   "outputs": [],
   "source": []
  }
 ],
 "metadata": {
  "kernelspec": {
   "display_name": "Python 3",
   "language": "python",
   "name": "python3"
  },
  "language_info": {
   "codemirror_mode": {
    "name": "ipython",
    "version": 3
   },
   "file_extension": ".py",
   "mimetype": "text/x-python",
   "name": "python",
   "nbconvert_exporter": "python",
   "pygments_lexer": "ipython3",
   "version": "3.7.6"
  }
 },
 "nbformat": 4,
 "nbformat_minor": 4
}
