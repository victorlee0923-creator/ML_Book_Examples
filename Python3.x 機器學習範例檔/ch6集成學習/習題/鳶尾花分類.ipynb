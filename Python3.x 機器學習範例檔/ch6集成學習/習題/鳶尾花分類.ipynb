{
 "cells": [
  {
   "cell_type": "code",
   "execution_count": 1,
   "metadata": {},
   "outputs": [
    {
     "name": "stdout",
     "output_type": "stream",
     "text": [
      "['sepal length (cm)', 'sepal width (cm)']\n"
     ]
    }
   ],
   "source": [
    "from sklearn.datasets import load_iris\n",
    "\n",
    "iris = load_iris()\n",
    "feature_name = iris.feature_names[0:2]\n",
    "X = iris.data[:, 0:2]\n",
    "y = iris.target\n",
    "\n",
    "print(feature_name)"
   ]
  },
  {
   "cell_type": "code",
   "execution_count": 2,
   "metadata": {},
   "outputs": [
    {
     "data": {
      "text/plain": [
       "(105, 2)"
      ]
     },
     "execution_count": 2,
     "metadata": {},
     "output_type": "execute_result"
    }
   ],
   "source": [
    "from sklearn.model_selection import train_test_split\n",
    "\n",
    "X_train, X_test, y_train, y_test = train_test_split(X, y,\n",
    "                                                    test_size=0.3,\n",
    "                                                    random_state=0)\n",
    "X_train.shape"
   ]
  },
  {
   "cell_type": "code",
   "execution_count": 3,
   "metadata": {},
   "outputs": [
    {
     "data": {
      "text/html": [
       "<div>\n",
       "<style scoped>\n",
       "    .dataframe tbody tr th:only-of-type {\n",
       "        vertical-align: middle;\n",
       "    }\n",
       "\n",
       "    .dataframe tbody tr th {\n",
       "        vertical-align: top;\n",
       "    }\n",
       "\n",
       "    .dataframe thead th {\n",
       "        text-align: right;\n",
       "    }\n",
       "</style>\n",
       "<table border=\"1\" class=\"dataframe\">\n",
       "  <thead>\n",
       "    <tr style=\"text-align: right;\">\n",
       "      <th></th>\n",
       "      <th>Test score</th>\n",
       "      <th>Train score</th>\n",
       "    </tr>\n",
       "  </thead>\n",
       "  <tbody>\n",
       "    <tr>\n",
       "      <th>K-NN</th>\n",
       "      <td>0.711111</td>\n",
       "      <td>0.904762</td>\n",
       "    </tr>\n",
       "    <tr>\n",
       "      <th>Naive Bayes</th>\n",
       "      <td>0.800000</td>\n",
       "      <td>0.809524</td>\n",
       "    </tr>\n",
       "    <tr>\n",
       "      <th>Random Forest</th>\n",
       "      <td>0.666667</td>\n",
       "      <td>0.942857</td>\n",
       "    </tr>\n",
       "    <tr>\n",
       "      <th>Stacking</th>\n",
       "      <td>0.822222</td>\n",
       "      <td>0.838095</td>\n",
       "    </tr>\n",
       "  </tbody>\n",
       "</table>\n",
       "</div>"
      ],
      "text/plain": [
       "               Test score  Train score\n",
       "K-NN             0.711111     0.904762\n",
       "Naive Bayes      0.800000     0.809524\n",
       "Random Forest    0.666667     0.942857\n",
       "Stacking         0.822222     0.838095"
      ]
     },
     "execution_count": 3,
     "metadata": {},
     "output_type": "execute_result"
    }
   ],
   "source": [
    "import pandas as pd\n",
    "from sklearn.neighbors import KNeighborsClassifier\n",
    "from sklearn.ensemble import RandomForestClassifier, StackingClassifier\n",
    "from sklearn.naive_bayes import GaussianNB\n",
    "from sklearn.linear_model import LogisticRegression\n",
    "\n",
    "clf1 = KNeighborsClassifier(n_neighbors=2)\n",
    "clf2 = RandomForestClassifier(random_state=0)\n",
    "clf3 = GaussianNB()\n",
    "\n",
    "lr = LogisticRegression()\n",
    "estimators = [('K-NN', clf1), ('rf', clf2), ('nb', clf3)]\n",
    "sclf = StackingClassifier(estimators=estimators, \n",
    "                          final_estimator=lr, n_jobs=-1)\n",
    "titles = ('K-NN', 'Random Forest', 'Naive Bayes',\n",
    "          'Stacking')\n",
    "\n",
    "models = (clf1, clf2, clf3, sclf)\n",
    "models = [clf.fit(X_train, y_train) for clf in models]\n",
    "\n",
    "scores = {}\n",
    "for clf, title in zip(models, titles):\n",
    "    scores[(title, 'Train score')] = clf.score(X_train, y_train)\n",
    "    scores[(title, 'Test score')] = clf.score(X_test, y_test)\n",
    "\n",
    "pd.Series(scores).unstack().sort_index(ascending=True)"
   ]
  },
  {
   "cell_type": "code",
   "execution_count": 4,
   "metadata": {},
   "outputs": [
    {
     "data": {
      "text/plain": [
       "array([0.44      , 0.43545455, 0.69545455, 0.75090909, 0.77090909,\n",
       "       0.74181818, 0.77181818, 0.79090909, 0.79      , 0.79090909])"
      ]
     },
     "execution_count": 4,
     "metadata": {},
     "output_type": "execute_result"
    }
   ],
   "source": [
    "# 繪製學習曲線\n",
    "import numpy as np\n",
    "from sklearn.model_selection import learning_curve\n",
    "\n",
    "train_sizes, train_scores, test_scores = \\\n",
    "    learning_curve(estimator=sclf, X=X_train, y=y_train, \n",
    "                   train_sizes=np.linspace(0.1, 1.0, 10), \n",
    "                   cv=10, n_jobs=-1)\n",
    "\n",
    "train_mean = np.mean(train_scores, axis=1)\n",
    "train_std = np.std(train_scores, axis=1)\n",
    "test_mean = np.mean(test_scores, axis=1)\n",
    "test_std = np.std(test_scores, axis=1)\n",
    "test_mean"
   ]
  },
  {
   "cell_type": "code",
   "execution_count": 5,
   "metadata": {},
   "outputs": [
    {
     "data": {
      "image/png": "[encoded data removed]",
      "text/plain": [
       "<Figure size 432x288 with 1 Axes>"
      ]
     },
     "metadata": {
      "needs_background": "light"
     },
     "output_type": "display_data"
    }
   ],
   "source": [
    "import matplotlib.pyplot as plt\n",
    "\n",
    "plt.plot(train_sizes, train_mean, color='blue', marker='o', \n",
    "         markersize=5, label='Training accuracy')\n",
    "plt.fill_between(train_sizes, \n",
    "                 train_mean + train_std, \n",
    "                 train_mean - train_std, \n",
    "                 alpha=.1, color='blue')\n",
    "plt.plot(train_sizes, test_mean, color='green', ls='--',\n",
    "         marker='s', markersize=5, label='Validation accuracy')\n",
    "plt.fill_between(train_sizes, \n",
    "                 test_mean + test_std, \n",
    "                 test_mean - test_std, \n",
    "                 alpha=.1, color='green')\n",
    "plt.grid()\n",
    "plt.xlabel('Number of Training Size')\n",
    "plt.ylabel('Accuracy')\n",
    "plt.legend();"
   ]
  },
  {
   "cell_type": "code",
   "execution_count": null,
   "metadata": {},
   "outputs": [],
   "source": []
  }
 ],
 "metadata": {
  "kernelspec": {
   "display_name": "Python 3",
   "language": "python",
   "name": "python3"
  },
  "language_info": {
   "codemirror_mode": {
    "name": "ipython",
    "version": 3
   },
   "file_extension": ".py",
   "mimetype": "text/x-python",
   "name": "python",
   "nbconvert_exporter": "python",
   "pygments_lexer": "ipython3",
   "version": "3.7.6"
  }
 },
 "nbformat": 4,
 "nbformat_minor": 4
}
